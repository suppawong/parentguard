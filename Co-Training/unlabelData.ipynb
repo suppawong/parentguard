{
 "cells": [
  {
   "cell_type": "code",
   "execution_count": 2,
   "metadata": {},
   "outputs": [],
   "source": [
    "import pandas as pd\n",
    "import numpy as np\n",
    "import os\n",
    "from tqdm.auto import tqdm\n",
    "pd.options.display.max_columns = None"
   ]
  },
  {
   "cell_type": "code",
   "execution_count": 2,
   "metadata": {},
   "outputs": [],
   "source": [
    "files = [i for i in os.listdir() if '.csv' in str(i) and not('all' in str(i))]"
   ]
  },
  {
   "cell_type": "code",
   "execution_count": 3,
   "metadata": {},
   "outputs": [
    {
     "data": {
      "text/plain": [
       "['JeebNuNoi_comment.csv',\n",
       " 'hearonboard_comment.csv',\n",
       " 'ejan2016_comment.csv',\n",
       " 'skoinewsHD_comment.csv',\n",
       " 'nongngneverdie_comment.csv',\n",
       " 'quoteV2_comment.csv',\n",
       " 'pimrypiefc_comment1.csv',\n",
       " 'dantruat_comment.csv',\n",
       " 'kratoodrama_comment.csv',\n",
       " 'fedfeboyband_comment.csv',\n",
       " 'daghee_comment.csv',\n",
       " 'pimrypiefc_comment.csv']"
      ]
     },
     "execution_count": 3,
     "metadata": {},
     "output_type": "execute_result"
    }
   ],
   "source": [
    "files"
   ]
  },
  {
   "cell_type": "code",
   "execution_count": 4,
   "metadata": {},
   "outputs": [
    {
     "name": "stderr",
     "output_type": "stream",
     "text": [
      "/home/posoma/miniconda3/envs/posoma/lib/python3.7/site-packages/IPython/core/interactiveshell.py:3058: DtypeWarning: Columns (7,23) have mixed types. Specify dtype option on import or set low_memory=False.\n",
      "  interactivity=interactivity, compiler=compiler, result=result)\n"
     ]
    },
    {
     "name": "stdout",
     "output_type": "stream",
     "text": [
      "JeebNuNoi_comment.csv 1623440\n",
      "hearonboard_comment.csv 2001297\n"
     ]
    },
    {
     "name": "stderr",
     "output_type": "stream",
     "text": [
      "/home/posoma/miniconda3/envs/posoma/lib/python3.7/site-packages/IPython/core/interactiveshell.py:3058: DtypeWarning: Columns (23) have mixed types. Specify dtype option on import or set low_memory=False.\n",
      "  interactivity=interactivity, compiler=compiler, result=result)\n"
     ]
    },
    {
     "name": "stdout",
     "output_type": "stream",
     "text": [
      "ejan2016_comment.csv 881588\n",
      "skoinewsHD_comment.csv 355\n",
      "nongngneverdie_comment.csv 482709\n",
      "quoteV2_comment.csv 174346\n",
      "pimrypiefc_comment1.csv 1717\n",
      "dantruat_comment.csv 1292485\n",
      "kratoodrama_comment.csv 1004850\n",
      "fedfeboyband_comment.csv 1140337\n",
      "daghee_comment.csv 1615087\n",
      "pimrypiefc_comment.csv 1142054\n"
     ]
    }
   ],
   "source": [
    "dfs = list()\n",
    "for file in files:\n",
    "    try:\n",
    "        df = pd.read_csv(file)\n",
    "        print(f'{file} {len(df)}')\n",
    "        dfs.append(df)\n",
    "    except:\n",
    "        print(f'error {file}')\n",
    "        pass"
   ]
  },
  {
   "cell_type": "code",
   "execution_count": 5,
   "metadata": {
    "scrolled": true
   },
   "outputs": [
    {
     "name": "stderr",
     "output_type": "stream",
     "text": [
      "/home/posoma/miniconda3/envs/posoma/lib/python3.7/site-packages/ipykernel_launcher.py:1: FutureWarning: Sorting because non-concatenation axis is not aligned. A future version\n",
      "of pandas will change to not sort by default.\n",
      "\n",
      "To accept the future behavior, pass 'sort=False'.\n",
      "\n",
      "To retain the current behavior and silence the warning, pass 'sort=True'.\n",
      "\n",
      "  \"\"\"Entry point for launching an IPython kernel.\n"
     ]
    }
   ],
   "source": [
    "df_all = pd.concat(dfs)\n",
    "\n",
    "dfs = None\n",
    "df = None"
   ]
  },
  {
   "cell_type": "code",
   "execution_count": 8,
   "metadata": {},
   "outputs": [],
   "source": [
    "df_1 = df_all.copy()"
   ]
  },
  {
   "cell_type": "code",
   "execution_count": 12,
   "metadata": {},
   "outputs": [
    {
     "data": {
      "text/plain": [
       "Index(['comment_author', 'comment_author_id', 'comment_id', 'comment_picture',\n",
       "       'comment_reaction_1', 'comment_reaction_2', 'comment_reaction_3',\n",
       "       'comment_reaction_count', 'comment_reply', 'comment_text',\n",
       "       'comment_time', 'comment_top_fan', 'comment_u_time', 'comment_video',\n",
       "       'post_id', 'reply_comment_author', 'reply_comment_author_id',\n",
       "       'reply_comment_id', 'reply_comment_pic', 'reply_comment_reaction',\n",
       "       'reply_comment_reaction_1', 'reply_comment_reaction_2',\n",
       "       'reply_comment_reaction_3', 'reply_comment_text',\n",
       "       'reply_comment_top_fan', 'reply_comment_video', 'reply_parent_comment',\n",
       "       'reply_time', 'reply_u_time'],\n",
       "      dtype='object')"
      ]
     },
     "execution_count": 12,
     "metadata": {},
     "output_type": "execute_result"
    }
   ],
   "source": [
    "df_1.columns"
   ]
  },
  {
   "cell_type": "code",
   "execution_count": 14,
   "metadata": {},
   "outputs": [],
   "source": [
    "df_1 = df_1[df_1.comment_author_id != 'User close an account']"
   ]
  },
  {
   "cell_type": "code",
   "execution_count": 17,
   "metadata": {},
   "outputs": [],
   "source": [
    "df_1.comment_author_id = pd.to_numeric(df_1.comment_author_id)"
   ]
  },
  {
   "cell_type": "code",
   "execution_count": 30,
   "metadata": {},
   "outputs": [],
   "source": [
    "def thai_unit_con(s):\n",
    "    if type(s) == str:\n",
    "        if 'พัน' in s:\n",
    "            s = s.replace(' พัน', '')\n",
    "            s = float(s) * 1000\n",
    "        elif 'หมื่น' in s:\n",
    "            s = s.replace(' หมื่น', '')\n",
    "            s = float(s) * 10000\n",
    "    return int(s)\n",
    "        "
   ]
  },
  {
   "cell_type": "code",
   "execution_count": 23,
   "metadata": {},
   "outputs": [],
   "source": [
    "df_1.comment_reaction_count = list(map(thai_unit_con, df_1.comment_reaction_count))\n",
    "\n",
    "# change type\n",
    "df_1.comment_reaction_count = pd.to_numeric(df_1.comment_reaction_count)"
   ]
  },
  {
   "cell_type": "code",
   "execution_count": 35,
   "metadata": {
    "scrolled": false
   },
   "outputs": [],
   "source": [
    "df_1.drop(columns = ['comment_time', 'reply_time'], inplace= True)"
   ]
  },
  {
   "cell_type": "code",
   "execution_count": 40,
   "metadata": {},
   "outputs": [],
   "source": [
    "df_1.reply_comment_reaction = df_1.reply_comment_reaction.fillna(0)\n",
    "\n",
    "df_1.reply_comment_reaction = list(map(thai_unit_con, df_1.reply_comment_reaction))\n",
    "# change type\n",
    "df_1.reply_comment_reaction = pd.to_numeric(df_1.reply_comment_reaction)"
   ]
  },
  {
   "cell_type": "code",
   "execution_count": 3,
   "metadata": {
    "scrolled": true
   },
   "outputs": [
    {
     "name": "stdout",
     "output_type": "stream",
     "text": [
      "<class 'pandas.core.frame.DataFrame'>\n",
      "RangeIndex: 9332324 entries, 0 to 9332323\n",
      "Data columns (total 28 columns):\n",
      "Unnamed: 0                  int64\n",
      "comment_author              object\n",
      "comment_author_id           int64\n",
      "comment_id                  int64\n",
      "comment_picture             int64\n",
      "comment_reaction_1          object\n",
      "comment_reaction_2          object\n",
      "comment_reaction_3          object\n",
      "comment_reaction_count      float64\n",
      "comment_reply               float64\n",
      "comment_text                object\n",
      "comment_top_fan             float64\n",
      "comment_u_time              int64\n",
      "comment_video               int64\n",
      "post_id                     float64\n",
      "reply_comment_author        object\n",
      "reply_comment_author_id     float64\n",
      "reply_comment_id            float64\n",
      "reply_comment_pic           float64\n",
      "reply_comment_reaction      int64\n",
      "reply_comment_reaction_1    object\n",
      "reply_comment_reaction_2    object\n",
      "reply_comment_reaction_3    object\n",
      "reply_comment_text          object\n",
      "reply_comment_top_fan       float64\n",
      "reply_comment_video         float64\n",
      "reply_parent_comment        float64\n",
      "reply_u_time                float64\n",
      "dtypes: float64(11), int64(7), object(10)\n",
      "memory usage: 1.9+ GB\n"
     ]
    }
   ],
   "source": [
    "df_1.info()"
   ]
  },
  {
   "cell_type": "code",
   "execution_count": 44,
   "metadata": {},
   "outputs": [],
   "source": [
    "df_1.to_csv('all_1_type.csv')"
   ]
  },
  {
   "cell_type": "code",
   "execution_count": 2,
   "metadata": {},
   "outputs": [],
   "source": [
    "df_1 = pd.read_csv('all_1_type.csv')"
   ]
  },
  {
   "cell_type": "markdown",
   "metadata": {},
   "source": [
    "# fill na"
   ]
  },
  {
   "cell_type": "code",
   "execution_count": 3,
   "metadata": {},
   "outputs": [],
   "source": [
    "df_1.comment_author = df_1.comment_author.fillna('<UNK>')\n",
    "\n",
    "df_1.comment_reaction_1 = df_1.comment_reaction_1.fillna('<NONE>')\n",
    "df_1.comment_reaction_2 = df_1.comment_reaction_2.fillna('<NONE>')\n",
    "df_1.comment_reaction_3 = df_1.comment_reaction_3.fillna('<NONE>')\n",
    "\n",
    "df_1.comment_reaction_count = df_1.comment_reaction_count.fillna(0)\n",
    "\n",
    "df_1.comment_reply = df_1.comment_reply.fillna(0)\n",
    "\n",
    "df_1.comment_top_fan = df_1.comment_top_fan.fillna(0)\n",
    "\n",
    "df_1 = df_1[np.logical_not(df_1.post_id.isna())]"
   ]
  },
  {
   "cell_type": "code",
   "execution_count": 4,
   "metadata": {
    "scrolled": true
   },
   "outputs": [
    {
     "data": {
      "text/plain": [
       "Unnamed: 0                        0\n",
       "comment_author                    0\n",
       "comment_author_id                 0\n",
       "comment_id                        0\n",
       "comment_picture                   0\n",
       "comment_reaction_1                0\n",
       "comment_reaction_2                0\n",
       "comment_reaction_3                0\n",
       "comment_reaction_count            0\n",
       "comment_reply                     0\n",
       "comment_text                      0\n",
       "comment_top_fan                   0\n",
       "comment_u_time                    0\n",
       "comment_video                     0\n",
       "post_id                           0\n",
       "reply_comment_author        4772321\n",
       "reply_comment_author_id     4772320\n",
       "reply_comment_id            4772320\n",
       "reply_comment_pic           4772320\n",
       "reply_comment_reaction            0\n",
       "reply_comment_reaction_1    7570878\n",
       "reply_comment_reaction_2    9010538\n",
       "reply_comment_reaction_3    9275993\n",
       "reply_comment_text          4772320\n",
       "reply_comment_top_fan       4772320\n",
       "reply_comment_video         4772320\n",
       "reply_parent_comment        4772320\n",
       "reply_u_time                4772320\n",
       "dtype: int64"
      ]
     },
     "execution_count": 4,
     "metadata": {},
     "output_type": "execute_result"
    }
   ],
   "source": [
    "df_1.isna().sum()"
   ]
  },
  {
   "cell_type": "markdown",
   "metadata": {},
   "source": [
    "# for comment"
   ]
  },
  {
   "cell_type": "code",
   "execution_count": 4,
   "metadata": {},
   "outputs": [],
   "source": [
    "df_2 = df_1[(df_1.reply_comment_author_id.isna())]"
   ]
  },
  {
   "cell_type": "code",
   "execution_count": 5,
   "metadata": {
    "scrolled": false
   },
   "outputs": [],
   "source": [
    "df_2.to_csv('all_comment.csv')"
   ]
  },
  {
   "cell_type": "markdown",
   "metadata": {},
   "source": [
    "# for reply"
   ]
  },
  {
   "cell_type": "code",
   "execution_count": 6,
   "metadata": {},
   "outputs": [],
   "source": [
    "df_3 = df_1[np.logical_not(df_1.reply_comment_author_id.isna())]"
   ]
  },
  {
   "cell_type": "code",
   "execution_count": 7,
   "metadata": {},
   "outputs": [
    {
     "name": "stderr",
     "output_type": "stream",
     "text": [
      "/home/posoma/miniconda3/envs/posoma/lib/python3.7/site-packages/pandas/core/generic.py:5208: SettingWithCopyWarning: \n",
      "A value is trying to be set on a copy of a slice from a DataFrame.\n",
      "Try using .loc[row_indexer,col_indexer] = value instead\n",
      "\n",
      "See the caveats in the documentation: http://pandas.pydata.org/pandas-docs/stable/user_guide/indexing.html#returning-a-view-versus-a-copy\n",
      "  self[name] = value\n"
     ]
    }
   ],
   "source": [
    "df_3.reply_comment_reaction_1 = df_3.reply_comment_reaction_1.fillna('<NONE>')\n",
    "df_3.reply_comment_reaction_2 = df_3.reply_comment_reaction_2.fillna('<NONE>')\n",
    "df_3.reply_comment_reaction_3 = df_3.reply_comment_reaction_3.fillna('<NONE>')\n"
   ]
  },
  {
   "cell_type": "code",
   "execution_count": 8,
   "metadata": {},
   "outputs": [],
   "source": [
    "df_3.reply_comment_author = df_3.reply_comment_author.fillna(\"<UNK>\")"
   ]
  },
  {
   "cell_type": "code",
   "execution_count": 9,
   "metadata": {
    "scrolled": false
   },
   "outputs": [
    {
     "data": {
      "text/plain": [
       "Unnamed: 0                  0\n",
       "comment_author              0\n",
       "comment_author_id           0\n",
       "comment_id                  0\n",
       "comment_picture             0\n",
       "comment_reaction_1          0\n",
       "comment_reaction_2          0\n",
       "comment_reaction_3          0\n",
       "comment_reaction_count      0\n",
       "comment_reply               0\n",
       "comment_text                0\n",
       "comment_top_fan             0\n",
       "comment_u_time              0\n",
       "comment_video               0\n",
       "post_id                     0\n",
       "reply_comment_author        0\n",
       "reply_comment_author_id     0\n",
       "reply_comment_id            0\n",
       "reply_comment_pic           0\n",
       "reply_comment_reaction      0\n",
       "reply_comment_reaction_1    0\n",
       "reply_comment_reaction_2    0\n",
       "reply_comment_reaction_3    0\n",
       "reply_comment_text          0\n",
       "reply_comment_top_fan       0\n",
       "reply_comment_video         0\n",
       "reply_parent_comment        0\n",
       "reply_u_time                0\n",
       "dtype: int64"
      ]
     },
     "execution_count": 9,
     "metadata": {},
     "output_type": "execute_result"
    }
   ],
   "source": [
    "df_3.isna().sum()"
   ]
  },
  {
   "cell_type": "code",
   "execution_count": null,
   "metadata": {},
   "outputs": [],
   "source": [
    "df_3.to_csv('all_reply.csv')"
   ]
  },
  {
   "cell_type": "markdown",
   "metadata": {},
   "source": [
    "# concat both comment and reply"
   ]
  },
  {
   "cell_type": "code",
   "execution_count": 2,
   "metadata": {},
   "outputs": [],
   "source": [
    "df_2 = pd.read_csv('all_comment.csv')\n",
    "df_3 = pd.read_csv('all_reply.csv')"
   ]
  },
  {
   "cell_type": "code",
   "execution_count": 3,
   "metadata": {},
   "outputs": [],
   "source": [
    "df_fin = pd.DataFrame(columns=['id', 'parent_id', 'text', 'author', 'author_id', 'pic', 'video', 'reaction_1','reaction_2','reaction_3', 'reaction_count', 'u_time'])"
   ]
  },
  {
   "cell_type": "code",
   "execution_count": 22,
   "metadata": {},
   "outputs": [],
   "source": [
    "tmp = df_2[:]\n",
    "\n",
    "tmp = tmp.iloc[:, 2:16]\n",
    "\n",
    "tmp1 = tmp[['comment_id', 'post_id', 'comment_text', 'comment_author', 'comment_author_id', 'comment_picture', 'comment_video', 'comment_reaction_1','comment_reaction_2','comment_reaction_3', 'comment_reaction_count', 'comment_u_time']]\n",
    "\n",
    "tmp1.columns = ['id', 'parent_id', 'text', 'author', 'author_id', 'pic', 'video', 'reaction_1','reaction_2','reaction_3', 'reaction_count', 'u_time']"
   ]
  },
  {
   "cell_type": "code",
   "execution_count": 25,
   "metadata": {},
   "outputs": [],
   "source": [
    "tmp = df_3[:]"
   ]
  },
  {
   "cell_type": "code",
   "execution_count": 26,
   "metadata": {},
   "outputs": [
    {
     "data": {
      "text/plain": [
       "Index(['Unnamed: 0', 'Unnamed: 0.1', 'comment_author', 'comment_author_id',\n",
       "       'comment_id', 'comment_picture', 'comment_reaction_1',\n",
       "       'comment_reaction_2', 'comment_reaction_3', 'comment_reaction_count',\n",
       "       'comment_reply', 'comment_text', 'comment_top_fan', 'comment_u_time',\n",
       "       'comment_video', 'post_id', 'reply_comment_author',\n",
       "       'reply_comment_author_id', 'reply_comment_id', 'reply_comment_pic',\n",
       "       'reply_comment_reaction', 'reply_comment_reaction_1',\n",
       "       'reply_comment_reaction_2', 'reply_comment_reaction_3',\n",
       "       'reply_comment_text', 'reply_comment_top_fan', 'reply_comment_video',\n",
       "       'reply_parent_comment', 'reply_u_time'],\n",
       "      dtype='object')"
      ]
     },
     "execution_count": 26,
     "metadata": {},
     "output_type": "execute_result"
    }
   ],
   "source": [
    "tmp.columns"
   ]
  },
  {
   "cell_type": "code",
   "execution_count": 27,
   "metadata": {},
   "outputs": [],
   "source": [
    "tmp2 = tmp[['reply_comment_id', 'comment_id', 'reply_comment_text', 'reply_comment_author', 'reply_comment_author_id', 'reply_comment_pic', 'reply_comment_video', 'reply_comment_reaction_1','reply_comment_reaction_2','reply_comment_reaction_3', 'reply_comment_reaction', 'reply_u_time']]"
   ]
  },
  {
   "cell_type": "code",
   "execution_count": 29,
   "metadata": {},
   "outputs": [],
   "source": [
    "tmp2.columns = ['id', 'parent_id', 'text', 'author', 'author_id', 'pic', 'video', 'reaction_1','reaction_2','reaction_3', 'reaction_count', 'u_time']"
   ]
  },
  {
   "cell_type": "code",
   "execution_count": 30,
   "metadata": {},
   "outputs": [
    {
     "data": {
      "text/html": [
       "<div>\n",
       "<style scoped>\n",
       "    .dataframe tbody tr th:only-of-type {\n",
       "        vertical-align: middle;\n",
       "    }\n",
       "\n",
       "    .dataframe tbody tr th {\n",
       "        vertical-align: top;\n",
       "    }\n",
       "\n",
       "    .dataframe thead th {\n",
       "        text-align: right;\n",
       "    }\n",
       "</style>\n",
       "<table border=\"1\" class=\"dataframe\">\n",
       "  <thead>\n",
       "    <tr style=\"text-align: right;\">\n",
       "      <th></th>\n",
       "      <th>id</th>\n",
       "      <th>parent_id</th>\n",
       "      <th>text</th>\n",
       "      <th>author</th>\n",
       "      <th>author_id</th>\n",
       "      <th>pic</th>\n",
       "      <th>video</th>\n",
       "      <th>reaction_1</th>\n",
       "      <th>reaction_2</th>\n",
       "      <th>reaction_3</th>\n",
       "      <th>reaction_count</th>\n",
       "      <th>u_time</th>\n",
       "    </tr>\n",
       "  </thead>\n",
       "  <tbody>\n",
       "    <tr>\n",
       "      <th>0</th>\n",
       "      <td>1.737495e+15</td>\n",
       "      <td>1737331556368743</td>\n",
       "      <td>ห่วยตูนนี่หนักไปด้านเดียวจนไม่รู้ว่าที่ช่วยนี้...</td>\n",
       "      <td>Chiyanan Jantasopol</td>\n",
       "      <td>1.000089e+14</td>\n",
       "      <td>0.0</td>\n",
       "      <td>0.0</td>\n",
       "      <td>like</td>\n",
       "      <td>haha</td>\n",
       "      <td>&lt;NONE&gt;</td>\n",
       "      <td>10</td>\n",
       "      <td>1.545928e+09</td>\n",
       "    </tr>\n",
       "    <tr>\n",
       "      <th>1</th>\n",
       "      <td>1.737940e+15</td>\n",
       "      <td>1737331556368743</td>\n",
       "      <td>ห่วยตูนนี่เกินไป ผู้จัดการยังมีแซะ ห่วยตูนนี่ส...</td>\n",
       "      <td>Jedsadapon Kaewket</td>\n",
       "      <td>1.000011e+14</td>\n",
       "      <td>0.0</td>\n",
       "      <td>0.0</td>\n",
       "      <td>&lt;NONE&gt;</td>\n",
       "      <td>&lt;NONE&gt;</td>\n",
       "      <td>&lt;NONE&gt;</td>\n",
       "      <td>0</td>\n",
       "      <td>1.545928e+09</td>\n",
       "    </tr>\n",
       "    <tr>\n",
       "      <th>2</th>\n",
       "      <td>1.738080e+15</td>\n",
       "      <td>1737331556368743</td>\n",
       "      <td>มีตบดิ้นอีกเพจครับ ไปอ่านดู สนุกดี 😅</td>\n",
       "      <td>Attapon Sonsiri</td>\n",
       "      <td>1.737332e+15</td>\n",
       "      <td>0.0</td>\n",
       "      <td>0.0</td>\n",
       "      <td>&lt;NONE&gt;</td>\n",
       "      <td>&lt;NONE&gt;</td>\n",
       "      <td>&lt;NONE&gt;</td>\n",
       "      <td>0</td>\n",
       "      <td>1.545928e+09</td>\n",
       "    </tr>\n",
       "    <tr>\n",
       "      <th>3</th>\n",
       "      <td>1.738169e+15</td>\n",
       "      <td>1737336853034880</td>\n",
       "      <td>รางวัลสลิ่มของคนสลิ่ม</td>\n",
       "      <td>ปัณฑารัย์ เจิมพักตร์</td>\n",
       "      <td>1.737337e+15</td>\n",
       "      <td>0.0</td>\n",
       "      <td>0.0</td>\n",
       "      <td>&lt;NONE&gt;</td>\n",
       "      <td>&lt;NONE&gt;</td>\n",
       "      <td>&lt;NONE&gt;</td>\n",
       "      <td>0</td>\n",
       "      <td>1.545928e+09</td>\n",
       "    </tr>\n",
       "    <tr>\n",
       "      <th>4</th>\n",
       "      <td>1.350325e+15</td>\n",
       "      <td>1350322781736291</td>\n",
       "      <td>โง่ไง ไม่มาศึกษาดูงานที่บ้านเรา ควายแท้ๆ</td>\n",
       "      <td>Pun Ya Wat</td>\n",
       "      <td>1.000061e+14</td>\n",
       "      <td>0.0</td>\n",
       "      <td>0.0</td>\n",
       "      <td>&lt;NONE&gt;</td>\n",
       "      <td>&lt;NONE&gt;</td>\n",
       "      <td>&lt;NONE&gt;</td>\n",
       "      <td>0</td>\n",
       "      <td>1.518239e+09</td>\n",
       "    </tr>\n",
       "    <tr>\n",
       "      <th>...</th>\n",
       "      <td>...</td>\n",
       "      <td>...</td>\n",
       "      <td>...</td>\n",
       "      <td>...</td>\n",
       "      <td>...</td>\n",
       "      <td>...</td>\n",
       "      <td>...</td>\n",
       "      <td>...</td>\n",
       "      <td>...</td>\n",
       "      <td>...</td>\n",
       "      <td>...</td>\n",
       "      <td>...</td>\n",
       "    </tr>\n",
       "    <tr>\n",
       "      <th>4031636</th>\n",
       "      <td>1.279496e+15</td>\n",
       "      <td>1279491768893057</td>\n",
       "      <td>Mmix Yuto ที่บอกอยากลองวันนั้นไงงง</td>\n",
       "      <td>Memeen Lewchalermwong</td>\n",
       "      <td>1.000011e+14</td>\n",
       "      <td>0.0</td>\n",
       "      <td>0.0</td>\n",
       "      <td>&lt;NONE&gt;</td>\n",
       "      <td>&lt;NONE&gt;</td>\n",
       "      <td>&lt;NONE&gt;</td>\n",
       "      <td>0</td>\n",
       "      <td>1.557242e+09</td>\n",
       "    </tr>\n",
       "    <tr>\n",
       "      <th>4031637</th>\n",
       "      <td>1.280118e+15</td>\n",
       "      <td>1280083425500558</td>\n",
       "      <td>Sirinya Ying เคยกินรสเกลือไง</td>\n",
       "      <td>May Heaha</td>\n",
       "      <td>1.000005e+14</td>\n",
       "      <td>0.0</td>\n",
       "      <td>0.0</td>\n",
       "      <td>&lt;NONE&gt;</td>\n",
       "      <td>&lt;NONE&gt;</td>\n",
       "      <td>&lt;NONE&gt;</td>\n",
       "      <td>0</td>\n",
       "      <td>1.557320e+09</td>\n",
       "    </tr>\n",
       "    <tr>\n",
       "      <th>4031638</th>\n",
       "      <td>1.279521e+15</td>\n",
       "      <td>1279475372228030</td>\n",
       "      <td>Ploy Pengpetch ลองแน้วววว 5555555 กลิ่นมะม่วงร...</td>\n",
       "      <td>Bandhita Sattapunkiri</td>\n",
       "      <td>1.279475e+15</td>\n",
       "      <td>0.0</td>\n",
       "      <td>0.0</td>\n",
       "      <td>&lt;NONE&gt;</td>\n",
       "      <td>&lt;NONE&gt;</td>\n",
       "      <td>&lt;NONE&gt;</td>\n",
       "      <td>0</td>\n",
       "      <td>1.557240e+09</td>\n",
       "    </tr>\n",
       "    <tr>\n",
       "      <th>4031639</th>\n",
       "      <td>1.279428e+15</td>\n",
       "      <td>1279426088899625</td>\n",
       "      <td>TItaporn Chotchuang ถ้าขนาดนี้ กินของจิงเลยดีม...</td>\n",
       "      <td>Ornjira Jansri</td>\n",
       "      <td>1.000003e+14</td>\n",
       "      <td>0.0</td>\n",
       "      <td>0.0</td>\n",
       "      <td>like</td>\n",
       "      <td>&lt;NONE&gt;</td>\n",
       "      <td>&lt;NONE&gt;</td>\n",
       "      <td>1</td>\n",
       "      <td>1.557234e+09</td>\n",
       "    </tr>\n",
       "    <tr>\n",
       "      <th>4031640</th>\n",
       "      <td>1.279430e+15</td>\n",
       "      <td>1279426088899625</td>\n",
       "      <td>Ornjira Jansri พรุ่งนี้ซื้อเลยนะ 555</td>\n",
       "      <td>TItaporn Chotchuang</td>\n",
       "      <td>1.236182e+09</td>\n",
       "      <td>0.0</td>\n",
       "      <td>0.0</td>\n",
       "      <td>haha</td>\n",
       "      <td>&lt;NONE&gt;</td>\n",
       "      <td>&lt;NONE&gt;</td>\n",
       "      <td>1</td>\n",
       "      <td>1.557234e+09</td>\n",
       "    </tr>\n",
       "  </tbody>\n",
       "</table>\n",
       "<p>4031641 rows × 12 columns</p>\n",
       "</div>"
      ],
      "text/plain": [
       "                   id         parent_id  \\\n",
       "0        1.737495e+15  1737331556368743   \n",
       "1        1.737940e+15  1737331556368743   \n",
       "2        1.738080e+15  1737331556368743   \n",
       "3        1.738169e+15  1737336853034880   \n",
       "4        1.350325e+15  1350322781736291   \n",
       "...               ...               ...   \n",
       "4031636  1.279496e+15  1279491768893057   \n",
       "4031637  1.280118e+15  1280083425500558   \n",
       "4031638  1.279521e+15  1279475372228030   \n",
       "4031639  1.279428e+15  1279426088899625   \n",
       "4031640  1.279430e+15  1279426088899625   \n",
       "\n",
       "                                                      text  \\\n",
       "0        ห่วยตูนนี่หนักไปด้านเดียวจนไม่รู้ว่าที่ช่วยนี้...   \n",
       "1        ห่วยตูนนี่เกินไป ผู้จัดการยังมีแซะ ห่วยตูนนี่ส...   \n",
       "2                     มีตบดิ้นอีกเพจครับ ไปอ่านดู สนุกดี 😅   \n",
       "3                                    รางวัลสลิ่มของคนสลิ่ม   \n",
       "4                 โง่ไง ไม่มาศึกษาดูงานที่บ้านเรา ควายแท้ๆ   \n",
       "...                                                    ...   \n",
       "4031636                 Mmix Yuto ที่บอกอยากลองวันนั้นไงงง   \n",
       "4031637                       Sirinya Ying เคยกินรสเกลือไง   \n",
       "4031638  Ploy Pengpetch ลองแน้วววว 5555555 กลิ่นมะม่วงร...   \n",
       "4031639  TItaporn Chotchuang ถ้าขนาดนี้ กินของจิงเลยดีม...   \n",
       "4031640               Ornjira Jansri พรุ่งนี้ซื้อเลยนะ 555   \n",
       "\n",
       "                        author     author_id  pic  video reaction_1  \\\n",
       "0          Chiyanan Jantasopol  1.000089e+14  0.0    0.0       like   \n",
       "1           Jedsadapon Kaewket  1.000011e+14  0.0    0.0     <NONE>   \n",
       "2              Attapon Sonsiri  1.737332e+15  0.0    0.0     <NONE>   \n",
       "3         ปัณฑารัย์ เจิมพักตร์  1.737337e+15  0.0    0.0     <NONE>   \n",
       "4                   Pun Ya Wat  1.000061e+14  0.0    0.0     <NONE>   \n",
       "...                        ...           ...  ...    ...        ...   \n",
       "4031636  Memeen Lewchalermwong  1.000011e+14  0.0    0.0     <NONE>   \n",
       "4031637              May Heaha  1.000005e+14  0.0    0.0     <NONE>   \n",
       "4031638  Bandhita Sattapunkiri  1.279475e+15  0.0    0.0     <NONE>   \n",
       "4031639         Ornjira Jansri  1.000003e+14  0.0    0.0       like   \n",
       "4031640    TItaporn Chotchuang  1.236182e+09  0.0    0.0       haha   \n",
       "\n",
       "        reaction_2 reaction_3  reaction_count        u_time  \n",
       "0             haha     <NONE>              10  1.545928e+09  \n",
       "1           <NONE>     <NONE>               0  1.545928e+09  \n",
       "2           <NONE>     <NONE>               0  1.545928e+09  \n",
       "3           <NONE>     <NONE>               0  1.545928e+09  \n",
       "4           <NONE>     <NONE>               0  1.518239e+09  \n",
       "...            ...        ...             ...           ...  \n",
       "4031636     <NONE>     <NONE>               0  1.557242e+09  \n",
       "4031637     <NONE>     <NONE>               0  1.557320e+09  \n",
       "4031638     <NONE>     <NONE>               0  1.557240e+09  \n",
       "4031639     <NONE>     <NONE>               1  1.557234e+09  \n",
       "4031640     <NONE>     <NONE>               1  1.557234e+09  \n",
       "\n",
       "[4031641 rows x 12 columns]"
      ]
     },
     "execution_count": 30,
     "metadata": {},
     "output_type": "execute_result"
    }
   ],
   "source": [
    "tmp2"
   ]
  },
  {
   "cell_type": "code",
   "execution_count": 31,
   "metadata": {},
   "outputs": [],
   "source": [
    "dfs = [tmp1, tmp2]"
   ]
  },
  {
   "cell_type": "code",
   "execution_count": 32,
   "metadata": {},
   "outputs": [],
   "source": [
    "all_fin = pd.concat(dfs)"
   ]
  },
  {
   "cell_type": "code",
   "execution_count": 34,
   "metadata": {},
   "outputs": [],
   "source": [
    "all_fin.to_csv('all_final.csv')"
   ]
  },
  {
   "cell_type": "code",
   "execution_count": 19,
   "metadata": {},
   "outputs": [],
   "source": [
    "all_fin = pd.read_csv('all_final.csv', nrows=100000)"
   ]
  },
  {
   "cell_type": "code",
   "execution_count": 20,
   "metadata": {},
   "outputs": [],
   "source": [
    "all_fin['reaction_level'] = 0"
   ]
  },
  {
   "cell_type": "code",
   "execution_count": 23,
   "metadata": {},
   "outputs": [],
   "source": [
    "all_fin = all_fin.drop_duplicates(subset=['id'])"
   ]
  },
  {
   "cell_type": "code",
   "execution_count": 24,
   "metadata": {},
   "outputs": [],
   "source": [
    "all_fin = all_fin.set_index('id')"
   ]
  },
  {
   "cell_type": "code",
   "execution_count": 26,
   "metadata": {},
   "outputs": [],
   "source": [
    "all_fin.drop(columns=['Unnamed: 0'], inplace = True)"
   ]
  },
  {
   "cell_type": "code",
   "execution_count": 27,
   "metadata": {},
   "outputs": [],
   "source": [
    "reactions = ['like', 'haha', 'sad', 'angry', 'love', 'wow']"
   ]
  },
  {
   "cell_type": "code",
   "execution_count": 28,
   "metadata": {},
   "outputs": [],
   "source": [
    "for i in reactions:\n",
    "    all_fin[i] = 0\n",
    "for i in reactions:\n",
    "    all_fin['super_' + i] = 0\n",
    "for i in reactions:\n",
    "    all_fin['sup_' + i] = 0\n",
    "    "
   ]
  },
  {
   "cell_type": "markdown",
   "metadata": {},
   "source": [
    "# check id duplicate"
   ]
  },
  {
   "cell_type": "code",
   "execution_count": 29,
   "metadata": {
    "scrolled": true
   },
   "outputs": [
    {
     "data": {
      "application/vnd.jupyter.widget-view+json": {
       "model_id": "313055590a1b4b339c6d0cf378e2054e",
       "version_major": 2,
       "version_minor": 0
      },
      "text/plain": [
       "HBox(children=(IntProgress(value=0, max=99919), HTML(value='')))"
      ]
     },
     "metadata": {},
     "output_type": "display_data"
    },
    {
     "name": "stdout",
     "output_type": "stream",
     "text": [
      "\n"
     ]
    }
   ],
   "source": [
    "for i in tqdm(all_fin.index):\n",
    "    if all_fin.at[i, 'reaction_1'] != '<NONE>':\n",
    "        all_fin.at[i, 'reaction_level'] += 1\n",
    "    if all_fin.at[i, 'reaction_2'] != '<NONE>':\n",
    "        all_fin.at[i, 'reaction_level'] += 1\n",
    "    if all_fin.at[i, 'reaction_3'] != '<NONE>':\n",
    "        all_fin.at[i, 'reaction_level'] += 1"
   ]
  },
  {
   "cell_type": "code",
   "execution_count": 30,
   "metadata": {},
   "outputs": [],
   "source": [
    "ratios = {1: [1], 2:[0.6, 0.4], 3:[0.5, 0.3, 0.2]}"
   ]
  },
  {
   "cell_type": "code",
   "execution_count": 31,
   "metadata": {},
   "outputs": [
    {
     "data": {
      "text/plain": [
       "['like', 'haha', 'sad', 'angry', 'love', 'wow']"
      ]
     },
     "execution_count": 31,
     "metadata": {},
     "output_type": "execute_result"
    }
   ],
   "source": [
    "reactions"
   ]
  },
  {
   "cell_type": "code",
   "execution_count": 32,
   "metadata": {
    "scrolled": true
   },
   "outputs": [
    {
     "data": {
      "application/vnd.jupyter.widget-view+json": {
       "model_id": "9b05b99994234601bd684a035bd497a4",
       "version_major": 2,
       "version_minor": 0
      },
      "text/plain": [
       "HBox(children=(IntProgress(value=0, max=99919), HTML(value='')))"
      ]
     },
     "metadata": {},
     "output_type": "display_data"
    },
    {
     "name": "stdout",
     "output_type": "stream",
     "text": [
      "\n"
     ]
    }
   ],
   "source": [
    "for i in tqdm(all_fin.index):\n",
    "    if all_fin.at[i,'reaction_level'] != 0:\n",
    "        ratio = ratios[all_fin.at[i,'reaction_level']]\n",
    "        start = 0\n",
    "        for j in ratio:\n",
    "            all_fin.at[i, reactions[start]] = j * all_fin.at[i, 'reaction_count']\n",
    "            start+=1"
   ]
  },
  {
   "cell_type": "code",
   "execution_count": 33,
   "metadata": {},
   "outputs": [
    {
     "data": {
      "application/vnd.jupyter.widget-view+json": {
       "model_id": "5142b3d511434b00845fb5046d747c85",
       "version_major": 2,
       "version_minor": 0
      },
      "text/plain": [
       "HBox(children=(IntProgress(value=0, max=99919), HTML(value='')))"
      ]
     },
     "metadata": {},
     "output_type": "display_data"
    },
    {
     "name": "stdout",
     "output_type": "stream",
     "text": [
      "\n"
     ]
    }
   ],
   "source": [
    "child_parent = dict()\n",
    "for i in tqdm(all_fin.index):\n",
    "    child_parent[i] = all_fin.at[i, 'parent_id']"
   ]
  },
  {
   "cell_type": "code",
   "execution_count": 35,
   "metadata": {},
   "outputs": [
    {
     "data": {
      "text/plain": [
       "['like', 'haha', 'sad', 'angry', 'love', 'wow']"
      ]
     },
     "execution_count": 35,
     "metadata": {},
     "output_type": "execute_result"
    }
   ],
   "source": [
    "reactions"
   ]
  },
  {
   "cell_type": "code",
   "execution_count": 36,
   "metadata": {},
   "outputs": [],
   "source": [
    "err_parent_Id = set()"
   ]
  },
  {
   "cell_type": "markdown",
   "metadata": {},
   "source": [
    "# Problem may come from not have parent data"
   ]
  },
  {
   "cell_type": "code",
   "execution_count": 37,
   "metadata": {
    "scrolled": true
   },
   "outputs": [
    {
     "data": {
      "application/vnd.jupyter.widget-view+json": {
       "model_id": "41cb547c341447358496d937dfda505c",
       "version_major": 2,
       "version_minor": 0
      },
      "text/plain": [
       "HBox(children=(IntProgress(value=0, max=99919), HTML(value='')))"
      ]
     },
     "metadata": {},
     "output_type": "display_data"
    },
    {
     "name": "stdout",
     "output_type": "stream",
     "text": [
      "\n"
     ]
    }
   ],
   "source": [
    "for i in tqdm(all_fin.index):\n",
    "    try:\n",
    "        for j in reactions:\n",
    "            all_fin.at[i, 'super_' + j] = all_fin.at[child_parent[i], j]\n",
    "    except:\n",
    "        err_parent_Id.add(i)"
   ]
  },
  {
   "cell_type": "code",
   "execution_count": 34,
   "metadata": {
    "scrolled": false
   },
   "outputs": [
    {
     "data": {
      "text/plain": [
       "[(0, 'parent_id'),\n",
       " (1, 'text'),\n",
       " (2, 'author'),\n",
       " (3, 'author_id'),\n",
       " (4, 'pic'),\n",
       " (5, 'video'),\n",
       " (6, 'reaction_1'),\n",
       " (7, 'reaction_2'),\n",
       " (8, 'reaction_3'),\n",
       " (9, 'reaction_count'),\n",
       " (10, 'u_time'),\n",
       " (11, 'reaction_level'),\n",
       " (12, 'like'),\n",
       " (13, 'haha'),\n",
       " (14, 'sad'),\n",
       " (15, 'angry'),\n",
       " (16, 'love'),\n",
       " (17, 'wow'),\n",
       " (18, 'super_like'),\n",
       " (19, 'super_haha'),\n",
       " (20, 'super_sad'),\n",
       " (21, 'super_angry'),\n",
       " (22, 'super_love'),\n",
       " (23, 'super_wow'),\n",
       " (24, 'sup_like'),\n",
       " (25, 'sup_haha'),\n",
       " (26, 'sup_sad'),\n",
       " (27, 'sup_angry'),\n",
       " (28, 'sup_love'),\n",
       " (29, 'sup_wow')]"
      ]
     },
     "execution_count": 34,
     "metadata": {},
     "output_type": "execute_result"
    }
   ],
   "source": [
    "list(enumerate(all_fin))"
   ]
  },
  {
   "cell_type": "code",
   "execution_count": 55,
   "metadata": {
    "scrolled": false
   },
   "outputs": [
    {
     "data": {
      "application/vnd.jupyter.widget-view+json": {
       "model_id": "cee698c8592e4aec83d624d0f4c5802a",
       "version_major": 2,
       "version_minor": 0
      },
      "text/plain": [
       "HBox(children=(IntProgress(value=0, max=99919), HTML(value='')))"
      ]
     },
     "metadata": {},
     "output_type": "display_data"
    },
    {
     "name": "stdout",
     "output_type": "stream",
     "text": [
      "\n"
     ]
    }
   ],
   "source": [
    "parent_child = {}\n",
    "for i in list(set(child_parent.values())):\n",
    "    parent_child[i] = []\n",
    "for i,v in tqdm(child_parent.items()):\n",
    "    parent_child[v].append(i)"
   ]
  },
  {
   "cell_type": "code",
   "execution_count": null,
   "metadata": {},
   "outputs": [],
   "source": [
    "# sup\n",
    "for i in tqdm(all_fin.index):\n",
    "    for j in reactions\n",
    "        tmp_list = []\n",
    "        for k in parent_child[i]:\n",
    "            tmp_list.append()\n",
    "        "
   ]
  },
  {
   "cell_type": "code",
   "execution_count": null,
   "metadata": {},
   "outputs": [],
   "source": []
  }
 ],
 "metadata": {
  "kernelspec": {
   "display_name": "Python 3",
   "language": "python",
   "name": "python3"
  },
  "language_info": {
   "codemirror_mode": {
    "name": "ipython",
    "version": 3
   },
   "file_extension": ".py",
   "mimetype": "text/x-python",
   "name": "python",
   "nbconvert_exporter": "python",
   "pygments_lexer": "ipython3",
   "version": "3.7.5"
  }
 },
 "nbformat": 4,
 "nbformat_minor": 2
}
