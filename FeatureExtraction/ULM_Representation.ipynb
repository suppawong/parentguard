{
 "cells": [
  {
   "cell_type": "code",
   "execution_count": 1,
   "metadata": {
    "scrolled": true
   },
   "outputs": [],
   "source": [
    "\n",
    "import pandas as pd\n",
    "import numpy as np\n",
    "from pythainlp import word_tokenize\n",
    "from tqdm import tqdm_notebook\n",
    "import re\n",
    "import emoji\n",
    "\n",
    "#viz\n",
    "from plotnine import *\n",
    "import matplotlib.pyplot as plt\n",
    "import seaborn as sns\n",
    "\n"
   ]
  },
  {
   "cell_type": "code",
   "execution_count": 2,
   "metadata": {},
   "outputs": [
    {
     "name": "stdout",
     "output_type": "stream",
     "text": [
      "Requirement already satisfied: sklearn_crfsuite in /home/posoma/miniconda3/envs/posoma/lib/python3.7/site-packages (0.3.6)\n",
      "Requirement already satisfied: python-crfsuite>=0.8.3 in /home/posoma/miniconda3/envs/posoma/lib/python3.7/site-packages (from sklearn_crfsuite) (0.9.6)\n",
      "Requirement already satisfied: six in /home/posoma/miniconda3/envs/posoma/lib/python3.7/site-packages (from sklearn_crfsuite) (1.13.0)\n",
      "Requirement already satisfied: tqdm>=2.0 in /home/posoma/miniconda3/envs/posoma/lib/python3.7/site-packages (from sklearn_crfsuite) (4.39.0)\n",
      "Requirement already satisfied: tabulate in /home/posoma/miniconda3/envs/posoma/lib/python3.7/site-packages (from sklearn_crfsuite) (0.8.6)\n",
      "Collecting https://github.com/PyThaiNLP/pythainlp/archive/dev.zip\n",
      "  Using cached https://github.com/PyThaiNLP/pythainlp/archive/dev.zip\n",
      "Requirement already satisfied (use --upgrade to upgrade): pythainlp==2.2.dev0 from https://github.com/PyThaiNLP/pythainlp/archive/dev.zip in /home/posoma/miniconda3/envs/posoma/lib/python3.7/site-packages\n",
      "Requirement already satisfied: dill>=0.3.0 in /home/posoma/miniconda3/envs/posoma/lib/python3.7/site-packages (from pythainlp==2.2.dev0) (0.3.1.1)\n",
      "Requirement already satisfied: nltk>=3.3 in /home/posoma/miniconda3/envs/posoma/lib/python3.7/site-packages (from pythainlp==2.2.dev0) (3.4.5)\n",
      "Requirement already satisfied: python-crfsuite>=0.9.6 in /home/posoma/miniconda3/envs/posoma/lib/python3.7/site-packages (from pythainlp==2.2.dev0) (0.9.6)\n",
      "Requirement already satisfied: requests>=2.22.0 in /home/posoma/miniconda3/envs/posoma/lib/python3.7/site-packages (from pythainlp==2.2.dev0) (2.22.0)\n",
      "Requirement already satisfied: tinydb>=3.0 in /home/posoma/miniconda3/envs/posoma/lib/python3.7/site-packages (from pythainlp==2.2.dev0) (3.15.1)\n",
      "Requirement already satisfied: tqdm>=4.1 in /home/posoma/miniconda3/envs/posoma/lib/python3.7/site-packages (from pythainlp==2.2.dev0) (4.39.0)\n",
      "Requirement already satisfied: six in /home/posoma/miniconda3/envs/posoma/lib/python3.7/site-packages (from nltk>=3.3->pythainlp==2.2.dev0) (1.13.0)\n",
      "Requirement already satisfied: certifi>=2017.4.17 in /home/posoma/miniconda3/envs/posoma/lib/python3.7/site-packages (from requests>=2.22.0->pythainlp==2.2.dev0) (2019.11.28)\n",
      "Requirement already satisfied: urllib3!=1.25.0,!=1.25.1,<1.26,>=1.21.1 in /home/posoma/miniconda3/envs/posoma/lib/python3.7/site-packages (from requests>=2.22.0->pythainlp==2.2.dev0) (1.25.7)\n",
      "Requirement already satisfied: idna<2.9,>=2.5 in /home/posoma/miniconda3/envs/posoma/lib/python3.7/site-packages (from requests>=2.22.0->pythainlp==2.2.dev0) (2.8)\n",
      "Requirement already satisfied: chardet<3.1.0,>=3.0.2 in /home/posoma/miniconda3/envs/posoma/lib/python3.7/site-packages (from requests>=2.22.0->pythainlp==2.2.dev0) (3.0.4)\n",
      "Building wheels for collected packages: pythainlp\n",
      "  Building wheel for pythainlp (setup.py) ... \u001b[?25ldone\n",
      "\u001b[?25h  Created wheel for pythainlp: filename=pythainlp-2.2.dev0-cp37-none-any.whl size=12568254 sha256=fff3bbf6d398f74dbd03b7feead2ebc5830f24f6d4084cef43b856c02a7038e7\n",
      "  Stored in directory: /tmp/pip-ephem-wheel-cache-1n4bkmup/wheels/79/4e/1e/26f3198c6712ecfbee92928ed1dde923a078da3d222401cc78\n",
      "Successfully built pythainlp\n",
      "Requirement already satisfied: fastai in /home/posoma/miniconda3/envs/posoma/lib/python3.7/site-packages (1.0.60)\n",
      "Requirement already satisfied: spacy>=2.0.18 in /home/posoma/miniconda3/envs/posoma/lib/python3.7/site-packages (from fastai) (2.2.3)\n",
      "Requirement already satisfied: matplotlib in /home/posoma/miniconda3/envs/posoma/lib/python3.7/site-packages (from fastai) (3.1.1)\n",
      "Requirement already satisfied: Pillow in /home/posoma/miniconda3/envs/posoma/lib/python3.7/site-packages (from fastai) (7.0.0)\n",
      "Requirement already satisfied: scipy in /home/posoma/miniconda3/envs/posoma/lib/python3.7/site-packages (from fastai) (1.4.1)\n",
      "Requirement already satisfied: beautifulsoup4 in /home/posoma/miniconda3/envs/posoma/lib/python3.7/site-packages (from fastai) (4.8.1)\n",
      "Requirement already satisfied: torch>=1.0.0 in /home/posoma/miniconda3/envs/posoma/lib/python3.7/site-packages (from fastai) (1.3.1)\n",
      "Requirement already satisfied: numexpr in /home/posoma/miniconda3/envs/posoma/lib/python3.7/site-packages (from fastai) (2.7.0)\n",
      "Requirement already satisfied: pandas in /home/posoma/miniconda3/envs/posoma/lib/python3.7/site-packages (from fastai) (0.25.3)\n",
      "Requirement already satisfied: numpy>=1.15 in /home/posoma/miniconda3/envs/posoma/lib/python3.7/site-packages (from fastai) (1.18.1)\n",
      "Requirement already satisfied: requests in /home/posoma/miniconda3/envs/posoma/lib/python3.7/site-packages (from fastai) (2.22.0)\n",
      "Requirement already satisfied: pyyaml in /home/posoma/miniconda3/envs/posoma/lib/python3.7/site-packages (from fastai) (5.2)\n",
      "Requirement already satisfied: fastprogress>=0.2.1 in /home/posoma/miniconda3/envs/posoma/lib/python3.7/site-packages (from fastai) (0.2.1)\n",
      "Requirement already satisfied: packaging in /home/posoma/miniconda3/envs/posoma/lib/python3.7/site-packages (from fastai) (19.2)\n",
      "Requirement already satisfied: bottleneck in /home/posoma/miniconda3/envs/posoma/lib/python3.7/site-packages (from fastai) (1.3.1)\n",
      "Requirement already satisfied: torchvision in /home/posoma/miniconda3/envs/posoma/lib/python3.7/site-packages (from fastai) (0.4.2)\n",
      "Requirement already satisfied: nvidia-ml-py3 in /home/posoma/miniconda3/envs/posoma/lib/python3.7/site-packages (from fastai) (7.352.0)\n",
      "Requirement already satisfied: blis<0.5.0,>=0.4.0 in /home/posoma/miniconda3/envs/posoma/lib/python3.7/site-packages (from spacy>=2.0.18->fastai) (0.4.1)\n",
      "Requirement already satisfied: murmurhash<1.1.0,>=0.28.0 in /home/posoma/miniconda3/envs/posoma/lib/python3.7/site-packages (from spacy>=2.0.18->fastai) (1.0.2)\n",
      "Requirement already satisfied: thinc<7.4.0,>=7.3.0 in /home/posoma/miniconda3/envs/posoma/lib/python3.7/site-packages (from spacy>=2.0.18->fastai) (7.3.1)\n",
      "Requirement already satisfied: cymem<2.1.0,>=2.0.2 in /home/posoma/miniconda3/envs/posoma/lib/python3.7/site-packages (from spacy>=2.0.18->fastai) (2.0.3)\n",
      "Requirement already satisfied: catalogue<1.1.0,>=0.0.7 in /home/posoma/miniconda3/envs/posoma/lib/python3.7/site-packages (from spacy>=2.0.18->fastai) (0.2.0)\n",
      "Requirement already satisfied: setuptools in /home/posoma/miniconda3/envs/posoma/lib/python3.7/site-packages (from spacy>=2.0.18->fastai) (41.6.0.post20191030)\n",
      "Requirement already satisfied: preshed<3.1.0,>=3.0.2 in /home/posoma/miniconda3/envs/posoma/lib/python3.7/site-packages (from spacy>=2.0.18->fastai) (3.0.2)\n",
      "Requirement already satisfied: plac<1.2.0,>=0.9.6 in /home/posoma/miniconda3/envs/posoma/lib/python3.7/site-packages (from spacy>=2.0.18->fastai) (1.1.3)\n",
      "Requirement already satisfied: wasabi<1.1.0,>=0.4.0 in /home/posoma/miniconda3/envs/posoma/lib/python3.7/site-packages (from spacy>=2.0.18->fastai) (0.5.0)\n",
      "Requirement already satisfied: srsly<1.1.0,>=0.1.0 in /home/posoma/miniconda3/envs/posoma/lib/python3.7/site-packages (from spacy>=2.0.18->fastai) (1.0.0)\n",
      "Requirement already satisfied: cycler>=0.10 in /home/posoma/miniconda3/envs/posoma/lib/python3.7/site-packages (from matplotlib->fastai) (0.10.0)\n",
      "Requirement already satisfied: kiwisolver>=1.0.1 in /home/posoma/miniconda3/envs/posoma/lib/python3.7/site-packages (from matplotlib->fastai) (1.1.0)\n",
      "Requirement already satisfied: pyparsing!=2.0.4,!=2.1.2,!=2.1.6,>=2.0.1 in /home/posoma/miniconda3/envs/posoma/lib/python3.7/site-packages (from matplotlib->fastai) (2.4.5)\n",
      "Requirement already satisfied: python-dateutil>=2.1 in /home/posoma/miniconda3/envs/posoma/lib/python3.7/site-packages (from matplotlib->fastai) (2.8.0)\n",
      "Requirement already satisfied: soupsieve>=1.2 in /home/posoma/miniconda3/envs/posoma/lib/python3.7/site-packages (from beautifulsoup4->fastai) (1.9.5)\n",
      "Requirement already satisfied: pytz>=2017.2 in /home/posoma/miniconda3/envs/posoma/lib/python3.7/site-packages (from pandas->fastai) (2019.3)\n",
      "Requirement already satisfied: idna<2.9,>=2.5 in /home/posoma/miniconda3/envs/posoma/lib/python3.7/site-packages (from requests->fastai) (2.8)\n",
      "Requirement already satisfied: chardet<3.1.0,>=3.0.2 in /home/posoma/miniconda3/envs/posoma/lib/python3.7/site-packages (from requests->fastai) (3.0.4)\n",
      "Requirement already satisfied: urllib3!=1.25.0,!=1.25.1,<1.26,>=1.21.1 in /home/posoma/miniconda3/envs/posoma/lib/python3.7/site-packages (from requests->fastai) (1.25.7)\n",
      "Requirement already satisfied: certifi>=2017.4.17 in /home/posoma/miniconda3/envs/posoma/lib/python3.7/site-packages (from requests->fastai) (2019.11.28)\n",
      "Requirement already satisfied: six in /home/posoma/miniconda3/envs/posoma/lib/python3.7/site-packages (from packaging->fastai) (1.13.0)\n",
      "Requirement already satisfied: tqdm<5.0.0,>=4.10.0 in /home/posoma/miniconda3/envs/posoma/lib/python3.7/site-packages (from thinc<7.4.0,>=7.3.0->spacy>=2.0.18->fastai) (4.39.0)\n",
      "Requirement already satisfied: importlib-metadata>=0.20; python_version < \"3.8\" in /home/posoma/miniconda3/envs/posoma/lib/python3.7/site-packages (from catalogue<1.1.0,>=0.0.7->spacy>=2.0.18->fastai) (0.23)\n",
      "Requirement already satisfied: zipp>=0.5 in /home/posoma/miniconda3/envs/posoma/lib/python3.7/site-packages (from importlib-metadata>=0.20; python_version < \"3.8\"->catalogue<1.1.0,>=0.0.7->spacy>=2.0.18->fastai) (0.6.0)\n",
      "Requirement already satisfied: more-itertools in /home/posoma/miniconda3/envs/posoma/lib/python3.7/site-packages (from zipp>=0.5->importlib-metadata>=0.20; python_version < \"3.8\"->catalogue<1.1.0,>=0.0.7->spacy>=2.0.18->fastai) (7.2.0)\n"
     ]
    },
    {
     "name": "stdout",
     "output_type": "stream",
     "text": [
      "Requirement already satisfied: emoji in /home/posoma/miniconda3/envs/posoma/lib/python3.7/site-packages (0.5.4)\r\n"
     ]
    }
   ],
   "source": [
    "!pip install sklearn_crfsuite\n",
    "!pip install https://github.com/PyThaiNLP/pythainlp/archive/dev.zip\n",
    "!pip install fastai\n",
    "!pip install emoji"
   ]
  },
  {
   "cell_type": "code",
   "execution_count": 3,
   "metadata": {},
   "outputs": [],
   "source": [
    "import pandas as pd\n",
    "import numpy as np\n",
    "from ast import literal_eval\n",
    "from tqdm import tqdm_notebook\n",
    "from collections import Counter\n",
    "import re\n",
    "\n",
    "#viz\n",
    "import matplotlib.pyplot as plt\n",
    "import seaborn as sns\n",
    "\n",
    "#fastai\n",
    "import fastai\n",
    "from fastai.text import *\n",
    "from fastai.callbacks import CSVLogger\n",
    "\n",
    "#pythainlp\n",
    "from pythainlp.ulmfit import *"
   ]
  },
  {
   "cell_type": "code",
   "execution_count": 4,
   "metadata": {},
   "outputs": [],
   "source": [
    "def replace_url(text):\n",
    "    URL_PATTERN = r\"\"\"(?i)\\b((?:https?:(?:/{1,3}|[a-z0-9%])|[a-z0-9.\\-]+[.](?:com|net|org|edu|gov|mil|aero|asia|biz|cat|coop|info|int|jobs|mobi|museum|name|post|pro|tel|travel|xxx|ac|ad|ae|af|ag|ai|al|am|an|ao|aq|ar|as|at|au|aw|ax|az|ba|bb|bd|be|bf|bg|bh|bi|bj|bm|bn|bo|br|bs|bt|bv|bw|by|bz|ca|cc|cd|cf|cg|ch|ci|ck|cl|cm|cn|co|cr|cs|cu|cv|cx|cy|cz|dd|de|dj|dk|dm|do|dz|ec|ee|eg|eh|er|es|et|eu|fi|fj|fk|fm|fo|fr|ga|gb|gd|ge|gf|gg|gh|gi|gl|gm|gn|gp|gq|gr|gs|gt|gu|gw|gy|hk|hm|hn|hr|ht|hu|id|ie|il|im|in|io|iq|ir|is|it|je|jm|jo|jp|ke|kg|kh|ki|km|kn|kp|kr|kw|ky|kz|la|lb|lc|li|lk|lr|ls|lt|lu|lv|ly|ma|mc|md|me|mg|mh|mk|ml|mm|mn|mo|mp|mq|mr|ms|mt|mu|mv|mw|mx|my|mz|na|nc|ne|nf|ng|ni|nl|no|np|nr|nu|nz|om|pa|pe|pf|pg|ph|pk|pl|pm|pn|pr|ps|pt|pw|py|qa|re|ro|rs|ru|rw|sa|sb|sc|sd|se|sg|sh|si|sj|Ja|sk|sl|sm|sn|so|sr|ss|st|su|sv|sx|sy|sz|tc|td|tf|tg|th|tj|tk|tl|tm|tn|to|tp|tr|tt|tv|tw|tz|ua|ug|uk|us|uy|uz|va|vc|ve|vg|vi|vn|vu|wf|ws|ye|yt|yu|za|zm|zw)/)(?:[^\\s()<>{}\\[\\]]+|\\([^\\s()]*?\\([^\\s()]+\\)[^\\s()]*?\\)|\\([^\\s]+?\\))+(?:\\([^\\s()]*?\\([^\\s()]+\\)[^\\s()]*?\\)|\\([^\\s]+?\\)|[^\\s`!()\\[\\]{};:'\".,<>?«»“”‘’])|(?:(?<!@)[a-z0-9]+(?:[.\\-][a-z0-9]+)*[.](?:com|net|org|edu|gov|mil|aero|asia|biz|cat|coop|info|int|jobs|mobi|museum|name|post|pro|tel|travel|xxx|ac|ad|ae|af|ag|ai|al|am|an|ao|aq|ar|as|at|au|aw|ax|az|ba|bb|bd|be|bf|bg|bh|bi|bj|bm|bn|bo|br|bs|bt|bv|bw|by|bz|ca|cc|cd|cf|cg|ch|ci|ck|cl|cm|cn|co|cr|cs|cu|cv|cx|cy|cz|dd|de|dj|dk|dm|do|dz|ec|ee|eg|eh|er|es|et|eu|fi|fj|fk|fm|fo|fr|ga|gb|gd|ge|gf|gg|gh|gi|gl|gm|gn|gp|gq|gr|gs|gt|gu|gw|gy|hk|hm|hn|hr|ht|hu|id|ie|il|im|in|io|iq|ir|is|it|je|jm|jo|jp|ke|kg|kh|ki|km|kn|kp|kr|kw|ky|kz|la|lb|lc|li|lk|lr|ls|lt|lu|lv|ly|ma|mc|md|me|mg|mh|mk|ml|mm|mn|mo|mp|mq|mr|ms|mt|mu|mv|mw|mx|my|mz|na|nc|ne|nf|ng|ni|nl|no|np|nr|nu|nz|om|pa|pe|pf|pg|ph|pk|pl|pm|pn|pr|ps|pt|pw|py|qa|re|ro|rs|ru|rw|sa|sb|sc|sd|se|sg|sh|si|sj|Ja|sk|sl|sm|sn|so|sr|ss|st|su|sv|sx|sy|sz|tc|td|tf|tg|th|tj|tk|tl|tm|tn|to|tp|tr|tt|tv|tw|tz|ua|ug|uk|us|uy|uz|va|vc|ve|vg|vi|vn|vu|wf|ws|ye|yt|yu|za|zm|zw)\\b/?(?!@)))\"\"\"\n",
    "    return re.sub(URL_PATTERN, 'xxurl', text)\n",
    "\n",
    "def replace_rep(text):\n",
    "    def _replace_rep(m):\n",
    "        c,cc = m.groups()\n",
    "        return f'{c}xxrep'\n",
    "    re_rep = re.compile(r'(\\S)(\\1{2,})')\n",
    "    return re_rep.sub(_replace_rep, text)\n",
    "\n",
    "def ungroup_emoji(toks):\n",
    "    res = []\n",
    "    for tok in toks:\n",
    "        if emoji.emoji_count(tok) == len(tok):\n",
    "            for char in tok:\n",
    "                res.append(char)\n",
    "        else:\n",
    "            res.append(tok)\n",
    "    return res\n",
    "\n",
    "def process_text(text):\n",
    "    #pre rules\n",
    "    res = text.lower().strip()\n",
    "    res = replace_url(res)\n",
    "    res = replace_rep(res)\n",
    "    \n",
    "    #tokenize\n",
    "    res = [word for word in word_tokenize(res, engine='ulmfit') if word and not re.search(pattern=r\"\\s+\", string=word)]\n",
    "    \n",
    "    #post rules\n",
    "    res = ungroup_emoji(res)\n",
    "    \n",
    "    return res"
   ]
  },
  {
   "cell_type": "code",
   "execution_count": 5,
   "metadata": {},
   "outputs": [],
   "source": [
    "df = pd.read_excel('comment_1000perOneClass_quoteV2.xlsx')"
   ]
  },
  {
   "cell_type": "code",
   "execution_count": 6,
   "metadata": {},
   "outputs": [],
   "source": [
    "df1 = df.iloc[:5470,:]"
   ]
  },
  {
   "cell_type": "code",
   "execution_count": 7,
   "metadata": {
    "scrolled": true
   },
   "outputs": [
    {
     "data": {
      "text/html": [
       "<div>\n",
       "<style scoped>\n",
       "    .dataframe tbody tr th:only-of-type {\n",
       "        vertical-align: middle;\n",
       "    }\n",
       "\n",
       "    .dataframe tbody tr th {\n",
       "        vertical-align: top;\n",
       "    }\n",
       "\n",
       "    .dataframe thead th {\n",
       "        text-align: right;\n",
       "    }\n",
       "</style>\n",
       "<table border=\"1\" class=\"dataframe\">\n",
       "  <thead>\n",
       "    <tr style=\"text-align: right;\">\n",
       "      <th></th>\n",
       "      <th>comment_post_id</th>\n",
       "      <th>comment_id</th>\n",
       "      <th>comment_picture</th>\n",
       "      <th>comment_video</th>\n",
       "      <th>comment_u_time</th>\n",
       "      <th>top_fan</th>\n",
       "      <th>comment_reply_count</th>\n",
       "      <th>parent_comment</th>\n",
       "      <th>reply_comment_id</th>\n",
       "      <th>reply_comment_author_id</th>\n",
       "      <th>reply_comment_top_fan</th>\n",
       "      <th>reply_comment_pic</th>\n",
       "      <th>reply_comment_vid</th>\n",
       "      <th>reply_comment_reaction_count</th>\n",
       "      <th>reply_u_time</th>\n",
       "      <th>rude</th>\n",
       "      <th>offensive</th>\n",
       "      <th>figurative</th>\n",
       "      <th>dirty</th>\n",
       "    </tr>\n",
       "  </thead>\n",
       "  <tbody>\n",
       "    <tr>\n",
       "      <th>count</th>\n",
       "      <td>5.470000e+03</td>\n",
       "      <td>5.470000e+03</td>\n",
       "      <td>5470.000000</td>\n",
       "      <td>5470.000000</td>\n",
       "      <td>5.470000e+03</td>\n",
       "      <td>5470.000000</td>\n",
       "      <td>5470.000000</td>\n",
       "      <td>7.370000e+02</td>\n",
       "      <td>7.370000e+02</td>\n",
       "      <td>7.370000e+02</td>\n",
       "      <td>737.000000</td>\n",
       "      <td>737.000000</td>\n",
       "      <td>737.0</td>\n",
       "      <td>737.000000</td>\n",
       "      <td>7.370000e+02</td>\n",
       "      <td>5470.000000</td>\n",
       "      <td>5469.000000</td>\n",
       "      <td>5470.000000</td>\n",
       "      <td>5470.000000</td>\n",
       "    </tr>\n",
       "    <tr>\n",
       "      <th>mean</th>\n",
       "      <td>1.868730e+15</td>\n",
       "      <td>1.806821e+15</td>\n",
       "      <td>0.035283</td>\n",
       "      <td>0.000548</td>\n",
       "      <td>1.550721e+09</td>\n",
       "      <td>0.210786</td>\n",
       "      <td>0.158318</td>\n",
       "      <td>1.787571e+15</td>\n",
       "      <td>1.761618e+15</td>\n",
       "      <td>8.416359e+14</td>\n",
       "      <td>0.130258</td>\n",
       "      <td>0.016282</td>\n",
       "      <td>0.0</td>\n",
       "      <td>2.812754</td>\n",
       "      <td>1.549326e+09</td>\n",
       "      <td>0.701645</td>\n",
       "      <td>0.101481</td>\n",
       "      <td>0.205302</td>\n",
       "      <td>0.011883</td>\n",
       "    </tr>\n",
       "    <tr>\n",
       "      <th>std</th>\n",
       "      <td>5.745790e+14</td>\n",
       "      <td>4.293388e+14</td>\n",
       "      <td>0.184512</td>\n",
       "      <td>0.023415</td>\n",
       "      <td>2.139592e+07</td>\n",
       "      <td>0.407904</td>\n",
       "      <td>1.960615</td>\n",
       "      <td>4.137728e+14</td>\n",
       "      <td>4.575410e+14</td>\n",
       "      <td>8.865192e+14</td>\n",
       "      <td>0.336815</td>\n",
       "      <td>0.126645</td>\n",
       "      <td>0.0</td>\n",
       "      <td>8.429709</td>\n",
       "      <td>2.047070e+07</td>\n",
       "      <td>0.457578</td>\n",
       "      <td>0.301992</td>\n",
       "      <td>0.403959</td>\n",
       "      <td>0.108369</td>\n",
       "    </tr>\n",
       "    <tr>\n",
       "      <th>min</th>\n",
       "      <td>1.083968e+14</td>\n",
       "      <td>1.001940e+14</td>\n",
       "      <td>0.000000</td>\n",
       "      <td>0.000000</td>\n",
       "      <td>1.401444e+09</td>\n",
       "      <td>0.000000</td>\n",
       "      <td>0.000000</td>\n",
       "      <td>1.132041e+14</td>\n",
       "      <td>1.041302e+14</td>\n",
       "      <td>5.329571e+08</td>\n",
       "      <td>0.000000</td>\n",
       "      <td>0.000000</td>\n",
       "      <td>0.0</td>\n",
       "      <td>0.000000</td>\n",
       "      <td>1.436890e+09</td>\n",
       "      <td>0.000000</td>\n",
       "      <td>0.000000</td>\n",
       "      <td>0.000000</td>\n",
       "      <td>0.000000</td>\n",
       "    </tr>\n",
       "    <tr>\n",
       "      <th>25%</th>\n",
       "      <td>1.636257e+15</td>\n",
       "      <td>1.622646e+15</td>\n",
       "      <td>0.000000</td>\n",
       "      <td>0.000000</td>\n",
       "      <td>1.539754e+09</td>\n",
       "      <td>0.000000</td>\n",
       "      <td>0.000000</td>\n",
       "      <td>1.619361e+15</td>\n",
       "      <td>1.601602e+15</td>\n",
       "      <td>1.000018e+14</td>\n",
       "      <td>0.000000</td>\n",
       "      <td>0.000000</td>\n",
       "      <td>0.0</td>\n",
       "      <td>0.000000</td>\n",
       "      <td>1.538973e+09</td>\n",
       "      <td>0.000000</td>\n",
       "      <td>0.000000</td>\n",
       "      <td>0.000000</td>\n",
       "      <td>0.000000</td>\n",
       "    </tr>\n",
       "    <tr>\n",
       "      <th>50%</th>\n",
       "      <td>1.880022e+15</td>\n",
       "      <td>1.873567e+15</td>\n",
       "      <td>0.000000</td>\n",
       "      <td>0.000000</td>\n",
       "      <td>1.555135e+09</td>\n",
       "      <td>0.000000</td>\n",
       "      <td>0.000000</td>\n",
       "      <td>1.827692e+15</td>\n",
       "      <td>1.827856e+15</td>\n",
       "      <td>1.000218e+14</td>\n",
       "      <td>0.000000</td>\n",
       "      <td>0.000000</td>\n",
       "      <td>0.0</td>\n",
       "      <td>1.000000</td>\n",
       "      <td>1.552287e+09</td>\n",
       "      <td>1.000000</td>\n",
       "      <td>0.000000</td>\n",
       "      <td>0.000000</td>\n",
       "      <td>0.000000</td>\n",
       "    </tr>\n",
       "    <tr>\n",
       "      <th>75%</th>\n",
       "      <td>2.117763e+15</td>\n",
       "      <td>2.118491e+15</td>\n",
       "      <td>0.000000</td>\n",
       "      <td>0.000000</td>\n",
       "      <td>1.566616e+09</td>\n",
       "      <td>0.000000</td>\n",
       "      <td>0.000000</td>\n",
       "      <td>2.098684e+15</td>\n",
       "      <td>2.099350e+15</td>\n",
       "      <td>1.792046e+15</td>\n",
       "      <td>0.000000</td>\n",
       "      <td>0.000000</td>\n",
       "      <td>0.0</td>\n",
       "      <td>2.000000</td>\n",
       "      <td>1.565593e+09</td>\n",
       "      <td>1.000000</td>\n",
       "      <td>0.000000</td>\n",
       "      <td>0.000000</td>\n",
       "      <td>0.000000</td>\n",
       "    </tr>\n",
       "    <tr>\n",
       "      <th>max</th>\n",
       "      <td>1.020190e+16</td>\n",
       "      <td>2.538749e+15</td>\n",
       "      <td>1.000000</td>\n",
       "      <td>1.000000</td>\n",
       "      <td>1.576811e+09</td>\n",
       "      <td>1.000000</td>\n",
       "      <td>58.000000</td>\n",
       "      <td>2.357923e+15</td>\n",
       "      <td>2.340533e+15</td>\n",
       "      <td>3.032810e+15</td>\n",
       "      <td>1.000000</td>\n",
       "      <td>1.000000</td>\n",
       "      <td>0.0</td>\n",
       "      <td>123.000000</td>\n",
       "      <td>1.576666e+09</td>\n",
       "      <td>1.000000</td>\n",
       "      <td>1.000000</td>\n",
       "      <td>1.000000</td>\n",
       "      <td>1.000000</td>\n",
       "    </tr>\n",
       "  </tbody>\n",
       "</table>\n",
       "</div>"
      ],
      "text/plain": [
       "       comment_post_id    comment_id  comment_picture  comment_video  \\\n",
       "count     5.470000e+03  5.470000e+03      5470.000000    5470.000000   \n",
       "mean      1.868730e+15  1.806821e+15         0.035283       0.000548   \n",
       "std       5.745790e+14  4.293388e+14         0.184512       0.023415   \n",
       "min       1.083968e+14  1.001940e+14         0.000000       0.000000   \n",
       "25%       1.636257e+15  1.622646e+15         0.000000       0.000000   \n",
       "50%       1.880022e+15  1.873567e+15         0.000000       0.000000   \n",
       "75%       2.117763e+15  2.118491e+15         0.000000       0.000000   \n",
       "max       1.020190e+16  2.538749e+15         1.000000       1.000000   \n",
       "\n",
       "       comment_u_time      top_fan  comment_reply_count  parent_comment  \\\n",
       "count    5.470000e+03  5470.000000          5470.000000    7.370000e+02   \n",
       "mean     1.550721e+09     0.210786             0.158318    1.787571e+15   \n",
       "std      2.139592e+07     0.407904             1.960615    4.137728e+14   \n",
       "min      1.401444e+09     0.000000             0.000000    1.132041e+14   \n",
       "25%      1.539754e+09     0.000000             0.000000    1.619361e+15   \n",
       "50%      1.555135e+09     0.000000             0.000000    1.827692e+15   \n",
       "75%      1.566616e+09     0.000000             0.000000    2.098684e+15   \n",
       "max      1.576811e+09     1.000000            58.000000    2.357923e+15   \n",
       "\n",
       "       reply_comment_id  reply_comment_author_id  reply_comment_top_fan  \\\n",
       "count      7.370000e+02             7.370000e+02             737.000000   \n",
       "mean       1.761618e+15             8.416359e+14               0.130258   \n",
       "std        4.575410e+14             8.865192e+14               0.336815   \n",
       "min        1.041302e+14             5.329571e+08               0.000000   \n",
       "25%        1.601602e+15             1.000018e+14               0.000000   \n",
       "50%        1.827856e+15             1.000218e+14               0.000000   \n",
       "75%        2.099350e+15             1.792046e+15               0.000000   \n",
       "max        2.340533e+15             3.032810e+15               1.000000   \n",
       "\n",
       "       reply_comment_pic  reply_comment_vid  reply_comment_reaction_count  \\\n",
       "count         737.000000              737.0                    737.000000   \n",
       "mean            0.016282                0.0                      2.812754   \n",
       "std             0.126645                0.0                      8.429709   \n",
       "min             0.000000                0.0                      0.000000   \n",
       "25%             0.000000                0.0                      0.000000   \n",
       "50%             0.000000                0.0                      1.000000   \n",
       "75%             0.000000                0.0                      2.000000   \n",
       "max             1.000000                0.0                    123.000000   \n",
       "\n",
       "       reply_u_time         rude    offensive   figurative        dirty  \n",
       "count  7.370000e+02  5470.000000  5469.000000  5470.000000  5470.000000  \n",
       "mean   1.549326e+09     0.701645     0.101481     0.205302     0.011883  \n",
       "std    2.047070e+07     0.457578     0.301992     0.403959     0.108369  \n",
       "min    1.436890e+09     0.000000     0.000000     0.000000     0.000000  \n",
       "25%    1.538973e+09     0.000000     0.000000     0.000000     0.000000  \n",
       "50%    1.552287e+09     1.000000     0.000000     0.000000     0.000000  \n",
       "75%    1.565593e+09     1.000000     0.000000     0.000000     0.000000  \n",
       "max    1.576666e+09     1.000000     1.000000     1.000000     1.000000  "
      ]
     },
     "execution_count": 7,
     "metadata": {},
     "output_type": "execute_result"
    }
   ],
   "source": [
    "df1.describe()"
   ]
  },
  {
   "cell_type": "code",
   "execution_count": 8,
   "metadata": {
    "scrolled": false
   },
   "outputs": [],
   "source": [
    "# df2 = df1[['comment_text','rude', 'offensive', 'figurative', 'dirty']]\n",
    "df2 = df1[['comment_text','rude']]"
   ]
  },
  {
   "cell_type": "code",
   "execution_count": 9,
   "metadata": {
    "scrolled": true
   },
   "outputs": [
    {
     "name": "stderr",
     "output_type": "stream",
     "text": [
      "/home/posoma/miniconda3/envs/posoma/lib/python3.7/site-packages/ipykernel_launcher.py:1: SettingWithCopyWarning: \n",
      "A value is trying to be set on a copy of a slice from a DataFrame\n",
      "\n",
      "See the caveats in the documentation: http://pandas.pydata.org/pandas-docs/stable/user_guide/indexing.html#returning-a-view-versus-a-copy\n",
      "  \"\"\"Entry point for launching an IPython kernel.\n"
     ]
    }
   ],
   "source": [
    "df2.dropna(inplace=True)"
   ]
  },
  {
   "cell_type": "code",
   "execution_count": 10,
   "metadata": {},
   "outputs": [],
   "source": [
    "abuss_type = 'rude'"
   ]
  },
  {
   "cell_type": "code",
   "execution_count": 11,
   "metadata": {
    "scrolled": true
   },
   "outputs": [
    {
     "name": "stderr",
     "output_type": "stream",
     "text": [
      "/home/posoma/miniconda3/envs/posoma/lib/python3.7/site-packages/ipykernel_launcher.py:1: SettingWithCopyWarning: \n",
      "A value is trying to be set on a copy of a slice from a DataFrame.\n",
      "Try using .loc[row_indexer,col_indexer] = value instead\n",
      "\n",
      "See the caveats in the documentation: http://pandas.pydata.org/pandas-docs/stable/user_guide/indexing.html#returning-a-view-versus-a-copy\n",
      "  \"\"\"Entry point for launching an IPython kernel.\n"
     ]
    }
   ],
   "source": [
    "df2[abuss_type] = pd.to_numeric(df2[abuss_type], downcast='integer')"
   ]
  },
  {
   "cell_type": "code",
   "execution_count": 12,
   "metadata": {
    "scrolled": true
   },
   "outputs": [],
   "source": [
    "df2.columns = ['texts', 'category']\n",
    "\n",
    "import numpy as np\n",
    "from sklearn.model_selection import train_test_split\n",
    "\n",
    "all_df, test_df = train_test_split(df2, train_size = 0.7, shuffle = True)\n",
    "\n",
    "all_df['processed'] = all_df.texts.map(lambda x: '|'.join(process_text(x)))\n",
    "all_df['wc'] = all_df.processed.map(lambda x: len(x.split('|')))\n",
    "all_df['uwc'] = all_df.processed.map(lambda x: len(set(x.split('|'))))\n",
    "\n",
    "test_df['processed'] = test_df.texts.map(lambda x: '|'.join(process_text(x)))\n",
    "test_df['wc'] = test_df.processed.map(lambda x: len(x.split('|')))\n",
    "test_df['uwc'] = test_df.processed.map(lambda x: len(set(x.split('|'))))"
   ]
  },
  {
   "cell_type": "code",
   "execution_count": 16,
   "metadata": {},
   "outputs": [
    {
     "data": {
      "text/plain": [
       "1    0.701933\n",
       "0    0.298067\n",
       "Name: category, dtype: float64"
      ]
     },
     "execution_count": 16,
     "metadata": {},
     "output_type": "execute_result"
    }
   ],
   "source": [
    "all_df.category.value_counts() / all_df.shape[0]"
   ]
  },
  {
   "cell_type": "code",
   "execution_count": 17,
   "metadata": {},
   "outputs": [],
   "source": [
    "from sklearn.model_selection import train_test_split\n",
    "train_df, valid_df = train_test_split(all_df, test_size=0.15, random_state=1412)\n",
    "train_df = train_df.reset_index(drop=True)\n",
    "valid_df = valid_df.reset_index(drop=True)"
   ]
  },
  {
   "cell_type": "code",
   "execution_count": 18,
   "metadata": {},
   "outputs": [
    {
     "name": "stdout",
     "output_type": "stream",
     "text": [
      "1    0.703966\n",
      "0    0.296034\n",
      "Name: category, dtype: float64\n",
      "1    0.690435\n",
      "0    0.309565\n",
      "Name: category, dtype: float64\n"
     ]
    }
   ],
   "source": [
    "print(train_df['category'].value_counts() / train_df.shape[0])\n",
    "print(valid_df['category'].value_counts() / valid_df.shape[0])"
   ]
  },
  {
   "cell_type": "code",
   "execution_count": 19,
   "metadata": {},
   "outputs": [],
   "source": [
    "y_train = train_df['category']\n",
    "y_valid = valid_df['category']"
   ]
  },
  {
   "cell_type": "code",
   "execution_count": 20,
   "metadata": {},
   "outputs": [
    {
     "name": "stderr",
     "output_type": "stream",
     "text": [
      "/home/posoma/miniconda3/envs/posoma/lib/python3.7/site-packages/sklearn/feature_extraction/text.py:507: UserWarning: The parameter 'token_pattern' will not be used since 'tokenizer' is not None'\n",
      "  warnings.warn(\"The parameter 'token_pattern' will not be used\"\n"
     ]
    },
    {
     "data": {
      "text/plain": [
       "((3253, 578), (575, 578))"
      ]
     },
     "execution_count": 20,
     "metadata": {},
     "output_type": "execute_result"
    }
   ],
   "source": [
    "from sklearn.feature_extraction.text import TfidfVectorizer\n",
    "from sklearn.linear_model import LogisticRegression\n",
    "\n",
    "tfidf = TfidfVectorizer(tokenizer=process_text, ngram_range=(1,2), min_df=20, sublinear_tf=True)\n",
    "tfidf_fit = tfidf.fit(all_df['texts'])\n",
    "text_train = tfidf_fit.transform(train_df['texts'])\n",
    "text_valid = tfidf_fit.transform(valid_df['texts'])\n",
    "text_test = tfidf_fit.transform(test_df['texts'])\n",
    "text_train.shape, text_valid.shape"
   ]
  },
  {
   "cell_type": "code",
   "execution_count": 21,
   "metadata": {},
   "outputs": [
    {
     "name": "stdout",
     "output_type": "stream",
     "text": [
      "[18.312173 16.183124] [267.976477 166.467249]\n"
     ]
    },
    {
     "data": {
      "text/plain": [
       "((3253, 2), (575, 2))"
      ]
     },
     "execution_count": 21,
     "metadata": {},
     "output_type": "execute_result"
    }
   ],
   "source": [
    "from sklearn.preprocessing import StandardScaler\n",
    "\n",
    "scaler = StandardScaler()\n",
    "scaler_fit = scaler.fit(all_df[['wc','uwc']].astype(float))\n",
    "print(scaler_fit.mean_, scaler_fit.var_)\n",
    "num_train = scaler_fit.transform(train_df[['wc','uwc']].astype(float))\n",
    "num_valid = scaler_fit.transform(valid_df[['wc','uwc']].astype(float))\n",
    "num_test = scaler_fit.transform(test_df[['wc','uwc']].astype(float))\n",
    "num_train.shape, num_valid.shape"
   ]
  },
  {
   "cell_type": "code",
   "execution_count": 22,
   "metadata": {},
   "outputs": [
    {
     "data": {
      "text/plain": [
       "((3253, 580), (575, 580))"
      ]
     },
     "execution_count": 22,
     "metadata": {},
     "output_type": "execute_result"
    }
   ],
   "source": [
    "X_train = np.concatenate([num_train,text_train.toarray()],axis=1)\n",
    "X_valid = np.concatenate([num_valid,text_valid.toarray()],axis=1)\n",
    "X_test = np.concatenate([num_test,text_test.toarray()],axis=1)\n",
    "X_train.shape, X_valid.shape"
   ]
  },
  {
   "cell_type": "code",
   "execution_count": 23,
   "metadata": {},
   "outputs": [
    {
     "data": {
      "text/plain": [
       "0.8730434782608696"
      ]
     },
     "execution_count": 23,
     "metadata": {},
     "output_type": "execute_result"
    }
   ],
   "source": [
    "model = LogisticRegression(C=2., penalty='l2', solver='liblinear', dual=False, multi_class='ovr')\n",
    "model.fit(X_train,y_train)\n",
    "model.score(X_valid,y_valid)"
   ]
  },
  {
   "cell_type": "code",
   "execution_count": 24,
   "metadata": {},
   "outputs": [],
   "source": [
    "probs = model.predict_proba(X_valid)\n",
    "probs_df = pd.DataFrame(probs)\n",
    "probs_df.columns = model.classes_\n",
    "probs_df['preds'] = model.predict(X_valid)\n",
    "probs_df['category'] = valid_df.category\n",
    "probs_df['texts'] = valid_df.texts\n",
    "probs_df['processed'] = valid_df.processed\n",
    "probs_df['wc'] = valid_df.wc\n",
    "probs_df['uwc'] = valid_df.uwc\n",
    "probs_df['hit'] = (probs_df.preds==probs_df.category)\n",
    "probs_df.to_csv('probs_df_linear.csv',index=False)"
   ]
  },
  {
   "cell_type": "code",
   "execution_count": 25,
   "metadata": {},
   "outputs": [
    {
     "name": "stdout",
     "output_type": "stream",
     "text": [
      "0.8730434782608696\n"
     ]
    },
    {
     "data": {
      "image/png": "[encoded data removed]",
      "text/plain": [
       "<Figure size 432x288 with 2 Axes>"
      ]
     },
     "metadata": {
      "needs_background": "light"
     },
     "output_type": "display_data"
    }
   ],
   "source": [
    "from sklearn.metrics import confusion_matrix\n",
    "\n",
    "conf_mat = confusion_matrix(probs_df.category,probs_df.preds)\n",
    "print(model.score(X_valid,y_valid))\n",
    "sns.heatmap(conf_mat, annot=True, fmt='d',\n",
    "            xticklabels=model.classes_, yticklabels=model.classes_)\n",
    "plt.ylabel('Actual')\n",
    "plt.xlabel('Predicted')\n",
    "plt.show()"
   ]
  },
  {
   "cell_type": "code",
   "execution_count": 26,
   "metadata": {},
   "outputs": [
    {
     "name": "stdout",
     "output_type": "stream",
     "text": [
      "(5470, 5)\n"
     ]
    },
    {
     "name": "stderr",
     "output_type": "stream",
     "text": [
      "/home/posoma/miniconda3/envs/posoma/lib/python3.7/site-packages/ipykernel_launcher.py:1: SettingWithCopyWarning: \n",
      "A value is trying to be set on a copy of a slice from a DataFrame.\n",
      "Try using .loc[row_indexer,col_indexer] = value instead\n",
      "\n",
      "See the caveats in the documentation: http://pandas.pydata.org/pandas-docs/stable/user_guide/indexing.html#returning-a-view-versus-a-copy\n",
      "  \"\"\"Entry point for launching an IPython kernel.\n"
     ]
    }
   ],
   "source": [
    "test_df['category'] = model.predict(X_test)\n",
    "all_aug = pd.concat([test_df,all_df]).reset_index(drop=True)\n",
    "print(all_aug.shape)\n",
    "# all_aug.to_csv('all_aug.csv',index=False)"
   ]
  },
  {
   "cell_type": "markdown",
   "metadata": {},
   "source": [
    "# ULMFIT"
   ]
  },
  {
   "cell_type": "code",
   "execution_count": 29,
   "metadata": {},
   "outputs": [],
   "source": [
    "# import pandas as pd\n",
    "# import numpy as np\n",
    "# from ast import literal_eval\n",
    "# from tqdm import tqdm_notebook\n",
    "# from collections import Counter\n",
    "# import re\n",
    "\n",
    "# #viz\n",
    "# import matplotlib.pyplot as plt\n",
    "# import seaborn as sns\n",
    "\n",
    "# #fastai\n",
    "# import fastai\n",
    "# from fastai.text import *\n",
    "# from fastai.callbacks import CSVLogger\n",
    "\n",
    "# #pythainlp\n",
    "# from pythainlp.ulmfit import *\n",
    "model_path = 'wisesight_data/'"
   ]
  },
  {
   "cell_type": "code",
   "execution_count": 30,
   "metadata": {},
   "outputs": [],
   "source": [
    "train_df, valid_df = train_test_split(all_df, test_size=0.15, random_state=1412)"
   ]
  },
  {
   "cell_type": "code",
   "execution_count": 31,
   "metadata": {},
   "outputs": [
    {
     "name": "stderr",
     "output_type": "stream",
     "text": [
      "/home/posoma/miniconda3/envs/posoma/lib/python3.7/site-packages/fastai/data_block.py:215: UserWarning: `random_split_by_pct` is deprecated, please use `split_by_rand_pct`.\n",
      "  warn(\"`random_split_by_pct` is deprecated, please use `split_by_rand_pct`.\")\n"
     ]
    },
    {
     "data": {
      "text/html": [],
      "text/plain": [
       "<IPython.core.display.HTML object>"
      ]
     },
     "metadata": {},
     "output_type": "display_data"
    },
    {
     "data": {
      "text/html": [],
      "text/plain": [
       "<IPython.core.display.HTML object>"
      ]
     },
     "metadata": {},
     "output_type": "display_data"
    }
   ],
   "source": [
    "tt = Tokenizer(tok_func = ThaiTokenizer, lang = 'th', pre_rules = pre_rules_th, post_rules=post_rules_th)\n",
    "processor = [TokenizeProcessor(tokenizer=tt, chunksize=10000, mark_fields=False),\n",
    "            NumericalizeProcessor(vocab=None, max_vocab=60000, min_freq=2)]\n",
    "\n",
    "data_lm = (TextList.from_df(all_df, model_path, cols='texts', processor=processor)\n",
    "    .random_split_by_pct(valid_pct = 0.01, seed = 1412)\n",
    "    .label_for_lm()\n",
    "    .databunch(bs=48))\n",
    "data_lm.sanity_check()"
   ]
  },
  {
   "cell_type": "code",
   "execution_count": 32,
   "metadata": {},
   "outputs": [
    {
     "data": {
      "text/plain": [
       "(3790, 38)"
      ]
     },
     "execution_count": 32,
     "metadata": {},
     "output_type": "execute_result"
    }
   ],
   "source": [
    "data_lm.sanity_check()\n",
    "len(data_lm.train_ds), len(data_lm.valid_ds)"
   ]
  },
  {
   "cell_type": "code",
   "execution_count": 33,
   "metadata": {},
   "outputs": [
    {
     "ename": "RuntimeError",
     "evalue": "unexpected EOF, expected 20330968 more bytes. The file might be corrupted.",
     "output_type": "error",
     "traceback": [
      "\u001b[0;31m---------------------------------------------------------------------------\u001b[0m",
      "\u001b[0;31mRuntimeError\u001b[0m                              Traceback (most recent call last)",
      "\u001b[0;32m<ipython-input-33-59b0f8c559ad>\u001b[0m in \u001b[0;36m<module>\u001b[0;34m\u001b[0m\n\u001b[1;32m      6\u001b[0m \u001b[0;34m\u001b[0m\u001b[0m\n\u001b[1;32m      7\u001b[0m \u001b[0;31m#load pretrained models\u001b[0m\u001b[0;34m\u001b[0m\u001b[0;34m\u001b[0m\u001b[0;34m\u001b[0m\u001b[0m\n\u001b[0;32m----> 8\u001b[0;31m \u001b[0mlearn\u001b[0m\u001b[0;34m.\u001b[0m\u001b[0mload_pretrained\u001b[0m\u001b[0;34m(\u001b[0m\u001b[0;34m**\u001b[0m\u001b[0m_THWIKI_LSTM\u001b[0m\u001b[0;34m)\u001b[0m\u001b[0;34m\u001b[0m\u001b[0;34m\u001b[0m\u001b[0m\n\u001b[0m",
      "\u001b[0;32m~/miniconda3/envs/posoma/lib/python3.7/site-packages/fastai/text/learner.py\u001b[0m in \u001b[0;36mload_pretrained\u001b[0;34m(self, wgts_fname, itos_fname, strict)\u001b[0m\n\u001b[1;32m     77\u001b[0m         \u001b[0mold_itos\u001b[0m \u001b[0;34m=\u001b[0m \u001b[0mpickle\u001b[0m\u001b[0;34m.\u001b[0m\u001b[0mload\u001b[0m\u001b[0;34m(\u001b[0m\u001b[0mopen\u001b[0m\u001b[0;34m(\u001b[0m\u001b[0mitos_fname\u001b[0m\u001b[0;34m,\u001b[0m \u001b[0;34m'rb'\u001b[0m\u001b[0;34m)\u001b[0m\u001b[0;34m)\u001b[0m\u001b[0;34m\u001b[0m\u001b[0;34m\u001b[0m\u001b[0m\n\u001b[1;32m     78\u001b[0m         \u001b[0mold_stoi\u001b[0m \u001b[0;34m=\u001b[0m \u001b[0;34m{\u001b[0m\u001b[0mv\u001b[0m\u001b[0;34m:\u001b[0m\u001b[0mk\u001b[0m \u001b[0;32mfor\u001b[0m \u001b[0mk\u001b[0m\u001b[0;34m,\u001b[0m\u001b[0mv\u001b[0m \u001b[0;32min\u001b[0m \u001b[0menumerate\u001b[0m\u001b[0;34m(\u001b[0m\u001b[0mold_itos\u001b[0m\u001b[0;34m)\u001b[0m\u001b[0;34m}\u001b[0m\u001b[0;34m\u001b[0m\u001b[0;34m\u001b[0m\u001b[0m\n\u001b[0;32m---> 79\u001b[0;31m         \u001b[0mwgts\u001b[0m \u001b[0;34m=\u001b[0m \u001b[0mtorch\u001b[0m\u001b[0;34m.\u001b[0m\u001b[0mload\u001b[0m\u001b[0;34m(\u001b[0m\u001b[0mwgts_fname\u001b[0m\u001b[0;34m,\u001b[0m \u001b[0mmap_location\u001b[0m\u001b[0;34m=\u001b[0m\u001b[0;32mlambda\u001b[0m \u001b[0mstorage\u001b[0m\u001b[0;34m,\u001b[0m \u001b[0mloc\u001b[0m\u001b[0;34m:\u001b[0m \u001b[0mstorage\u001b[0m\u001b[0;34m)\u001b[0m\u001b[0;34m\u001b[0m\u001b[0;34m\u001b[0m\u001b[0m\n\u001b[0m\u001b[1;32m     80\u001b[0m         \u001b[0;32mif\u001b[0m \u001b[0;34m'model'\u001b[0m \u001b[0;32min\u001b[0m \u001b[0mwgts\u001b[0m\u001b[0;34m:\u001b[0m \u001b[0mwgts\u001b[0m \u001b[0;34m=\u001b[0m \u001b[0mwgts\u001b[0m\u001b[0;34m[\u001b[0m\u001b[0;34m'model'\u001b[0m\u001b[0;34m]\u001b[0m\u001b[0;34m\u001b[0m\u001b[0;34m\u001b[0m\u001b[0m\n\u001b[1;32m     81\u001b[0m         \u001b[0mwgts\u001b[0m \u001b[0;34m=\u001b[0m \u001b[0mconvert_weights\u001b[0m\u001b[0;34m(\u001b[0m\u001b[0mwgts\u001b[0m\u001b[0;34m,\u001b[0m \u001b[0mold_stoi\u001b[0m\u001b[0;34m,\u001b[0m \u001b[0mself\u001b[0m\u001b[0;34m.\u001b[0m\u001b[0mdata\u001b[0m\u001b[0;34m.\u001b[0m\u001b[0mtrain_ds\u001b[0m\u001b[0;34m.\u001b[0m\u001b[0mvocab\u001b[0m\u001b[0;34m.\u001b[0m\u001b[0mitos\u001b[0m\u001b[0;34m)\u001b[0m\u001b[0;34m\u001b[0m\u001b[0;34m\u001b[0m\u001b[0m\n",
      "\u001b[0;32m~/miniconda3/envs/posoma/lib/python3.7/site-packages/torch/serialization.py\u001b[0m in \u001b[0;36mload\u001b[0;34m(f, map_location, pickle_module, **pickle_load_args)\u001b[0m\n\u001b[1;32m    424\u001b[0m         \u001b[0;32mif\u001b[0m \u001b[0msys\u001b[0m\u001b[0;34m.\u001b[0m\u001b[0mversion_info\u001b[0m \u001b[0;34m>=\u001b[0m \u001b[0;34m(\u001b[0m\u001b[0;36m3\u001b[0m\u001b[0;34m,\u001b[0m \u001b[0;36m0\u001b[0m\u001b[0;34m)\u001b[0m \u001b[0;32mand\u001b[0m \u001b[0;34m'encoding'\u001b[0m \u001b[0;32mnot\u001b[0m \u001b[0;32min\u001b[0m \u001b[0mpickle_load_args\u001b[0m\u001b[0;34m.\u001b[0m\u001b[0mkeys\u001b[0m\u001b[0;34m(\u001b[0m\u001b[0;34m)\u001b[0m\u001b[0;34m:\u001b[0m\u001b[0;34m\u001b[0m\u001b[0;34m\u001b[0m\u001b[0m\n\u001b[1;32m    425\u001b[0m             \u001b[0mpickle_load_args\u001b[0m\u001b[0;34m[\u001b[0m\u001b[0;34m'encoding'\u001b[0m\u001b[0;34m]\u001b[0m \u001b[0;34m=\u001b[0m \u001b[0;34m'utf-8'\u001b[0m\u001b[0;34m\u001b[0m\u001b[0;34m\u001b[0m\u001b[0m\n\u001b[0;32m--> 426\u001b[0;31m         \u001b[0;32mreturn\u001b[0m \u001b[0m_load\u001b[0m\u001b[0;34m(\u001b[0m\u001b[0mf\u001b[0m\u001b[0;34m,\u001b[0m \u001b[0mmap_location\u001b[0m\u001b[0;34m,\u001b[0m \u001b[0mpickle_module\u001b[0m\u001b[0;34m,\u001b[0m \u001b[0;34m**\u001b[0m\u001b[0mpickle_load_args\u001b[0m\u001b[0;34m)\u001b[0m\u001b[0;34m\u001b[0m\u001b[0;34m\u001b[0m\u001b[0m\n\u001b[0m\u001b[1;32m    427\u001b[0m     \u001b[0;32mfinally\u001b[0m\u001b[0;34m:\u001b[0m\u001b[0;34m\u001b[0m\u001b[0;34m\u001b[0m\u001b[0m\n\u001b[1;32m    428\u001b[0m         \u001b[0;32mif\u001b[0m \u001b[0mnew_fd\u001b[0m\u001b[0;34m:\u001b[0m\u001b[0;34m\u001b[0m\u001b[0;34m\u001b[0m\u001b[0m\n",
      "\u001b[0;32m~/miniconda3/envs/posoma/lib/python3.7/site-packages/torch/serialization.py\u001b[0m in \u001b[0;36m_load\u001b[0;34m(f, map_location, pickle_module, **pickle_load_args)\u001b[0m\n\u001b[1;32m    618\u001b[0m     \u001b[0;32mfor\u001b[0m \u001b[0mkey\u001b[0m \u001b[0;32min\u001b[0m \u001b[0mdeserialized_storage_keys\u001b[0m\u001b[0;34m:\u001b[0m\u001b[0;34m\u001b[0m\u001b[0;34m\u001b[0m\u001b[0m\n\u001b[1;32m    619\u001b[0m         \u001b[0;32massert\u001b[0m \u001b[0mkey\u001b[0m \u001b[0;32min\u001b[0m \u001b[0mdeserialized_objects\u001b[0m\u001b[0;34m\u001b[0m\u001b[0;34m\u001b[0m\u001b[0m\n\u001b[0;32m--> 620\u001b[0;31m         \u001b[0mdeserialized_objects\u001b[0m\u001b[0;34m[\u001b[0m\u001b[0mkey\u001b[0m\u001b[0;34m]\u001b[0m\u001b[0;34m.\u001b[0m\u001b[0m_set_from_file\u001b[0m\u001b[0;34m(\u001b[0m\u001b[0mf\u001b[0m\u001b[0;34m,\u001b[0m \u001b[0moffset\u001b[0m\u001b[0;34m,\u001b[0m \u001b[0mf_should_read_directly\u001b[0m\u001b[0;34m)\u001b[0m\u001b[0;34m\u001b[0m\u001b[0;34m\u001b[0m\u001b[0m\n\u001b[0m\u001b[1;32m    621\u001b[0m         \u001b[0;32mif\u001b[0m \u001b[0moffset\u001b[0m \u001b[0;32mis\u001b[0m \u001b[0;32mnot\u001b[0m \u001b[0;32mNone\u001b[0m\u001b[0;34m:\u001b[0m\u001b[0;34m\u001b[0m\u001b[0;34m\u001b[0m\u001b[0m\n\u001b[1;32m    622\u001b[0m             \u001b[0moffset\u001b[0m \u001b[0;34m=\u001b[0m \u001b[0mf\u001b[0m\u001b[0;34m.\u001b[0m\u001b[0mtell\u001b[0m\u001b[0;34m(\u001b[0m\u001b[0;34m)\u001b[0m\u001b[0;34m\u001b[0m\u001b[0;34m\u001b[0m\u001b[0m\n",
      "\u001b[0;31mRuntimeError\u001b[0m: unexpected EOF, expected 20330968 more bytes. The file might be corrupted."
     ]
    }
   ],
   "source": [
    "config = dict(emb_sz=400, n_hid=1550, n_layers=4, pad_token=1, qrnn=False, tie_weights=True, out_bias=True,\n",
    "             output_p=0.25, hidden_p=0.1, input_p=0.2, embed_p=0.02, weight_p=0.15)\n",
    "trn_args = dict(drop_mult=1., clip=0.12, alpha=2, beta=1)\n",
    "\n",
    "learn = language_model_learner(data_lm, AWD_LSTM, config=config, pretrained=False, **trn_args)\n",
    "\n",
    "#load pretrained models\n",
    "learn.load_pretrained(**_THWIKI_LSTM)"
   ]
  },
  {
   "cell_type": "code",
   "execution_count": 34,
   "metadata": {},
   "outputs": [
    {
     "data": {
      "text/plain": [
       "'1.3.1'"
      ]
     },
     "execution_count": 34,
     "metadata": {},
     "output_type": "execute_result"
    }
   ],
   "source": [
    "torch.__version__"
   ]
  },
  {
   "cell_type": "code",
   "execution_count": 35,
   "metadata": {},
   "outputs": [
    {
     "name": "stdout",
     "output_type": "stream",
     "text": [
      "# conda environments:\r\n",
      "#\r\n",
      "base                     /home/posoma/miniconda3\r\n",
      "posoma                *  /home/posoma/miniconda3/envs/posoma\r\n",
      "\r\n"
     ]
    }
   ],
   "source": [
    "!conda info -e"
   ]
  },
  {
   "cell_type": "code",
   "execution_count": null,
   "metadata": {},
   "outputs": [],
   "source": []
  }
 ],
 "metadata": {
  "kernelspec": {
   "display_name": "Python 3",
   "language": "python",
   "name": "python3"
  },
  "language_info": {
   "codemirror_mode": {
    "name": "ipython",
    "version": 3
   },
   "file_extension": ".py",
   "mimetype": "text/x-python",
   "name": "python",
   "nbconvert_exporter": "python",
   "pygments_lexer": "ipython3",
   "version": "3.7.5"
  }
 },
 "nbformat": 4,
 "nbformat_minor": 2
}
