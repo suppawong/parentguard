{
 "cells": [
  {
   "cell_type": "code",
   "execution_count": 1,
   "metadata": {
    "colab": {
     "base_uri": "https://localhost:8080/",
     "height": 34
    },
    "colab_type": "code",
    "executionInfo": {
     "elapsed": 35720,
     "status": "ok",
     "timestamp": 1581520124493,
     "user": {
      "displayName": "Pochara Sangtunchai",
      "photoUrl": "",
      "userId": "03850728396216038769"
     },
     "user_tz": -420
    },
    "id": "VKTep5-EsmDR",
    "outputId": "2bcc1db7-cb19-458d-875b-9c4fb0aad1c6"
   },
   "outputs": [],
   "source": [
    "import pandas as pd\n",
    "import numpy as np\n",
    "from pythainlp import word_tokenize\n",
    "from tqdm import tqdm_notebook\n",
    "import re\n",
    "import emoji\n",
    "\n",
    "#viz\n",
    "from plotnine import *\n",
    "import matplotlib.pyplot as plt\n",
    "import seaborn as sns\n",
    "\n",
    "from ast import literal_eval\n",
    "from collections import Counter\n",
    "\n",
    "#fastai\n",
    "import fastai\n",
    "from fastai.text import *\n",
    "from fastai.callbacks import CSVLogger\n",
    "\n",
    "#pythainlp\n",
    "from pythainlp.ulmfit import *\n",
    "\n",
    "\n",
    "import numpy as np\n",
    "from sklearn.model_selection import train_test_split\n",
    "\n",
    "from fastai.text import *\n",
    "from fastai.callbacks import CSVLogger, SaveModelCallback\n",
    "from pythainlp.ulmfit import *\n",
    "\n",
    "\n",
    "from sklearn.metrics import f1_score\n",
    "\n",
    "import time\n",
    "\n",
    "\n",
    "\n",
    "from sklearn.metrics import confusion_matrix"
   ]
  },
  {
   "cell_type": "code",
   "execution_count": 2,
   "metadata": {
    "colab": {},
    "colab_type": "code",
    "id": "EN4_OlNiwxiP"
   },
   "outputs": [],
   "source": [
    "def replace_url(text):\n",
    "    URL_PATTERN = r\"\"\"(?i)\\b((?:https?:(?:/{1,3}|[a-z0-9%])|[a-z0-9.\\-]+[.](?:com|net|org|edu|gov|mil|aero|asia|biz|cat|coop|info|int|jobs|mobi|museum|name|post|pro|tel|travel|xxx|ac|ad|ae|af|ag|ai|al|am|an|ao|aq|ar|as|at|au|aw|ax|az|ba|bb|bd|be|bf|bg|bh|bi|bj|bm|bn|bo|br|bs|bt|bv|bw|by|bz|ca|cc|cd|cf|cg|ch|ci|ck|cl|cm|cn|co|cr|cs|cu|cv|cx|cy|cz|dd|de|dj|dk|dm|do|dz|ec|ee|eg|eh|er|es|et|eu|fi|fj|fk|fm|fo|fr|ga|gb|gd|ge|gf|gg|gh|gi|gl|gm|gn|gp|gq|gr|gs|gt|gu|gw|gy|hk|hm|hn|hr|ht|hu|id|ie|il|im|in|io|iq|ir|is|it|je|jm|jo|jp|ke|kg|kh|ki|km|kn|kp|kr|kw|ky|kz|la|lb|lc|li|lk|lr|ls|lt|lu|lv|ly|ma|mc|md|me|mg|mh|mk|ml|mm|mn|mo|mp|mq|mr|ms|mt|mu|mv|mw|mx|my|mz|na|nc|ne|nf|ng|ni|nl|no|np|nr|nu|nz|om|pa|pe|pf|pg|ph|pk|pl|pm|pn|pr|ps|pt|pw|py|qa|re|ro|rs|ru|rw|sa|sb|sc|sd|se|sg|sh|si|sj|Ja|sk|sl|sm|sn|so|sr|ss|st|su|sv|sx|sy|sz|tc|td|tf|tg|th|tj|tk|tl|tm|tn|to|tp|tr|tt|tv|tw|tz|ua|ug|uk|us|uy|uz|va|vc|ve|vg|vi|vn|vu|wf|ws|ye|yt|yu|za|zm|zw)/)(?:[^\\s()<>{}\\[\\]]+|\\([^\\s()]*?\\([^\\s()]+\\)[^\\s()]*?\\)|\\([^\\s]+?\\))+(?:\\([^\\s()]*?\\([^\\s()]+\\)[^\\s()]*?\\)|\\([^\\s]+?\\)|[^\\s`!()\\[\\]{};:'\".,<>?«»“”‘’])|(?:(?<!@)[a-z0-9]+(?:[.\\-][a-z0-9]+)*[.](?:com|net|org|edu|gov|mil|aero|asia|biz|cat|coop|info|int|jobs|mobi|museum|name|post|pro|tel|travel|xxx|ac|ad|ae|af|ag|ai|al|am|an|ao|aq|ar|as|at|au|aw|ax|az|ba|bb|bd|be|bf|bg|bh|bi|bj|bm|bn|bo|br|bs|bt|bv|bw|by|bz|ca|cc|cd|cf|cg|ch|ci|ck|cl|cm|cn|co|cr|cs|cu|cv|cx|cy|cz|dd|de|dj|dk|dm|do|dz|ec|ee|eg|eh|er|es|et|eu|fi|fj|fk|fm|fo|fr|ga|gb|gd|ge|gf|gg|gh|gi|gl|gm|gn|gp|gq|gr|gs|gt|gu|gw|gy|hk|hm|hn|hr|ht|hu|id|ie|il|im|in|io|iq|ir|is|it|je|jm|jo|jp|ke|kg|kh|ki|km|kn|kp|kr|kw|ky|kz|la|lb|lc|li|lk|lr|ls|lt|lu|lv|ly|ma|mc|md|me|mg|mh|mk|ml|mm|mn|mo|mp|mq|mr|ms|mt|mu|mv|mw|mx|my|mz|na|nc|ne|nf|ng|ni|nl|no|np|nr|nu|nz|om|pa|pe|pf|pg|ph|pk|pl|pm|pn|pr|ps|pt|pw|py|qa|re|ro|rs|ru|rw|sa|sb|sc|sd|se|sg|sh|si|sj|Ja|sk|sl|sm|sn|so|sr|ss|st|su|sv|sx|sy|sz|tc|td|tf|tg|th|tj|tk|tl|tm|tn|to|tp|tr|tt|tv|tw|tz|ua|ug|uk|us|uy|uz|va|vc|ve|vg|vi|vn|vu|wf|ws|ye|yt|yu|za|zm|zw)\\b/?(?!@)))\"\"\"\n",
    "    return re.sub(URL_PATTERN, 'xxurl', text)\n",
    "\n",
    "def replace_rep(text):\n",
    "    def _replace_rep(m):\n",
    "        c,cc = m.groups()\n",
    "        return f'{c}xxrep'\n",
    "    re_rep = re.compile(r'(\\S)(\\1{2,})')\n",
    "    return re_rep.sub(_replace_rep, text)\n",
    "\n",
    "def ungroup_emoji(toks):\n",
    "    res = []\n",
    "    for tok in toks:\n",
    "        if emoji.emoji_count(tok) == len(tok):\n",
    "            for char in tok:\n",
    "                res.append(char)\n",
    "        else:\n",
    "            res.append(tok)\n",
    "    return res\n",
    "\n",
    "def process_text(text):\n",
    "    #pre rules\n",
    "    res = text.lower().strip()\n",
    "    res = replace_url(res)\n",
    "    res = replace_rep(res)\n",
    "    \n",
    "    #tokenize\n",
    "    res = [word for word in word_tokenize(res, engine='ulmfit') if word and not re.search(pattern=r\"\\s+\", string=word)]\n",
    "    \n",
    "    #post rules\n",
    "    res = ungroup_emoji(res)\n",
    "    \n",
    "    return res"
   ]
  },
  {
   "cell_type": "code",
   "execution_count": 40,
   "metadata": {},
   "outputs": [],
   "source": [
    "def train_df(all_df, abuss_type):\n",
    "    \n",
    "    train_df, valid_df = train_test_split(all_df, test_size=0.15)\n",
    "    train_df = train_df.reset_index(drop=True)\n",
    "    valid_df = valid_df.reset_index(drop=True)\n",
    "\n",
    "\n",
    "    y_train = train_df[abuss_type]\n",
    "    y_valid = valid_df[abuss_type]\n",
    "\n",
    "    model_path = 'model_ulm_test/'\n",
    "\n",
    "    train_df, valid_df = train_test_split(all_df, test_size=0.15)\n",
    "\n",
    "    tt = Tokenizer(tok_func = ThaiTokenizer, lang = 'th', pre_rules = pre_rules_th, post_rules=post_rules_th)\n",
    "\n",
    "    processor = [TokenizeProcessor(tokenizer=tt, chunksize=10000, mark_fields=False),\n",
    "              NumericalizeProcessor(vocab=None, max_vocab=50000, min_freq=2)]\n",
    "\n",
    "    data_lm = (TextList.from_df(all_df, model_path, cols='comment_text', processor=processor)\n",
    "      .random_split_by_pct(valid_pct = 0.01, seed = 1412)\n",
    "      .label_for_lm()\n",
    "      .databunch(bs=48))\n",
    "\n",
    "    data_lm.sanity_check()\n",
    "\n",
    "    len(data_lm.train_ds), len(data_lm.valid_ds)\n",
    "\n",
    "    config = dict(emb_sz=400, n_hid=1550, n_layers=4, pad_token=1, qrnn=False, tie_weights=True, out_bias=True,\n",
    "              output_p=0.25, hidden_p=0.1, input_p=0.2, embed_p=0.02, weight_p=0.15)\n",
    "\n",
    "    trn_args = dict(drop_mult=1., clip=0.12, alpha=2, beta=1)\n",
    "\n",
    "    learn = language_model_learner(data_lm, AWD_LSTM, config=config, pretrained=False, **trn_args)\n",
    "\n",
    "    learn.load_pretrained(**_THWIKI_LSTM)\n",
    "\n",
    "    #train frozen\n",
    "    print('training frozen')\n",
    "    learn.freeze_to(-1)#last layer\n",
    "    learn.fit_one_cycle(1, 1e-2, moms=(0.8, 0.7))\n",
    "\n",
    "    #train unfrozen\n",
    "    print('training unfrozen')\n",
    "    learn.unfreeze()\n",
    "    learn.fit_one_cycle(5, 1e-3, moms=(0.8, 0.7))\n",
    "\n",
    "    learn.model\n",
    "\n",
    "\n",
    "    learn.save('wisesight_lm')\n",
    "    learn.save_encoder('wisesight_enc')\n",
    "\n",
    "    #classification data\n",
    "    tt = Tokenizer(tok_func = ThaiTokenizer, lang = 'th', pre_rules = pre_rules_th, post_rules=post_rules_th)\n",
    "    processor = [TokenizeProcessor(tokenizer=tt, chunksize=10000, mark_fields=False),\n",
    "              NumericalizeProcessor(vocab=data_lm.vocab, max_vocab=50000, min_freq=20)]\n",
    "\n",
    "    data_cls = (ItemLists(model_path,train=TextList.from_df(train_df, model_path, cols=['comment_text'], processor=processor),\n",
    "                      valid=TextList.from_df(valid_df, model_path, cols=['comment_text'], processor=processor))\n",
    "      .label_from_df(abuss_type)\n",
    "      .add_test(TextList.from_df(test_df, model_path, cols=['comment_text'], processor=processor))\n",
    "      .databunch(bs=50)\n",
    "      )\n",
    "    data_cls.sanity_check()\n",
    "    print(len(data_cls.vocab.itos))\n",
    "\n",
    "    #model\n",
    "    config = dict(emb_sz=400, n_hid=1550, n_layers=4, pad_token=1, qrnn=False,\n",
    "              output_p=0.4, hidden_p=0.2, input_p=0.6, embed_p=0.1, weight_p=0.5)\n",
    "    trn_args = dict(bptt=70, drop_mult=0.7, alpha=2, beta=1, max_len=500)\n",
    "\n",
    "    learn = text_classifier_learner(data_cls, AWD_LSTM, config=config, pretrained=False, **trn_args)\n",
    "    #load pretrained finetuned model\n",
    "    learn.load_encoder('wisesight_enc')\n",
    "\n",
    "    #train unfrozen\n",
    "    learn.freeze_to(-1)\n",
    "    learn.fit_one_cycle(1, 2e-2, moms=(0.8, 0.7))\n",
    "    learn.freeze_to(-2)\n",
    "    learn.fit_one_cycle(1, slice(1e-2 / (2.6 ** 4), 1e-2), moms=(0.8, 0.7))\n",
    "    learn.freeze_to(-3)\n",
    "    learn.fit_one_cycle(1, slice(5e-3 / (2.6 ** 4), 5e-3), moms=(0.8, 0.7))\n",
    "    learn.unfreeze()\n",
    "    learn.fit_one_cycle(10, slice(1e-3 / (2.6 ** 4), 1e-3), moms=(0.8, 0.7), callbacks=[SaveModelCallback(learn, every='improvement', monitor='accuracy', name='bestmodel')])\n",
    "    \n",
    "    return learn\n",
    "\n",
    "def embedding(s, learn):\n",
    "    sentence = learn.model[0](learn.data.one_item(s)[0])[0][-1][:, -1]\n",
    "    return sentence.cpu().detach().numpy()\n",
    "\n",
    "def embedding_df(df, learn):\n",
    "    for i in range(400):\n",
    "        df['sent_emb_' + str(i)] = None\n",
    "    a = np.zeros((len(df),400))\n",
    "    for i, v in enumerate(df.comment_text):\n",
    "        a[i] = embedding(v, learn)\n",
    "    df.iloc[:,df.columns.get_loc('sent_emb_0'):] = a\n",
    "    return df\n",
    "\n",
    "def predict_df(df, learn, abuss_type, show = False):\n",
    "    model_path = 'model_ulm_test/'\n",
    "    tt = Tokenizer(tok_func = ThaiTokenizer, lang = 'th', pre_rules = pre_rules_th, post_rules=post_rules_th)\n",
    "    processor = [TokenizeProcessor(tokenizer=tt, chunksize=10000, mark_fields=False),\n",
    "              NumericalizeProcessor(vocab=None, max_vocab=50000, min_freq=2)]\n",
    "    learn.data.add_test(TextList.from_df(df, model_path, cols=['comment_text'], processor=processor))\n",
    "    tmp = learn.get_preds(DatasetType.Test)\n",
    "    if show:\n",
    "        df['pred'] = tmp[0].numpy()[:, 1]\n",
    "        df.pred = df.pred.apply(round)\n",
    "        print(f\"{abuss_type}: f1 = {f1_score(df[abuss_type], df.pred)}\")\n",
    "        print(pd.crosstab(df[abuss_type], df.pred, rownames=['Actual'], colnames=['Predicted'], margins=True))\n",
    "    \n",
    "    return tmp[0].numpy()[:, 1]"
   ]
  },
  {
   "cell_type": "code",
   "execution_count": 32,
   "metadata": {},
   "outputs": [],
   "source": [
    "def pre_df(df3):\n",
    "    df3.rude = df3.rude.apply(int)\n",
    "    df3.figurative = df3.figurative.apply(int)\n",
    "    df3.offensive = df3.offensive.apply(int)\n",
    "    df3.dirty = df3.dirty.apply(int)\n",
    "    return df3"
   ]
  },
  {
   "cell_type": "code",
   "execution_count": 33,
   "metadata": {},
   "outputs": [],
   "source": [
    "df_1 = pd.read_csv('df_labeled_temp_1.csv')\n",
    "df_1 = pre_df(df_1)\n",
    "train_data, test_data = train_test_split(df_1, train_size = 0.7)"
   ]
  },
  {
   "cell_type": "code",
   "execution_count": 34,
   "metadata": {
    "scrolled": true
   },
   "outputs": [
    {
     "name": "stderr",
     "output_type": "stream",
     "text": [
      "/home/posoma/miniconda3/envs/posoma/lib/python3.7/site-packages/fastai/data_block.py:215: UserWarning: `random_split_by_pct` is deprecated, please use `split_by_rand_pct`.\n",
      "  warn(\"`random_split_by_pct` is deprecated, please use `split_by_rand_pct`.\")\n"
     ]
    },
    {
     "data": {
      "text/html": [],
      "text/plain": [
       "<IPython.core.display.HTML object>"
      ]
     },
     "metadata": {},
     "output_type": "display_data"
    },
    {
     "data": {
      "text/html": [],
      "text/plain": [
       "<IPython.core.display.HTML object>"
      ]
     },
     "metadata": {},
     "output_type": "display_data"
    },
    {
     "name": "stdout",
     "output_type": "stream",
     "text": [
      "training frozen\n"
     ]
    },
    {
     "data": {
      "text/html": [
       "<table border=\"1\" class=\"dataframe\">\n",
       "  <thead>\n",
       "    <tr style=\"text-align: left;\">\n",
       "      <th>epoch</th>\n",
       "      <th>train_loss</th>\n",
       "      <th>valid_loss</th>\n",
       "      <th>accuracy</th>\n",
       "      <th>time</th>\n",
       "    </tr>\n",
       "  </thead>\n",
       "  <tbody>\n",
       "    <tr>\n",
       "      <td>0</td>\n",
       "      <td>5.151257</td>\n",
       "      <td>4.435395</td>\n",
       "      <td>0.344048</td>\n",
       "      <td>00:13</td>\n",
       "    </tr>\n",
       "  </tbody>\n",
       "</table>"
      ],
      "text/plain": [
       "<IPython.core.display.HTML object>"
      ]
     },
     "metadata": {},
     "output_type": "display_data"
    },
    {
     "name": "stdout",
     "output_type": "stream",
     "text": [
      "training unfrozen\n"
     ]
    },
    {
     "data": {
      "text/html": [
       "<table border=\"1\" class=\"dataframe\">\n",
       "  <thead>\n",
       "    <tr style=\"text-align: left;\">\n",
       "      <th>epoch</th>\n",
       "      <th>train_loss</th>\n",
       "      <th>valid_loss</th>\n",
       "      <th>accuracy</th>\n",
       "      <th>time</th>\n",
       "    </tr>\n",
       "  </thead>\n",
       "  <tbody>\n",
       "    <tr>\n",
       "      <td>0</td>\n",
       "      <td>4.617260</td>\n",
       "      <td>4.234052</td>\n",
       "      <td>0.358631</td>\n",
       "      <td>00:14</td>\n",
       "    </tr>\n",
       "    <tr>\n",
       "      <td>1</td>\n",
       "      <td>4.444029</td>\n",
       "      <td>4.075240</td>\n",
       "      <td>0.370536</td>\n",
       "      <td>00:14</td>\n",
       "    </tr>\n",
       "    <tr>\n",
       "      <td>2</td>\n",
       "      <td>4.255073</td>\n",
       "      <td>3.981435</td>\n",
       "      <td>0.381548</td>\n",
       "      <td>00:14</td>\n",
       "    </tr>\n",
       "    <tr>\n",
       "      <td>3</td>\n",
       "      <td>4.113658</td>\n",
       "      <td>3.949065</td>\n",
       "      <td>0.387500</td>\n",
       "      <td>00:14</td>\n",
       "    </tr>\n",
       "    <tr>\n",
       "      <td>4</td>\n",
       "      <td>4.034777</td>\n",
       "      <td>3.943092</td>\n",
       "      <td>0.390476</td>\n",
       "      <td>00:14</td>\n",
       "    </tr>\n",
       "  </tbody>\n",
       "</table>"
      ],
      "text/plain": [
       "<IPython.core.display.HTML object>"
      ]
     },
     "metadata": {},
     "output_type": "display_data"
    },
    {
     "data": {
      "text/html": [],
      "text/plain": [
       "<IPython.core.display.HTML object>"
      ]
     },
     "metadata": {},
     "output_type": "display_data"
    },
    {
     "data": {
      "text/html": [],
      "text/plain": [
       "<IPython.core.display.HTML object>"
      ]
     },
     "metadata": {},
     "output_type": "display_data"
    },
    {
     "data": {
      "text/html": [],
      "text/plain": [
       "<IPython.core.display.HTML object>"
      ]
     },
     "metadata": {},
     "output_type": "display_data"
    },
    {
     "name": "stdout",
     "output_type": "stream",
     "text": [
      "10720\n"
     ]
    },
    {
     "data": {
      "text/html": [
       "<table border=\"1\" class=\"dataframe\">\n",
       "  <thead>\n",
       "    <tr style=\"text-align: left;\">\n",
       "      <th>epoch</th>\n",
       "      <th>train_loss</th>\n",
       "      <th>valid_loss</th>\n",
       "      <th>accuracy</th>\n",
       "      <th>time</th>\n",
       "    </tr>\n",
       "  </thead>\n",
       "  <tbody>\n",
       "    <tr>\n",
       "      <td>0</td>\n",
       "      <td>0.329849</td>\n",
       "      <td>0.281769</td>\n",
       "      <td>0.875033</td>\n",
       "      <td>00:18</td>\n",
       "    </tr>\n",
       "  </tbody>\n",
       "</table>"
      ],
      "text/plain": [
       "<IPython.core.display.HTML object>"
      ]
     },
     "metadata": {},
     "output_type": "display_data"
    },
    {
     "data": {
      "text/html": [
       "<table border=\"1\" class=\"dataframe\">\n",
       "  <thead>\n",
       "    <tr style=\"text-align: left;\">\n",
       "      <th>epoch</th>\n",
       "      <th>train_loss</th>\n",
       "      <th>valid_loss</th>\n",
       "      <th>accuracy</th>\n",
       "      <th>time</th>\n",
       "    </tr>\n",
       "  </thead>\n",
       "  <tbody>\n",
       "    <tr>\n",
       "      <td>0</td>\n",
       "      <td>0.285566</td>\n",
       "      <td>0.237692</td>\n",
       "      <td>0.900339</td>\n",
       "      <td>00:20</td>\n",
       "    </tr>\n",
       "  </tbody>\n",
       "</table>"
      ],
      "text/plain": [
       "<IPython.core.display.HTML object>"
      ]
     },
     "metadata": {},
     "output_type": "display_data"
    },
    {
     "data": {
      "text/html": [
       "<table border=\"1\" class=\"dataframe\">\n",
       "  <thead>\n",
       "    <tr style=\"text-align: left;\">\n",
       "      <th>epoch</th>\n",
       "      <th>train_loss</th>\n",
       "      <th>valid_loss</th>\n",
       "      <th>accuracy</th>\n",
       "      <th>time</th>\n",
       "    </tr>\n",
       "  </thead>\n",
       "  <tbody>\n",
       "    <tr>\n",
       "      <td>0</td>\n",
       "      <td>0.248531</td>\n",
       "      <td>0.187310</td>\n",
       "      <td>0.924080</td>\n",
       "      <td>00:20</td>\n",
       "    </tr>\n",
       "  </tbody>\n",
       "</table>"
      ],
      "text/plain": [
       "<IPython.core.display.HTML object>"
      ]
     },
     "metadata": {},
     "output_type": "display_data"
    },
    {
     "data": {
      "text/html": [
       "<table border=\"1\" class=\"dataframe\">\n",
       "  <thead>\n",
       "    <tr style=\"text-align: left;\">\n",
       "      <th>epoch</th>\n",
       "      <th>train_loss</th>\n",
       "      <th>valid_loss</th>\n",
       "      <th>accuracy</th>\n",
       "      <th>time</th>\n",
       "    </tr>\n",
       "  </thead>\n",
       "  <tbody>\n",
       "    <tr>\n",
       "      <td>0</td>\n",
       "      <td>0.227815</td>\n",
       "      <td>0.181737</td>\n",
       "      <td>0.925385</td>\n",
       "      <td>00:22</td>\n",
       "    </tr>\n",
       "    <tr>\n",
       "      <td>1</td>\n",
       "      <td>0.223111</td>\n",
       "      <td>0.174922</td>\n",
       "      <td>0.931385</td>\n",
       "      <td>00:20</td>\n",
       "    </tr>\n",
       "    <tr>\n",
       "      <td>2</td>\n",
       "      <td>0.193404</td>\n",
       "      <td>0.162962</td>\n",
       "      <td>0.934516</td>\n",
       "      <td>00:22</td>\n",
       "    </tr>\n",
       "    <tr>\n",
       "      <td>3</td>\n",
       "      <td>0.170631</td>\n",
       "      <td>0.154713</td>\n",
       "      <td>0.941821</td>\n",
       "      <td>00:20</td>\n",
       "    </tr>\n",
       "    <tr>\n",
       "      <td>4</td>\n",
       "      <td>0.169258</td>\n",
       "      <td>0.151448</td>\n",
       "      <td>0.942082</td>\n",
       "      <td>00:22</td>\n",
       "    </tr>\n",
       "    <tr>\n",
       "      <td>5</td>\n",
       "      <td>0.143443</td>\n",
       "      <td>0.152075</td>\n",
       "      <td>0.941299</td>\n",
       "      <td>00:20</td>\n",
       "    </tr>\n",
       "    <tr>\n",
       "      <td>6</td>\n",
       "      <td>0.151690</td>\n",
       "      <td>0.155464</td>\n",
       "      <td>0.943386</td>\n",
       "      <td>00:20</td>\n",
       "    </tr>\n",
       "    <tr>\n",
       "      <td>7</td>\n",
       "      <td>0.139667</td>\n",
       "      <td>0.151763</td>\n",
       "      <td>0.944169</td>\n",
       "      <td>00:21</td>\n",
       "    </tr>\n",
       "    <tr>\n",
       "      <td>8</td>\n",
       "      <td>0.137278</td>\n",
       "      <td>0.150742</td>\n",
       "      <td>0.945213</td>\n",
       "      <td>00:22</td>\n",
       "    </tr>\n",
       "    <tr>\n",
       "      <td>9</td>\n",
       "      <td>0.138256</td>\n",
       "      <td>0.150055</td>\n",
       "      <td>0.945213</td>\n",
       "      <td>00:21</td>\n",
       "    </tr>\n",
       "  </tbody>\n",
       "</table>"
      ],
      "text/plain": [
       "<IPython.core.display.HTML object>"
      ]
     },
     "metadata": {},
     "output_type": "display_data"
    },
    {
     "name": "stdout",
     "output_type": "stream",
     "text": [
      "Better model found at epoch 0 with accuracy value: 0.9253848195075989.\n",
      "Better model found at epoch 1 with accuracy value: 0.931385338306427.\n",
      "Better model found at epoch 2 with accuracy value: 0.9345160722732544.\n",
      "Better model found at epoch 3 with accuracy value: 0.9418210387229919.\n",
      "Better model found at epoch 4 with accuracy value: 0.9420819282531738.\n",
      "Better model found at epoch 6 with accuracy value: 0.9433863759040833.\n",
      "Better model found at epoch 7 with accuracy value: 0.9441690444946289.\n",
      "Better model found at epoch 8 with accuracy value: 0.9452126026153564.\n"
     ]
    }
   ],
   "source": [
    "learn = train_df(train_data, 'rude')"
   ]
  },
  {
   "cell_type": "code",
   "execution_count": 35,
   "metadata": {},
   "outputs": [],
   "source": [
    "df_2 = embedding_df(df_1,learn)"
   ]
  },
  {
   "cell_type": "code",
   "execution_count": 36,
   "metadata": {},
   "outputs": [
    {
     "data": {
      "text/html": [
       "<div>\n",
       "<style scoped>\n",
       "    .dataframe tbody tr th:only-of-type {\n",
       "        vertical-align: middle;\n",
       "    }\n",
       "\n",
       "    .dataframe tbody tr th {\n",
       "        vertical-align: top;\n",
       "    }\n",
       "\n",
       "    .dataframe thead th {\n",
       "        text-align: right;\n",
       "    }\n",
       "</style>\n",
       "<table border=\"1\" class=\"dataframe\">\n",
       "  <thead>\n",
       "    <tr style=\"text-align: right;\">\n",
       "      <th></th>\n",
       "      <th>Unnamed: 0</th>\n",
       "      <th>Unnamed: 0.1</th>\n",
       "      <th>Unnamed: 0.1.1</th>\n",
       "      <th>Unnamed: 0.1.1.1</th>\n",
       "      <th>Unnamed: 0.1.1.1.1</th>\n",
       "      <th>comment_id</th>\n",
       "      <th>page_id</th>\n",
       "      <th>thread_level</th>\n",
       "      <th>parent_id</th>\n",
       "      <th>post_id</th>\n",
       "      <th>...</th>\n",
       "      <th>sent_emb_390</th>\n",
       "      <th>sent_emb_391</th>\n",
       "      <th>sent_emb_392</th>\n",
       "      <th>sent_emb_393</th>\n",
       "      <th>sent_emb_394</th>\n",
       "      <th>sent_emb_395</th>\n",
       "      <th>sent_emb_396</th>\n",
       "      <th>sent_emb_397</th>\n",
       "      <th>sent_emb_398</th>\n",
       "      <th>sent_emb_399</th>\n",
       "    </tr>\n",
       "  </thead>\n",
       "  <tbody>\n",
       "    <tr>\n",
       "      <th>0</th>\n",
       "      <td>0</td>\n",
       "      <td>0</td>\n",
       "      <td>21</td>\n",
       "      <td>21</td>\n",
       "      <td>21</td>\n",
       "      <td>1911015469147330</td>\n",
       "      <td>634784363349240</td>\n",
       "      <td>2</td>\n",
       "      <td>793063094188032</td>\n",
       "      <td>793041250856883</td>\n",
       "      <td>...</td>\n",
       "      <td>0.096863</td>\n",
       "      <td>0.002663</td>\n",
       "      <td>-0.007263</td>\n",
       "      <td>-0.018467</td>\n",
       "      <td>0.010095</td>\n",
       "      <td>-0.014836</td>\n",
       "      <td>-0.008404</td>\n",
       "      <td>0.000109</td>\n",
       "      <td>0.017170</td>\n",
       "      <td>-0.000214</td>\n",
       "    </tr>\n",
       "    <tr>\n",
       "      <th>1</th>\n",
       "      <td>1</td>\n",
       "      <td>1</td>\n",
       "      <td>1030</td>\n",
       "      <td>1030</td>\n",
       "      <td>1030</td>\n",
       "      <td>771701819657493</td>\n",
       "      <td>634784363349240</td>\n",
       "      <td>2</td>\n",
       "      <td>771409233020085</td>\n",
       "      <td>770898433071165</td>\n",
       "      <td>...</td>\n",
       "      <td>0.096863</td>\n",
       "      <td>0.002663</td>\n",
       "      <td>-0.007263</td>\n",
       "      <td>-0.018467</td>\n",
       "      <td>0.010095</td>\n",
       "      <td>-0.014836</td>\n",
       "      <td>-0.008404</td>\n",
       "      <td>0.000109</td>\n",
       "      <td>0.017170</td>\n",
       "      <td>-0.000214</td>\n",
       "    </tr>\n",
       "    <tr>\n",
       "      <th>2</th>\n",
       "      <td>2</td>\n",
       "      <td>2</td>\n",
       "      <td>13358</td>\n",
       "      <td>13358</td>\n",
       "      <td>13358</td>\n",
       "      <td>1592983987529268</td>\n",
       "      <td>634784363349240</td>\n",
       "      <td>2</td>\n",
       "      <td>1592572740903726</td>\n",
       "      <td>1592396844254649</td>\n",
       "      <td>...</td>\n",
       "      <td>0.096863</td>\n",
       "      <td>0.002663</td>\n",
       "      <td>-0.007263</td>\n",
       "      <td>-0.018467</td>\n",
       "      <td>0.010095</td>\n",
       "      <td>-0.014836</td>\n",
       "      <td>-0.008404</td>\n",
       "      <td>0.000109</td>\n",
       "      <td>0.017170</td>\n",
       "      <td>-0.000214</td>\n",
       "    </tr>\n",
       "    <tr>\n",
       "      <th>3</th>\n",
       "      <td>3</td>\n",
       "      <td>3</td>\n",
       "      <td>15752</td>\n",
       "      <td>15752</td>\n",
       "      <td>15752</td>\n",
       "      <td>1572979059529761</td>\n",
       "      <td>634784363349240</td>\n",
       "      <td>2</td>\n",
       "      <td>1572910266203307</td>\n",
       "      <td>1572739449553722</td>\n",
       "      <td>...</td>\n",
       "      <td>0.096863</td>\n",
       "      <td>0.002663</td>\n",
       "      <td>-0.007263</td>\n",
       "      <td>-0.018467</td>\n",
       "      <td>0.010095</td>\n",
       "      <td>-0.014836</td>\n",
       "      <td>-0.008404</td>\n",
       "      <td>0.000109</td>\n",
       "      <td>0.017170</td>\n",
       "      <td>-0.000214</td>\n",
       "    </tr>\n",
       "    <tr>\n",
       "      <th>4</th>\n",
       "      <td>4</td>\n",
       "      <td>4</td>\n",
       "      <td>20734</td>\n",
       "      <td>20734</td>\n",
       "      <td>20734</td>\n",
       "      <td>865151033645904</td>\n",
       "      <td>634784363349240</td>\n",
       "      <td>2</td>\n",
       "      <td>865033150324359</td>\n",
       "      <td>864999696994371</td>\n",
       "      <td>...</td>\n",
       "      <td>0.096863</td>\n",
       "      <td>0.002663</td>\n",
       "      <td>-0.007263</td>\n",
       "      <td>-0.018467</td>\n",
       "      <td>0.010095</td>\n",
       "      <td>-0.014836</td>\n",
       "      <td>-0.008404</td>\n",
       "      <td>0.000109</td>\n",
       "      <td>0.017170</td>\n",
       "      <td>-0.000214</td>\n",
       "    </tr>\n",
       "    <tr>\n",
       "      <th>...</th>\n",
       "      <td>...</td>\n",
       "      <td>...</td>\n",
       "      <td>...</td>\n",
       "      <td>...</td>\n",
       "      <td>...</td>\n",
       "      <td>...</td>\n",
       "      <td>...</td>\n",
       "      <td>...</td>\n",
       "      <td>...</td>\n",
       "      <td>...</td>\n",
       "      <td>...</td>\n",
       "      <td>...</td>\n",
       "      <td>...</td>\n",
       "      <td>...</td>\n",
       "      <td>...</td>\n",
       "      <td>...</td>\n",
       "      <td>...</td>\n",
       "      <td>...</td>\n",
       "      <td>...</td>\n",
       "      <td>...</td>\n",
       "      <td>...</td>\n",
       "    </tr>\n",
       "    <tr>\n",
       "      <th>36497</th>\n",
       "      <td>139930</td>\n",
       "      <td>139930</td>\n",
       "      <td>3320679</td>\n",
       "      <td>3320679</td>\n",
       "      <td>3320679</td>\n",
       "      <td>1332936220215278</td>\n",
       "      <td>180898305419081</td>\n",
       "      <td>1</td>\n",
       "      <td>1332933253548908</td>\n",
       "      <td>1332933253548908</td>\n",
       "      <td>...</td>\n",
       "      <td>-0.018719</td>\n",
       "      <td>0.011463</td>\n",
       "      <td>-0.000982</td>\n",
       "      <td>-0.009881</td>\n",
       "      <td>0.001654</td>\n",
       "      <td>-0.003036</td>\n",
       "      <td>-0.003722</td>\n",
       "      <td>0.000882</td>\n",
       "      <td>0.030370</td>\n",
       "      <td>-0.000778</td>\n",
       "    </tr>\n",
       "    <tr>\n",
       "      <th>36498</th>\n",
       "      <td>139931</td>\n",
       "      <td>139931</td>\n",
       "      <td>3321731</td>\n",
       "      <td>3321731</td>\n",
       "      <td>3321731</td>\n",
       "      <td>966590620183175</td>\n",
       "      <td>180898305419081</td>\n",
       "      <td>1</td>\n",
       "      <td>966529650189272</td>\n",
       "      <td>966529650189272</td>\n",
       "      <td>...</td>\n",
       "      <td>-0.005204</td>\n",
       "      <td>0.009819</td>\n",
       "      <td>-0.008097</td>\n",
       "      <td>-0.030218</td>\n",
       "      <td>0.001816</td>\n",
       "      <td>-0.004924</td>\n",
       "      <td>-0.003321</td>\n",
       "      <td>0.001254</td>\n",
       "      <td>0.019805</td>\n",
       "      <td>-0.002331</td>\n",
       "    </tr>\n",
       "    <tr>\n",
       "      <th>36499</th>\n",
       "      <td>139932</td>\n",
       "      <td>139932</td>\n",
       "      <td>3324332</td>\n",
       "      <td>3324332</td>\n",
       "      <td>3324332</td>\n",
       "      <td>107347496908078</td>\n",
       "      <td>180898305419081</td>\n",
       "      <td>1</td>\n",
       "      <td>1174176909424544</td>\n",
       "      <td>1174176909424544</td>\n",
       "      <td>...</td>\n",
       "      <td>0.024235</td>\n",
       "      <td>-0.013216</td>\n",
       "      <td>0.004051</td>\n",
       "      <td>-0.034253</td>\n",
       "      <td>-0.007615</td>\n",
       "      <td>0.004179</td>\n",
       "      <td>-0.030486</td>\n",
       "      <td>-0.001520</td>\n",
       "      <td>-0.001727</td>\n",
       "      <td>0.001221</td>\n",
       "    </tr>\n",
       "    <tr>\n",
       "      <th>36500</th>\n",
       "      <td>139933</td>\n",
       "      <td>139933</td>\n",
       "      <td>3327047</td>\n",
       "      <td>3327047</td>\n",
       "      <td>3327047</td>\n",
       "      <td>1154405454735023</td>\n",
       "      <td>180898305419081</td>\n",
       "      <td>1</td>\n",
       "      <td>1154252921416943</td>\n",
       "      <td>1154252921416943</td>\n",
       "      <td>...</td>\n",
       "      <td>0.039196</td>\n",
       "      <td>0.014395</td>\n",
       "      <td>0.016445</td>\n",
       "      <td>-0.008457</td>\n",
       "      <td>-0.004077</td>\n",
       "      <td>0.001481</td>\n",
       "      <td>-0.016374</td>\n",
       "      <td>0.018551</td>\n",
       "      <td>0.048063</td>\n",
       "      <td>-0.003061</td>\n",
       "    </tr>\n",
       "    <tr>\n",
       "      <th>36501</th>\n",
       "      <td>139934</td>\n",
       "      <td>139934</td>\n",
       "      <td>3327589</td>\n",
       "      <td>3327589</td>\n",
       "      <td>3327589</td>\n",
       "      <td>222007068759732</td>\n",
       "      <td>180898305419081</td>\n",
       "      <td>1</td>\n",
       "      <td>1310699299105637</td>\n",
       "      <td>1310699299105637</td>\n",
       "      <td>...</td>\n",
       "      <td>-0.020373</td>\n",
       "      <td>0.011224</td>\n",
       "      <td>-0.009637</td>\n",
       "      <td>-0.042608</td>\n",
       "      <td>0.004659</td>\n",
       "      <td>-0.005205</td>\n",
       "      <td>-0.015736</td>\n",
       "      <td>-0.001888</td>\n",
       "      <td>-0.007574</td>\n",
       "      <td>-0.006959</td>\n",
       "    </tr>\n",
       "  </tbody>\n",
       "</table>\n",
       "<p>36502 rows × 487 columns</p>\n",
       "</div>"
      ],
      "text/plain": [
       "       Unnamed: 0  Unnamed: 0.1  Unnamed: 0.1.1  Unnamed: 0.1.1.1  \\\n",
       "0               0             0              21                21   \n",
       "1               1             1            1030              1030   \n",
       "2               2             2           13358             13358   \n",
       "3               3             3           15752             15752   \n",
       "4               4             4           20734             20734   \n",
       "...           ...           ...             ...               ...   \n",
       "36497      139930        139930         3320679           3320679   \n",
       "36498      139931        139931         3321731           3321731   \n",
       "36499      139932        139932         3324332           3324332   \n",
       "36500      139933        139933         3327047           3327047   \n",
       "36501      139934        139934         3327589           3327589   \n",
       "\n",
       "       Unnamed: 0.1.1.1.1        comment_id          page_id  thread_level  \\\n",
       "0                      21  1911015469147330  634784363349240             2   \n",
       "1                    1030   771701819657493  634784363349240             2   \n",
       "2                   13358  1592983987529268  634784363349240             2   \n",
       "3                   15752  1572979059529761  634784363349240             2   \n",
       "4                   20734   865151033645904  634784363349240             2   \n",
       "...                   ...               ...              ...           ...   \n",
       "36497             3320679  1332936220215278  180898305419081             1   \n",
       "36498             3321731   966590620183175  180898305419081             1   \n",
       "36499             3324332   107347496908078  180898305419081             1   \n",
       "36500             3327047  1154405454735023  180898305419081             1   \n",
       "36501             3327589   222007068759732  180898305419081             1   \n",
       "\n",
       "              parent_id           post_id  ... sent_emb_390 sent_emb_391  \\\n",
       "0       793063094188032   793041250856883  ...     0.096863     0.002663   \n",
       "1       771409233020085   770898433071165  ...     0.096863     0.002663   \n",
       "2      1592572740903726  1592396844254649  ...     0.096863     0.002663   \n",
       "3      1572910266203307  1572739449553722  ...     0.096863     0.002663   \n",
       "4       865033150324359   864999696994371  ...     0.096863     0.002663   \n",
       "...                 ...               ...  ...          ...          ...   \n",
       "36497  1332933253548908  1332933253548908  ...    -0.018719     0.011463   \n",
       "36498   966529650189272   966529650189272  ...    -0.005204     0.009819   \n",
       "36499  1174176909424544  1174176909424544  ...     0.024235    -0.013216   \n",
       "36500  1154252921416943  1154252921416943  ...     0.039196     0.014395   \n",
       "36501  1310699299105637  1310699299105637  ...    -0.020373     0.011224   \n",
       "\n",
       "       sent_emb_392  sent_emb_393  sent_emb_394  sent_emb_395  sent_emb_396  \\\n",
       "0         -0.007263     -0.018467      0.010095     -0.014836     -0.008404   \n",
       "1         -0.007263     -0.018467      0.010095     -0.014836     -0.008404   \n",
       "2         -0.007263     -0.018467      0.010095     -0.014836     -0.008404   \n",
       "3         -0.007263     -0.018467      0.010095     -0.014836     -0.008404   \n",
       "4         -0.007263     -0.018467      0.010095     -0.014836     -0.008404   \n",
       "...             ...           ...           ...           ...           ...   \n",
       "36497     -0.000982     -0.009881      0.001654     -0.003036     -0.003722   \n",
       "36498     -0.008097     -0.030218      0.001816     -0.004924     -0.003321   \n",
       "36499      0.004051     -0.034253     -0.007615      0.004179     -0.030486   \n",
       "36500      0.016445     -0.008457     -0.004077      0.001481     -0.016374   \n",
       "36501     -0.009637     -0.042608      0.004659     -0.005205     -0.015736   \n",
       "\n",
       "       sent_emb_397  sent_emb_398  sent_emb_399  \n",
       "0          0.000109      0.017170     -0.000214  \n",
       "1          0.000109      0.017170     -0.000214  \n",
       "2          0.000109      0.017170     -0.000214  \n",
       "3          0.000109      0.017170     -0.000214  \n",
       "4          0.000109      0.017170     -0.000214  \n",
       "...             ...           ...           ...  \n",
       "36497      0.000882      0.030370     -0.000778  \n",
       "36498      0.001254      0.019805     -0.002331  \n",
       "36499     -0.001520     -0.001727      0.001221  \n",
       "36500      0.018551      0.048063     -0.003061  \n",
       "36501     -0.001888     -0.007574     -0.006959  \n",
       "\n",
       "[36502 rows x 487 columns]"
      ]
     },
     "execution_count": 36,
     "metadata": {},
     "output_type": "execute_result"
    }
   ],
   "source": [
    "df_2"
   ]
  },
  {
   "cell_type": "code",
   "execution_count": 41,
   "metadata": {},
   "outputs": [
    {
     "data": {
      "text/html": [],
      "text/plain": [
       "<IPython.core.display.HTML object>"
      ]
     },
     "metadata": {},
     "output_type": "display_data"
    },
    {
     "data": {
      "text/html": [],
      "text/plain": [
       "<IPython.core.display.HTML object>"
      ]
     },
     "metadata": {},
     "output_type": "display_data"
    },
    {
     "name": "stdout",
     "output_type": "stream",
     "text": [
      "rude: f1 = 0.9196695797916916\n",
      "Predicted      0     1    All\n",
      "Actual                       \n",
      "0          27478   849  28327\n",
      "1            493  7682   8175\n",
      "All        27971  8531  36502\n"
     ]
    }
   ],
   "source": [
    "df_3 = predict_df(df_1, learn, 'rude', show = True)"
   ]
  },
  {
   "cell_type": "code",
   "execution_count": 45,
   "metadata": {},
   "outputs": [
    {
     "data": {
      "text/plain": [
       "array([4.761477e-04, 4.761477e-04, 4.761477e-04, 4.761477e-04, ..., 8.527055e-01, 4.976363e-03, 8.830055e-01,\n",
       "       8.406510e-04], dtype=float32)"
      ]
     },
     "execution_count": 45,
     "metadata": {},
     "output_type": "execute_result"
    }
   ],
   "source": [
    "df_3"
   ]
  },
  {
   "cell_type": "code",
   "execution_count": null,
   "metadata": {},
   "outputs": [],
   "source": []
  },
  {
   "cell_type": "code",
   "execution_count": null,
   "metadata": {},
   "outputs": [],
   "source": []
  },
  {
   "cell_type": "code",
   "execution_count": null,
   "metadata": {},
   "outputs": [],
   "source": []
  },
  {
   "cell_type": "code",
   "execution_count": null,
   "metadata": {},
   "outputs": [],
   "source": []
  },
  {
   "cell_type": "code",
   "execution_count": null,
   "metadata": {},
   "outputs": [],
   "source": []
  },
  {
   "cell_type": "code",
   "execution_count": 208,
   "metadata": {
    "scrolled": true
   },
   "outputs": [
    {
     "name": "stderr",
     "output_type": "stream",
     "text": [
      "/home/posoma/miniconda3/envs/posoma/lib/python3.7/site-packages/ipykernel_launcher.py:5: SettingWithCopyWarning: \n",
      "A value is trying to be set on a copy of a slice from a DataFrame\n",
      "\n",
      "See the caveats in the documentation: http://pandas.pydata.org/pandas-docs/stable/user_guide/indexing.html#returning-a-view-versus-a-copy\n",
      "  \"\"\"\n"
     ]
    }
   ],
   "source": [
    "\n",
    "df1 = pd.read_csv('df_labeled_temp_1.csv')\n",
    "\n",
    "df3 = df1[['comment_text','rude', 'offensive', 'figurative', 'dirty']]\n",
    "\n",
    "df3.dropna(inplace=True)\n",
    "\n",
    "df3 = df3.sample(frac=1)\n",
    "\n",
    "df3.rude = df3.rude.apply(int)\n",
    "df3.figurative = df3.figurative.apply(int)\n",
    "df3.offensive = df3.offensive.apply(int)\n",
    "df3.dirty = df3.dirty.apply(int)\n",
    "\n",
    "df3.reset_index(drop=True, inplace=True)\n",
    "\n",
    "abuss_types = ['rude', 'offensive', 'figurative', 'dirty']\n",
    "\n",
    "all_df, test_df = train_test_split(df3, train_size = 0.7, shuffle = True)"
   ]
  },
  {
   "cell_type": "code",
   "execution_count": 9,
   "metadata": {},
   "outputs": [
    {
     "name": "stderr",
     "output_type": "stream",
     "text": [
      "/home/posoma/miniconda3/envs/posoma/lib/python3.7/site-packages/fastai/data_block.py:215: UserWarning: `random_split_by_pct` is deprecated, please use `split_by_rand_pct`.\n",
      "  warn(\"`random_split_by_pct` is deprecated, please use `split_by_rand_pct`.\")\n"
     ]
    },
    {
     "data": {
      "text/html": [],
      "text/plain": [
       "<IPython.core.display.HTML object>"
      ]
     },
     "metadata": {},
     "output_type": "display_data"
    },
    {
     "data": {
      "text/html": [],
      "text/plain": [
       "<IPython.core.display.HTML object>"
      ]
     },
     "metadata": {},
     "output_type": "display_data"
    },
    {
     "name": "stdout",
     "output_type": "stream",
     "text": [
      "training frozen\n"
     ]
    },
    {
     "data": {
      "text/html": [
       "<table border=\"1\" class=\"dataframe\">\n",
       "  <thead>\n",
       "    <tr style=\"text-align: left;\">\n",
       "      <th>epoch</th>\n",
       "      <th>train_loss</th>\n",
       "      <th>valid_loss</th>\n",
       "      <th>accuracy</th>\n",
       "      <th>time</th>\n",
       "    </tr>\n",
       "  </thead>\n",
       "  <tbody>\n",
       "    <tr>\n",
       "      <td>0</td>\n",
       "      <td>5.142308</td>\n",
       "      <td>4.508138</td>\n",
       "      <td>0.340476</td>\n",
       "      <td>00:13</td>\n",
       "    </tr>\n",
       "  </tbody>\n",
       "</table>"
      ],
      "text/plain": [
       "<IPython.core.display.HTML object>"
      ]
     },
     "metadata": {},
     "output_type": "display_data"
    },
    {
     "name": "stdout",
     "output_type": "stream",
     "text": [
      "training unfrozen\n"
     ]
    },
    {
     "data": {
      "text/html": [
       "<table border=\"1\" class=\"dataframe\">\n",
       "  <thead>\n",
       "    <tr style=\"text-align: left;\">\n",
       "      <th>epoch</th>\n",
       "      <th>train_loss</th>\n",
       "      <th>valid_loss</th>\n",
       "      <th>accuracy</th>\n",
       "      <th>time</th>\n",
       "    </tr>\n",
       "  </thead>\n",
       "  <tbody>\n",
       "    <tr>\n",
       "      <td>0</td>\n",
       "      <td>4.629007</td>\n",
       "      <td>4.311252</td>\n",
       "      <td>0.344643</td>\n",
       "      <td>00:14</td>\n",
       "    </tr>\n",
       "    <tr>\n",
       "      <td>1</td>\n",
       "      <td>4.443398</td>\n",
       "      <td>4.168736</td>\n",
       "      <td>0.356250</td>\n",
       "      <td>00:14</td>\n",
       "    </tr>\n",
       "    <tr>\n",
       "      <td>2</td>\n",
       "      <td>4.261222</td>\n",
       "      <td>4.097723</td>\n",
       "      <td>0.362202</td>\n",
       "      <td>00:14</td>\n",
       "    </tr>\n",
       "    <tr>\n",
       "      <td>3</td>\n",
       "      <td>4.110754</td>\n",
       "      <td>4.057960</td>\n",
       "      <td>0.369048</td>\n",
       "      <td>00:14</td>\n",
       "    </tr>\n",
       "    <tr>\n",
       "      <td>4</td>\n",
       "      <td>4.031862</td>\n",
       "      <td>4.054327</td>\n",
       "      <td>0.365774</td>\n",
       "      <td>00:14</td>\n",
       "    </tr>\n",
       "  </tbody>\n",
       "</table>"
      ],
      "text/plain": [
       "<IPython.core.display.HTML object>"
      ]
     },
     "metadata": {},
     "output_type": "display_data"
    },
    {
     "data": {
      "text/html": [],
      "text/plain": [
       "<IPython.core.display.HTML object>"
      ]
     },
     "metadata": {},
     "output_type": "display_data"
    },
    {
     "data": {
      "text/html": [],
      "text/plain": [
       "<IPython.core.display.HTML object>"
      ]
     },
     "metadata": {},
     "output_type": "display_data"
    },
    {
     "data": {
      "text/html": [],
      "text/plain": [
       "<IPython.core.display.HTML object>"
      ]
     },
     "metadata": {},
     "output_type": "display_data"
    },
    {
     "name": "stdout",
     "output_type": "stream",
     "text": [
      "10736\n"
     ]
    },
    {
     "data": {
      "text/html": [
       "<table border=\"1\" class=\"dataframe\">\n",
       "  <thead>\n",
       "    <tr style=\"text-align: left;\">\n",
       "      <th>epoch</th>\n",
       "      <th>train_loss</th>\n",
       "      <th>valid_loss</th>\n",
       "      <th>accuracy</th>\n",
       "      <th>time</th>\n",
       "    </tr>\n",
       "  </thead>\n",
       "  <tbody>\n",
       "    <tr>\n",
       "      <td>0</td>\n",
       "      <td>0.344612</td>\n",
       "      <td>0.300725</td>\n",
       "      <td>0.877902</td>\n",
       "      <td>00:18</td>\n",
       "    </tr>\n",
       "  </tbody>\n",
       "</table>"
      ],
      "text/plain": [
       "<IPython.core.display.HTML object>"
      ]
     },
     "metadata": {},
     "output_type": "display_data"
    },
    {
     "data": {
      "text/html": [
       "<table border=\"1\" class=\"dataframe\">\n",
       "  <thead>\n",
       "    <tr style=\"text-align: left;\">\n",
       "      <th>epoch</th>\n",
       "      <th>train_loss</th>\n",
       "      <th>valid_loss</th>\n",
       "      <th>accuracy</th>\n",
       "      <th>time</th>\n",
       "    </tr>\n",
       "  </thead>\n",
       "  <tbody>\n",
       "    <tr>\n",
       "      <td>0</td>\n",
       "      <td>0.283098</td>\n",
       "      <td>0.245839</td>\n",
       "      <td>0.902687</td>\n",
       "      <td>00:20</td>\n",
       "    </tr>\n",
       "  </tbody>\n",
       "</table>"
      ],
      "text/plain": [
       "<IPython.core.display.HTML object>"
      ]
     },
     "metadata": {},
     "output_type": "display_data"
    },
    {
     "data": {
      "text/html": [
       "<table border=\"1\" class=\"dataframe\">\n",
       "  <thead>\n",
       "    <tr style=\"text-align: left;\">\n",
       "      <th>epoch</th>\n",
       "      <th>train_loss</th>\n",
       "      <th>valid_loss</th>\n",
       "      <th>accuracy</th>\n",
       "      <th>time</th>\n",
       "    </tr>\n",
       "  </thead>\n",
       "  <tbody>\n",
       "    <tr>\n",
       "      <td>0</td>\n",
       "      <td>0.255472</td>\n",
       "      <td>0.201343</td>\n",
       "      <td>0.919645</td>\n",
       "      <td>00:20</td>\n",
       "    </tr>\n",
       "  </tbody>\n",
       "</table>"
      ],
      "text/plain": [
       "<IPython.core.display.HTML object>"
      ]
     },
     "metadata": {},
     "output_type": "display_data"
    },
    {
     "data": {
      "text/html": [
       "<table border=\"1\" class=\"dataframe\">\n",
       "  <thead>\n",
       "    <tr style=\"text-align: left;\">\n",
       "      <th>epoch</th>\n",
       "      <th>train_loss</th>\n",
       "      <th>valid_loss</th>\n",
       "      <th>accuracy</th>\n",
       "      <th>time</th>\n",
       "    </tr>\n",
       "  </thead>\n",
       "  <tbody>\n",
       "    <tr>\n",
       "      <td>0</td>\n",
       "      <td>0.231677</td>\n",
       "      <td>0.197514</td>\n",
       "      <td>0.923037</td>\n",
       "      <td>00:22</td>\n",
       "    </tr>\n",
       "    <tr>\n",
       "      <td>1</td>\n",
       "      <td>0.201311</td>\n",
       "      <td>0.186423</td>\n",
       "      <td>0.929820</td>\n",
       "      <td>00:20</td>\n",
       "    </tr>\n",
       "    <tr>\n",
       "      <td>2</td>\n",
       "      <td>0.188684</td>\n",
       "      <td>0.175114</td>\n",
       "      <td>0.935038</td>\n",
       "      <td>00:22</td>\n",
       "    </tr>\n",
       "    <tr>\n",
       "      <td>3</td>\n",
       "      <td>0.207269</td>\n",
       "      <td>0.164776</td>\n",
       "      <td>0.935821</td>\n",
       "      <td>00:20</td>\n",
       "    </tr>\n",
       "    <tr>\n",
       "      <td>4</td>\n",
       "      <td>0.171407</td>\n",
       "      <td>0.168889</td>\n",
       "      <td>0.938429</td>\n",
       "      <td>00:21</td>\n",
       "    </tr>\n",
       "    <tr>\n",
       "      <td>5</td>\n",
       "      <td>0.152816</td>\n",
       "      <td>0.169717</td>\n",
       "      <td>0.938429</td>\n",
       "      <td>00:19</td>\n",
       "    </tr>\n",
       "    <tr>\n",
       "      <td>6</td>\n",
       "      <td>0.149489</td>\n",
       "      <td>0.173173</td>\n",
       "      <td>0.940777</td>\n",
       "      <td>00:20</td>\n",
       "    </tr>\n",
       "    <tr>\n",
       "      <td>7</td>\n",
       "      <td>0.147367</td>\n",
       "      <td>0.168138</td>\n",
       "      <td>0.939473</td>\n",
       "      <td>00:21</td>\n",
       "    </tr>\n",
       "    <tr>\n",
       "      <td>8</td>\n",
       "      <td>0.130099</td>\n",
       "      <td>0.167462</td>\n",
       "      <td>0.940517</td>\n",
       "      <td>00:22</td>\n",
       "    </tr>\n",
       "    <tr>\n",
       "      <td>9</td>\n",
       "      <td>0.138029</td>\n",
       "      <td>0.170938</td>\n",
       "      <td>0.938951</td>\n",
       "      <td>00:20</td>\n",
       "    </tr>\n",
       "  </tbody>\n",
       "</table>"
      ],
      "text/plain": [
       "<IPython.core.display.HTML object>"
      ]
     },
     "metadata": {},
     "output_type": "display_data"
    },
    {
     "name": "stdout",
     "output_type": "stream",
     "text": [
      "Better model found at epoch 0 with accuracy value: 0.9230368137359619.\n",
      "Better model found at epoch 1 with accuracy value: 0.9298200011253357.\n",
      "Better model found at epoch 2 with accuracy value: 0.9350378513336182.\n",
      "Better model found at epoch 3 with accuracy value: 0.9358205199241638.\n",
      "Better model found at epoch 4 with accuracy value: 0.9384294152259827.\n",
      "Better model found at epoch 6 with accuracy value: 0.9407774806022644.\n"
     ]
    },
    {
     "data": {
      "text/html": [],
      "text/plain": [
       "<IPython.core.display.HTML object>"
      ]
     },
     "metadata": {},
     "output_type": "display_data"
    },
    {
     "data": {
      "text/html": [],
      "text/plain": [
       "<IPython.core.display.HTML object>"
      ]
     },
     "metadata": {},
     "output_type": "display_data"
    },
    {
     "name": "stdout",
     "output_type": "stream",
     "text": [
      "rude: f1 = 0.8753943217665615\n"
     ]
    },
    {
     "name": "stderr",
     "output_type": "stream",
     "text": [
      "/home/posoma/miniconda3/envs/posoma/lib/python3.7/site-packages/ipykernel_launcher.py:88: SettingWithCopyWarning: \n",
      "A value is trying to be set on a copy of a slice from a DataFrame.\n",
      "Try using .loc[row_indexer,col_indexer] = value instead\n",
      "\n",
      "See the caveats in the documentation: http://pandas.pydata.org/pandas-docs/stable/user_guide/indexing.html#returning-a-view-versus-a-copy\n",
      "/home/posoma/miniconda3/envs/posoma/lib/python3.7/site-packages/pandas/core/generic.py:5208: SettingWithCopyWarning: \n",
      "A value is trying to be set on a copy of a slice from a DataFrame.\n",
      "Try using .loc[row_indexer,col_indexer] = value instead\n",
      "\n",
      "See the caveats in the documentation: http://pandas.pydata.org/pandas-docs/stable/user_guide/indexing.html#returning-a-view-versus-a-copy\n",
      "  self[name] = value\n",
      "/home/posoma/miniconda3/envs/posoma/lib/python3.7/site-packages/fastai/data_block.py:215: UserWarning: `random_split_by_pct` is deprecated, please use `split_by_rand_pct`.\n",
      "  warn(\"`random_split_by_pct` is deprecated, please use `split_by_rand_pct`.\")\n"
     ]
    },
    {
     "data": {
      "text/html": [],
      "text/plain": [
       "<IPython.core.display.HTML object>"
      ]
     },
     "metadata": {},
     "output_type": "display_data"
    },
    {
     "data": {
      "text/html": [],
      "text/plain": [
       "<IPython.core.display.HTML object>"
      ]
     },
     "metadata": {},
     "output_type": "display_data"
    },
    {
     "name": "stdout",
     "output_type": "stream",
     "text": [
      "training frozen\n"
     ]
    },
    {
     "data": {
      "text/html": [
       "<table border=\"1\" class=\"dataframe\">\n",
       "  <thead>\n",
       "    <tr style=\"text-align: left;\">\n",
       "      <th>epoch</th>\n",
       "      <th>train_loss</th>\n",
       "      <th>valid_loss</th>\n",
       "      <th>accuracy</th>\n",
       "      <th>time</th>\n",
       "    </tr>\n",
       "  </thead>\n",
       "  <tbody>\n",
       "    <tr>\n",
       "      <td>0</td>\n",
       "      <td>5.142798</td>\n",
       "      <td>4.511869</td>\n",
       "      <td>0.338690</td>\n",
       "      <td>00:13</td>\n",
       "    </tr>\n",
       "  </tbody>\n",
       "</table>"
      ],
      "text/plain": [
       "<IPython.core.display.HTML object>"
      ]
     },
     "metadata": {},
     "output_type": "display_data"
    },
    {
     "name": "stdout",
     "output_type": "stream",
     "text": [
      "training unfrozen\n"
     ]
    },
    {
     "data": {
      "text/html": [
       "<table border=\"1\" class=\"dataframe\">\n",
       "  <thead>\n",
       "    <tr style=\"text-align: left;\">\n",
       "      <th>epoch</th>\n",
       "      <th>train_loss</th>\n",
       "      <th>valid_loss</th>\n",
       "      <th>accuracy</th>\n",
       "      <th>time</th>\n",
       "    </tr>\n",
       "  </thead>\n",
       "  <tbody>\n",
       "    <tr>\n",
       "      <td>0</td>\n",
       "      <td>4.619720</td>\n",
       "      <td>4.305456</td>\n",
       "      <td>0.346131</td>\n",
       "      <td>00:14</td>\n",
       "    </tr>\n",
       "    <tr>\n",
       "      <td>1</td>\n",
       "      <td>4.440465</td>\n",
       "      <td>4.173342</td>\n",
       "      <td>0.355952</td>\n",
       "      <td>00:14</td>\n",
       "    </tr>\n",
       "    <tr>\n",
       "      <td>2</td>\n",
       "      <td>4.257493</td>\n",
       "      <td>4.103572</td>\n",
       "      <td>0.361607</td>\n",
       "      <td>00:14</td>\n",
       "    </tr>\n",
       "    <tr>\n",
       "      <td>3</td>\n",
       "      <td>4.111989</td>\n",
       "      <td>4.068312</td>\n",
       "      <td>0.363988</td>\n",
       "      <td>00:14</td>\n",
       "    </tr>\n",
       "    <tr>\n",
       "      <td>4</td>\n",
       "      <td>4.027159</td>\n",
       "      <td>4.061355</td>\n",
       "      <td>0.362500</td>\n",
       "      <td>00:14</td>\n",
       "    </tr>\n",
       "  </tbody>\n",
       "</table>"
      ],
      "text/plain": [
       "<IPython.core.display.HTML object>"
      ]
     },
     "metadata": {},
     "output_type": "display_data"
    },
    {
     "data": {
      "text/html": [],
      "text/plain": [
       "<IPython.core.display.HTML object>"
      ]
     },
     "metadata": {},
     "output_type": "display_data"
    },
    {
     "data": {
      "text/html": [],
      "text/plain": [
       "<IPython.core.display.HTML object>"
      ]
     },
     "metadata": {},
     "output_type": "display_data"
    },
    {
     "data": {
      "text/html": [],
      "text/plain": [
       "<IPython.core.display.HTML object>"
      ]
     },
     "metadata": {},
     "output_type": "display_data"
    },
    {
     "name": "stdout",
     "output_type": "stream",
     "text": [
      "10736\n"
     ]
    },
    {
     "data": {
      "text/html": [
       "<table border=\"1\" class=\"dataframe\">\n",
       "  <thead>\n",
       "    <tr style=\"text-align: left;\">\n",
       "      <th>epoch</th>\n",
       "      <th>train_loss</th>\n",
       "      <th>valid_loss</th>\n",
       "      <th>accuracy</th>\n",
       "      <th>time</th>\n",
       "    </tr>\n",
       "  </thead>\n",
       "  <tbody>\n",
       "    <tr>\n",
       "      <td>0</td>\n",
       "      <td>0.104866</td>\n",
       "      <td>0.114860</td>\n",
       "      <td>0.960083</td>\n",
       "      <td>00:18</td>\n",
       "    </tr>\n",
       "  </tbody>\n",
       "</table>"
      ],
      "text/plain": [
       "<IPython.core.display.HTML object>"
      ]
     },
     "metadata": {},
     "output_type": "display_data"
    },
    {
     "data": {
      "text/html": [
       "<table border=\"1\" class=\"dataframe\">\n",
       "  <thead>\n",
       "    <tr style=\"text-align: left;\">\n",
       "      <th>epoch</th>\n",
       "      <th>train_loss</th>\n",
       "      <th>valid_loss</th>\n",
       "      <th>accuracy</th>\n",
       "      <th>time</th>\n",
       "    </tr>\n",
       "  </thead>\n",
       "  <tbody>\n",
       "    <tr>\n",
       "      <td>0</td>\n",
       "      <td>0.112957</td>\n",
       "      <td>0.099568</td>\n",
       "      <td>0.967128</td>\n",
       "      <td>00:20</td>\n",
       "    </tr>\n",
       "  </tbody>\n",
       "</table>"
      ],
      "text/plain": [
       "<IPython.core.display.HTML object>"
      ]
     },
     "metadata": {},
     "output_type": "display_data"
    },
    {
     "data": {
      "text/html": [
       "<table border=\"1\" class=\"dataframe\">\n",
       "  <thead>\n",
       "    <tr style=\"text-align: left;\">\n",
       "      <th>epoch</th>\n",
       "      <th>train_loss</th>\n",
       "      <th>valid_loss</th>\n",
       "      <th>accuracy</th>\n",
       "      <th>time</th>\n",
       "    </tr>\n",
       "  </thead>\n",
       "  <tbody>\n",
       "    <tr>\n",
       "      <td>0</td>\n",
       "      <td>0.124994</td>\n",
       "      <td>0.094616</td>\n",
       "      <td>0.971824</td>\n",
       "      <td>00:20</td>\n",
       "    </tr>\n",
       "  </tbody>\n",
       "</table>"
      ],
      "text/plain": [
       "<IPython.core.display.HTML object>"
      ]
     },
     "metadata": {},
     "output_type": "display_data"
    },
    {
     "data": {
      "text/html": [
       "<table border=\"1\" class=\"dataframe\">\n",
       "  <thead>\n",
       "    <tr style=\"text-align: left;\">\n",
       "      <th>epoch</th>\n",
       "      <th>train_loss</th>\n",
       "      <th>valid_loss</th>\n",
       "      <th>accuracy</th>\n",
       "      <th>time</th>\n",
       "    </tr>\n",
       "  </thead>\n",
       "  <tbody>\n",
       "    <tr>\n",
       "      <td>0</td>\n",
       "      <td>0.093242</td>\n",
       "      <td>0.095980</td>\n",
       "      <td>0.973128</td>\n",
       "      <td>00:22</td>\n",
       "    </tr>\n",
       "    <tr>\n",
       "      <td>1</td>\n",
       "      <td>0.087832</td>\n",
       "      <td>0.099116</td>\n",
       "      <td>0.972345</td>\n",
       "      <td>00:21</td>\n",
       "    </tr>\n",
       "    <tr>\n",
       "      <td>2</td>\n",
       "      <td>0.085716</td>\n",
       "      <td>0.094918</td>\n",
       "      <td>0.972606</td>\n",
       "      <td>00:24</td>\n",
       "    </tr>\n",
       "    <tr>\n",
       "      <td>3</td>\n",
       "      <td>0.076632</td>\n",
       "      <td>0.092634</td>\n",
       "      <td>0.974433</td>\n",
       "      <td>00:24</td>\n",
       "    </tr>\n",
       "    <tr>\n",
       "      <td>4</td>\n",
       "      <td>0.077845</td>\n",
       "      <td>0.099607</td>\n",
       "      <td>0.973650</td>\n",
       "      <td>00:29</td>\n",
       "    </tr>\n",
       "    <tr>\n",
       "      <td>5</td>\n",
       "      <td>0.059487</td>\n",
       "      <td>0.099749</td>\n",
       "      <td>0.975737</td>\n",
       "      <td>00:23</td>\n",
       "    </tr>\n",
       "    <tr>\n",
       "      <td>6</td>\n",
       "      <td>0.045360</td>\n",
       "      <td>0.107485</td>\n",
       "      <td>0.974693</td>\n",
       "      <td>00:20</td>\n",
       "    </tr>\n",
       "    <tr>\n",
       "      <td>7</td>\n",
       "      <td>0.049777</td>\n",
       "      <td>0.105038</td>\n",
       "      <td>0.975215</td>\n",
       "      <td>00:21</td>\n",
       "    </tr>\n",
       "    <tr>\n",
       "      <td>8</td>\n",
       "      <td>0.049694</td>\n",
       "      <td>0.106291</td>\n",
       "      <td>0.974954</td>\n",
       "      <td>00:22</td>\n",
       "    </tr>\n",
       "    <tr>\n",
       "      <td>9</td>\n",
       "      <td>0.042292</td>\n",
       "      <td>0.104267</td>\n",
       "      <td>0.974954</td>\n",
       "      <td>00:20</td>\n",
       "    </tr>\n",
       "  </tbody>\n",
       "</table>"
      ],
      "text/plain": [
       "<IPython.core.display.HTML object>"
      ]
     },
     "metadata": {},
     "output_type": "display_data"
    },
    {
     "name": "stdout",
     "output_type": "stream",
     "text": [
      "Better model found at epoch 0 with accuracy value: 0.973128080368042.\n",
      "Better model found at epoch 3 with accuracy value: 0.9744325876235962.\n",
      "Better model found at epoch 5 with accuracy value: 0.9757370352745056.\n"
     ]
    },
    {
     "data": {
      "text/html": [],
      "text/plain": [
       "<IPython.core.display.HTML object>"
      ]
     },
     "metadata": {},
     "output_type": "display_data"
    },
    {
     "data": {
      "text/html": [],
      "text/plain": [
       "<IPython.core.display.HTML object>"
      ]
     },
     "metadata": {},
     "output_type": "display_data"
    },
    {
     "name": "stdout",
     "output_type": "stream",
     "text": [
      "offensive: f1 = 0.6164383561643836\n"
     ]
    },
    {
     "name": "stderr",
     "output_type": "stream",
     "text": [
      "/home/posoma/miniconda3/envs/posoma/lib/python3.7/site-packages/ipykernel_launcher.py:88: SettingWithCopyWarning: \n",
      "A value is trying to be set on a copy of a slice from a DataFrame.\n",
      "Try using .loc[row_indexer,col_indexer] = value instead\n",
      "\n",
      "See the caveats in the documentation: http://pandas.pydata.org/pandas-docs/stable/user_guide/indexing.html#returning-a-view-versus-a-copy\n",
      "/home/posoma/miniconda3/envs/posoma/lib/python3.7/site-packages/pandas/core/generic.py:5208: SettingWithCopyWarning: \n",
      "A value is trying to be set on a copy of a slice from a DataFrame.\n",
      "Try using .loc[row_indexer,col_indexer] = value instead\n",
      "\n",
      "See the caveats in the documentation: http://pandas.pydata.org/pandas-docs/stable/user_guide/indexing.html#returning-a-view-versus-a-copy\n",
      "  self[name] = value\n",
      "/home/posoma/miniconda3/envs/posoma/lib/python3.7/site-packages/fastai/data_block.py:215: UserWarning: `random_split_by_pct` is deprecated, please use `split_by_rand_pct`.\n",
      "  warn(\"`random_split_by_pct` is deprecated, please use `split_by_rand_pct`.\")\n"
     ]
    },
    {
     "data": {
      "text/html": [],
      "text/plain": [
       "<IPython.core.display.HTML object>"
      ]
     },
     "metadata": {},
     "output_type": "display_data"
    },
    {
     "data": {
      "text/html": [],
      "text/plain": [
       "<IPython.core.display.HTML object>"
      ]
     },
     "metadata": {},
     "output_type": "display_data"
    },
    {
     "name": "stdout",
     "output_type": "stream",
     "text": [
      "training frozen\n"
     ]
    },
    {
     "data": {
      "text/html": [
       "<table border=\"1\" class=\"dataframe\">\n",
       "  <thead>\n",
       "    <tr style=\"text-align: left;\">\n",
       "      <th>epoch</th>\n",
       "      <th>train_loss</th>\n",
       "      <th>valid_loss</th>\n",
       "      <th>accuracy</th>\n",
       "      <th>time</th>\n",
       "    </tr>\n",
       "  </thead>\n",
       "  <tbody>\n",
       "    <tr>\n",
       "      <td>0</td>\n",
       "      <td>5.143902</td>\n",
       "      <td>4.505757</td>\n",
       "      <td>0.335714</td>\n",
       "      <td>00:13</td>\n",
       "    </tr>\n",
       "  </tbody>\n",
       "</table>"
      ],
      "text/plain": [
       "<IPython.core.display.HTML object>"
      ]
     },
     "metadata": {},
     "output_type": "display_data"
    },
    {
     "name": "stdout",
     "output_type": "stream",
     "text": [
      "training unfrozen\n"
     ]
    },
    {
     "data": {
      "text/html": [
       "<table border=\"1\" class=\"dataframe\">\n",
       "  <thead>\n",
       "    <tr style=\"text-align: left;\">\n",
       "      <th>epoch</th>\n",
       "      <th>train_loss</th>\n",
       "      <th>valid_loss</th>\n",
       "      <th>accuracy</th>\n",
       "      <th>time</th>\n",
       "    </tr>\n",
       "  </thead>\n",
       "  <tbody>\n",
       "    <tr>\n",
       "      <td>0</td>\n",
       "      <td>4.614824</td>\n",
       "      <td>4.308103</td>\n",
       "      <td>0.347024</td>\n",
       "      <td>00:14</td>\n",
       "    </tr>\n",
       "    <tr>\n",
       "      <td>1</td>\n",
       "      <td>4.444665</td>\n",
       "      <td>4.173145</td>\n",
       "      <td>0.356250</td>\n",
       "      <td>00:14</td>\n",
       "    </tr>\n",
       "    <tr>\n",
       "      <td>2</td>\n",
       "      <td>4.258959</td>\n",
       "      <td>4.101288</td>\n",
       "      <td>0.361905</td>\n",
       "      <td>00:14</td>\n",
       "    </tr>\n",
       "    <tr>\n",
       "      <td>3</td>\n",
       "      <td>4.114602</td>\n",
       "      <td>4.063487</td>\n",
       "      <td>0.363393</td>\n",
       "      <td>00:14</td>\n",
       "    </tr>\n",
       "    <tr>\n",
       "      <td>4</td>\n",
       "      <td>4.029469</td>\n",
       "      <td>4.056860</td>\n",
       "      <td>0.368452</td>\n",
       "      <td>00:14</td>\n",
       "    </tr>\n",
       "  </tbody>\n",
       "</table>"
      ],
      "text/plain": [
       "<IPython.core.display.HTML object>"
      ]
     },
     "metadata": {},
     "output_type": "display_data"
    },
    {
     "data": {
      "text/html": [],
      "text/plain": [
       "<IPython.core.display.HTML object>"
      ]
     },
     "metadata": {},
     "output_type": "display_data"
    },
    {
     "data": {
      "text/html": [],
      "text/plain": [
       "<IPython.core.display.HTML object>"
      ]
     },
     "metadata": {},
     "output_type": "display_data"
    },
    {
     "data": {
      "text/html": [],
      "text/plain": [
       "<IPython.core.display.HTML object>"
      ]
     },
     "metadata": {},
     "output_type": "display_data"
    },
    {
     "name": "stdout",
     "output_type": "stream",
     "text": [
      "10736\n"
     ]
    },
    {
     "data": {
      "text/html": [
       "<table border=\"1\" class=\"dataframe\">\n",
       "  <thead>\n",
       "    <tr style=\"text-align: left;\">\n",
       "      <th>epoch</th>\n",
       "      <th>train_loss</th>\n",
       "      <th>valid_loss</th>\n",
       "      <th>accuracy</th>\n",
       "      <th>time</th>\n",
       "    </tr>\n",
       "  </thead>\n",
       "  <tbody>\n",
       "    <tr>\n",
       "      <td>0</td>\n",
       "      <td>0.139629</td>\n",
       "      <td>0.139929</td>\n",
       "      <td>0.954866</td>\n",
       "      <td>00:18</td>\n",
       "    </tr>\n",
       "  </tbody>\n",
       "</table>"
      ],
      "text/plain": [
       "<IPython.core.display.HTML object>"
      ]
     },
     "metadata": {},
     "output_type": "display_data"
    },
    {
     "data": {
      "text/html": [
       "<table border=\"1\" class=\"dataframe\">\n",
       "  <thead>\n",
       "    <tr style=\"text-align: left;\">\n",
       "      <th>epoch</th>\n",
       "      <th>train_loss</th>\n",
       "      <th>valid_loss</th>\n",
       "      <th>accuracy</th>\n",
       "      <th>time</th>\n",
       "    </tr>\n",
       "  </thead>\n",
       "  <tbody>\n",
       "    <tr>\n",
       "      <td>0</td>\n",
       "      <td>0.139268</td>\n",
       "      <td>0.123608</td>\n",
       "      <td>0.961649</td>\n",
       "      <td>00:20</td>\n",
       "    </tr>\n",
       "  </tbody>\n",
       "</table>"
      ],
      "text/plain": [
       "<IPython.core.display.HTML object>"
      ]
     },
     "metadata": {},
     "output_type": "display_data"
    },
    {
     "data": {
      "text/html": [
       "<table border=\"1\" class=\"dataframe\">\n",
       "  <thead>\n",
       "    <tr style=\"text-align: left;\">\n",
       "      <th>epoch</th>\n",
       "      <th>train_loss</th>\n",
       "      <th>valid_loss</th>\n",
       "      <th>accuracy</th>\n",
       "      <th>time</th>\n",
       "    </tr>\n",
       "  </thead>\n",
       "  <tbody>\n",
       "    <tr>\n",
       "      <td>0</td>\n",
       "      <td>0.126058</td>\n",
       "      <td>0.112622</td>\n",
       "      <td>0.966867</td>\n",
       "      <td>00:20</td>\n",
       "    </tr>\n",
       "  </tbody>\n",
       "</table>"
      ],
      "text/plain": [
       "<IPython.core.display.HTML object>"
      ]
     },
     "metadata": {},
     "output_type": "display_data"
    },
    {
     "data": {
      "text/html": [
       "<table border=\"1\" class=\"dataframe\">\n",
       "  <thead>\n",
       "    <tr style=\"text-align: left;\">\n",
       "      <th>epoch</th>\n",
       "      <th>train_loss</th>\n",
       "      <th>valid_loss</th>\n",
       "      <th>accuracy</th>\n",
       "      <th>time</th>\n",
       "    </tr>\n",
       "  </thead>\n",
       "  <tbody>\n",
       "    <tr>\n",
       "      <td>0</td>\n",
       "      <td>0.114697</td>\n",
       "      <td>0.101237</td>\n",
       "      <td>0.969476</td>\n",
       "      <td>00:22</td>\n",
       "    </tr>\n",
       "    <tr>\n",
       "      <td>1</td>\n",
       "      <td>0.102772</td>\n",
       "      <td>0.095724</td>\n",
       "      <td>0.971041</td>\n",
       "      <td>00:20</td>\n",
       "    </tr>\n",
       "    <tr>\n",
       "      <td>2</td>\n",
       "      <td>0.085544</td>\n",
       "      <td>0.101908</td>\n",
       "      <td>0.972606</td>\n",
       "      <td>00:22</td>\n",
       "    </tr>\n",
       "    <tr>\n",
       "      <td>3</td>\n",
       "      <td>0.100864</td>\n",
       "      <td>0.087979</td>\n",
       "      <td>0.975215</td>\n",
       "      <td>00:20</td>\n",
       "    </tr>\n",
       "    <tr>\n",
       "      <td>4</td>\n",
       "      <td>0.077152</td>\n",
       "      <td>0.087510</td>\n",
       "      <td>0.977302</td>\n",
       "      <td>00:22</td>\n",
       "    </tr>\n",
       "    <tr>\n",
       "      <td>5</td>\n",
       "      <td>0.068109</td>\n",
       "      <td>0.092933</td>\n",
       "      <td>0.977563</td>\n",
       "      <td>00:19</td>\n",
       "    </tr>\n",
       "    <tr>\n",
       "      <td>6</td>\n",
       "      <td>0.072432</td>\n",
       "      <td>0.094072</td>\n",
       "      <td>0.977041</td>\n",
       "      <td>00:20</td>\n",
       "    </tr>\n",
       "    <tr>\n",
       "      <td>7</td>\n",
       "      <td>0.066342</td>\n",
       "      <td>0.093517</td>\n",
       "      <td>0.976781</td>\n",
       "      <td>00:21</td>\n",
       "    </tr>\n",
       "    <tr>\n",
       "      <td>8</td>\n",
       "      <td>0.060342</td>\n",
       "      <td>0.094987</td>\n",
       "      <td>0.979129</td>\n",
       "      <td>00:22</td>\n",
       "    </tr>\n",
       "    <tr>\n",
       "      <td>9</td>\n",
       "      <td>0.059711</td>\n",
       "      <td>0.093600</td>\n",
       "      <td>0.979129</td>\n",
       "      <td>00:20</td>\n",
       "    </tr>\n",
       "  </tbody>\n",
       "</table>"
      ],
      "text/plain": [
       "<IPython.core.display.HTML object>"
      ]
     },
     "metadata": {},
     "output_type": "display_data"
    },
    {
     "name": "stdout",
     "output_type": "stream",
     "text": [
      "Better model found at epoch 0 with accuracy value: 0.9694756269454956.\n",
      "Better model found at epoch 1 with accuracy value: 0.9710409641265869.\n",
      "Better model found at epoch 2 with accuracy value: 0.9726063013076782.\n",
      "Better model found at epoch 3 with accuracy value: 0.9752152562141418.\n",
      "Better model found at epoch 4 with accuracy value: 0.9773023724555969.\n",
      "Better model found at epoch 5 with accuracy value: 0.9775632619857788.\n",
      "Better model found at epoch 8 with accuracy value: 0.9791285991668701.\n"
     ]
    },
    {
     "data": {
      "text/html": [],
      "text/plain": [
       "<IPython.core.display.HTML object>"
      ]
     },
     "metadata": {},
     "output_type": "display_data"
    },
    {
     "data": {
      "text/html": [],
      "text/plain": [
       "<IPython.core.display.HTML object>"
      ]
     },
     "metadata": {},
     "output_type": "display_data"
    },
    {
     "name": "stdout",
     "output_type": "stream",
     "text": [
      "figurative: f1 = 0.7199074074074073\n"
     ]
    },
    {
     "name": "stderr",
     "output_type": "stream",
     "text": [
      "/home/posoma/miniconda3/envs/posoma/lib/python3.7/site-packages/ipykernel_launcher.py:88: SettingWithCopyWarning: \n",
      "A value is trying to be set on a copy of a slice from a DataFrame.\n",
      "Try using .loc[row_indexer,col_indexer] = value instead\n",
      "\n",
      "See the caveats in the documentation: http://pandas.pydata.org/pandas-docs/stable/user_guide/indexing.html#returning-a-view-versus-a-copy\n",
      "/home/posoma/miniconda3/envs/posoma/lib/python3.7/site-packages/pandas/core/generic.py:5208: SettingWithCopyWarning: \n",
      "A value is trying to be set on a copy of a slice from a DataFrame.\n",
      "Try using .loc[row_indexer,col_indexer] = value instead\n",
      "\n",
      "See the caveats in the documentation: http://pandas.pydata.org/pandas-docs/stable/user_guide/indexing.html#returning-a-view-versus-a-copy\n",
      "  self[name] = value\n",
      "/home/posoma/miniconda3/envs/posoma/lib/python3.7/site-packages/fastai/data_block.py:215: UserWarning: `random_split_by_pct` is deprecated, please use `split_by_rand_pct`.\n",
      "  warn(\"`random_split_by_pct` is deprecated, please use `split_by_rand_pct`.\")\n"
     ]
    },
    {
     "data": {
      "text/html": [],
      "text/plain": [
       "<IPython.core.display.HTML object>"
      ]
     },
     "metadata": {},
     "output_type": "display_data"
    },
    {
     "data": {
      "text/html": [],
      "text/plain": [
       "<IPython.core.display.HTML object>"
      ]
     },
     "metadata": {},
     "output_type": "display_data"
    },
    {
     "name": "stdout",
     "output_type": "stream",
     "text": [
      "training frozen\n"
     ]
    },
    {
     "data": {
      "text/html": [
       "<table border=\"1\" class=\"dataframe\">\n",
       "  <thead>\n",
       "    <tr style=\"text-align: left;\">\n",
       "      <th>epoch</th>\n",
       "      <th>train_loss</th>\n",
       "      <th>valid_loss</th>\n",
       "      <th>accuracy</th>\n",
       "      <th>time</th>\n",
       "    </tr>\n",
       "  </thead>\n",
       "  <tbody>\n",
       "    <tr>\n",
       "      <td>0</td>\n",
       "      <td>5.142696</td>\n",
       "      <td>4.511000</td>\n",
       "      <td>0.335119</td>\n",
       "      <td>00:13</td>\n",
       "    </tr>\n",
       "  </tbody>\n",
       "</table>"
      ],
      "text/plain": [
       "<IPython.core.display.HTML object>"
      ]
     },
     "metadata": {},
     "output_type": "display_data"
    },
    {
     "name": "stdout",
     "output_type": "stream",
     "text": [
      "training unfrozen\n"
     ]
    },
    {
     "data": {
      "text/html": [
       "<table border=\"1\" class=\"dataframe\">\n",
       "  <thead>\n",
       "    <tr style=\"text-align: left;\">\n",
       "      <th>epoch</th>\n",
       "      <th>train_loss</th>\n",
       "      <th>valid_loss</th>\n",
       "      <th>accuracy</th>\n",
       "      <th>time</th>\n",
       "    </tr>\n",
       "  </thead>\n",
       "  <tbody>\n",
       "    <tr>\n",
       "      <td>0</td>\n",
       "      <td>4.623894</td>\n",
       "      <td>4.302590</td>\n",
       "      <td>0.345238</td>\n",
       "      <td>00:14</td>\n",
       "    </tr>\n",
       "    <tr>\n",
       "      <td>1</td>\n",
       "      <td>4.439420</td>\n",
       "      <td>4.170606</td>\n",
       "      <td>0.354167</td>\n",
       "      <td>00:14</td>\n",
       "    </tr>\n",
       "    <tr>\n",
       "      <td>2</td>\n",
       "      <td>4.261703</td>\n",
       "      <td>4.098464</td>\n",
       "      <td>0.360417</td>\n",
       "      <td>00:14</td>\n",
       "    </tr>\n",
       "    <tr>\n",
       "      <td>3</td>\n",
       "      <td>4.115185</td>\n",
       "      <td>4.062900</td>\n",
       "      <td>0.365476</td>\n",
       "      <td>00:14</td>\n",
       "    </tr>\n",
       "    <tr>\n",
       "      <td>4</td>\n",
       "      <td>4.028567</td>\n",
       "      <td>4.052834</td>\n",
       "      <td>0.368750</td>\n",
       "      <td>00:14</td>\n",
       "    </tr>\n",
       "  </tbody>\n",
       "</table>"
      ],
      "text/plain": [
       "<IPython.core.display.HTML object>"
      ]
     },
     "metadata": {},
     "output_type": "display_data"
    },
    {
     "data": {
      "text/html": [],
      "text/plain": [
       "<IPython.core.display.HTML object>"
      ]
     },
     "metadata": {},
     "output_type": "display_data"
    },
    {
     "data": {
      "text/html": [],
      "text/plain": [
       "<IPython.core.display.HTML object>"
      ]
     },
     "metadata": {},
     "output_type": "display_data"
    },
    {
     "data": {
      "text/html": [],
      "text/plain": [
       "<IPython.core.display.HTML object>"
      ]
     },
     "metadata": {},
     "output_type": "display_data"
    },
    {
     "name": "stdout",
     "output_type": "stream",
     "text": [
      "10736\n"
     ]
    },
    {
     "data": {
      "text/html": [
       "<table border=\"1\" class=\"dataframe\">\n",
       "  <thead>\n",
       "    <tr style=\"text-align: left;\">\n",
       "      <th>epoch</th>\n",
       "      <th>train_loss</th>\n",
       "      <th>valid_loss</th>\n",
       "      <th>accuracy</th>\n",
       "      <th>time</th>\n",
       "    </tr>\n",
       "  </thead>\n",
       "  <tbody>\n",
       "    <tr>\n",
       "      <td>0</td>\n",
       "      <td>0.077571</td>\n",
       "      <td>0.078200</td>\n",
       "      <td>0.981216</td>\n",
       "      <td>00:18</td>\n",
       "    </tr>\n",
       "  </tbody>\n",
       "</table>"
      ],
      "text/plain": [
       "<IPython.core.display.HTML object>"
      ]
     },
     "metadata": {},
     "output_type": "display_data"
    },
    {
     "data": {
      "text/html": [
       "<table border=\"1\" class=\"dataframe\">\n",
       "  <thead>\n",
       "    <tr style=\"text-align: left;\">\n",
       "      <th>epoch</th>\n",
       "      <th>train_loss</th>\n",
       "      <th>valid_loss</th>\n",
       "      <th>accuracy</th>\n",
       "      <th>time</th>\n",
       "    </tr>\n",
       "  </thead>\n",
       "  <tbody>\n",
       "    <tr>\n",
       "      <td>0</td>\n",
       "      <td>0.077288</td>\n",
       "      <td>0.075945</td>\n",
       "      <td>0.977563</td>\n",
       "      <td>00:20</td>\n",
       "    </tr>\n",
       "  </tbody>\n",
       "</table>"
      ],
      "text/plain": [
       "<IPython.core.display.HTML object>"
      ]
     },
     "metadata": {},
     "output_type": "display_data"
    },
    {
     "data": {
      "text/html": [
       "<table border=\"1\" class=\"dataframe\">\n",
       "  <thead>\n",
       "    <tr style=\"text-align: left;\">\n",
       "      <th>epoch</th>\n",
       "      <th>train_loss</th>\n",
       "      <th>valid_loss</th>\n",
       "      <th>accuracy</th>\n",
       "      <th>time</th>\n",
       "    </tr>\n",
       "  </thead>\n",
       "  <tbody>\n",
       "    <tr>\n",
       "      <td>0</td>\n",
       "      <td>0.061331</td>\n",
       "      <td>0.080462</td>\n",
       "      <td>0.973650</td>\n",
       "      <td>00:20</td>\n",
       "    </tr>\n",
       "  </tbody>\n",
       "</table>"
      ],
      "text/plain": [
       "<IPython.core.display.HTML object>"
      ]
     },
     "metadata": {},
     "output_type": "display_data"
    },
    {
     "data": {
      "text/html": [
       "<table border=\"1\" class=\"dataframe\">\n",
       "  <thead>\n",
       "    <tr style=\"text-align: left;\">\n",
       "      <th>epoch</th>\n",
       "      <th>train_loss</th>\n",
       "      <th>valid_loss</th>\n",
       "      <th>accuracy</th>\n",
       "      <th>time</th>\n",
       "    </tr>\n",
       "  </thead>\n",
       "  <tbody>\n",
       "    <tr>\n",
       "      <td>0</td>\n",
       "      <td>0.056575</td>\n",
       "      <td>0.078466</td>\n",
       "      <td>0.974172</td>\n",
       "      <td>00:22</td>\n",
       "    </tr>\n",
       "    <tr>\n",
       "      <td>1</td>\n",
       "      <td>0.058166</td>\n",
       "      <td>0.070727</td>\n",
       "      <td>0.978085</td>\n",
       "      <td>00:20</td>\n",
       "    </tr>\n",
       "    <tr>\n",
       "      <td>2</td>\n",
       "      <td>0.056636</td>\n",
       "      <td>0.075884</td>\n",
       "      <td>0.975476</td>\n",
       "      <td>00:21</td>\n",
       "    </tr>\n",
       "    <tr>\n",
       "      <td>3</td>\n",
       "      <td>0.048403</td>\n",
       "      <td>0.071689</td>\n",
       "      <td>0.975476</td>\n",
       "      <td>00:20</td>\n",
       "    </tr>\n",
       "    <tr>\n",
       "      <td>4</td>\n",
       "      <td>0.036508</td>\n",
       "      <td>0.080651</td>\n",
       "      <td>0.974172</td>\n",
       "      <td>00:22</td>\n",
       "    </tr>\n",
       "    <tr>\n",
       "      <td>5</td>\n",
       "      <td>0.027291</td>\n",
       "      <td>0.080901</td>\n",
       "      <td>0.979389</td>\n",
       "      <td>00:19</td>\n",
       "    </tr>\n",
       "    <tr>\n",
       "      <td>6</td>\n",
       "      <td>0.029609</td>\n",
       "      <td>0.091744</td>\n",
       "      <td>0.975215</td>\n",
       "      <td>00:20</td>\n",
       "    </tr>\n",
       "    <tr>\n",
       "      <td>7</td>\n",
       "      <td>0.027158</td>\n",
       "      <td>0.088585</td>\n",
       "      <td>0.978085</td>\n",
       "      <td>00:21</td>\n",
       "    </tr>\n",
       "    <tr>\n",
       "      <td>8</td>\n",
       "      <td>0.025732</td>\n",
       "      <td>0.087571</td>\n",
       "      <td>0.977824</td>\n",
       "      <td>00:22</td>\n",
       "    </tr>\n",
       "    <tr>\n",
       "      <td>9</td>\n",
       "      <td>0.024314</td>\n",
       "      <td>0.085796</td>\n",
       "      <td>0.976520</td>\n",
       "      <td>00:20</td>\n",
       "    </tr>\n",
       "  </tbody>\n",
       "</table>"
      ],
      "text/plain": [
       "<IPython.core.display.HTML object>"
      ]
     },
     "metadata": {},
     "output_type": "display_data"
    },
    {
     "name": "stdout",
     "output_type": "stream",
     "text": [
      "Better model found at epoch 0 with accuracy value: 0.9741716384887695.\n",
      "Better model found at epoch 1 with accuracy value: 0.9780850410461426.\n",
      "Better model found at epoch 5 with accuracy value: 0.979389488697052.\n"
     ]
    },
    {
     "data": {
      "text/html": [],
      "text/plain": [
       "<IPython.core.display.HTML object>"
      ]
     },
     "metadata": {},
     "output_type": "display_data"
    },
    {
     "data": {
      "text/html": [],
      "text/plain": [
       "<IPython.core.display.HTML object>"
      ]
     },
     "metadata": {},
     "output_type": "display_data"
    },
    {
     "name": "stdout",
     "output_type": "stream",
     "text": [
      "dirty: f1 = 0.3228346456692914\n"
     ]
    },
    {
     "name": "stderr",
     "output_type": "stream",
     "text": [
      "/home/posoma/miniconda3/envs/posoma/lib/python3.7/site-packages/ipykernel_launcher.py:88: SettingWithCopyWarning: \n",
      "A value is trying to be set on a copy of a slice from a DataFrame.\n",
      "Try using .loc[row_indexer,col_indexer] = value instead\n",
      "\n",
      "See the caveats in the documentation: http://pandas.pydata.org/pandas-docs/stable/user_guide/indexing.html#returning-a-view-versus-a-copy\n",
      "/home/posoma/miniconda3/envs/posoma/lib/python3.7/site-packages/pandas/core/generic.py:5208: SettingWithCopyWarning: \n",
      "A value is trying to be set on a copy of a slice from a DataFrame.\n",
      "Try using .loc[row_indexer,col_indexer] = value instead\n",
      "\n",
      "See the caveats in the documentation: http://pandas.pydata.org/pandas-docs/stable/user_guide/indexing.html#returning-a-view-versus-a-copy\n",
      "  self[name] = value\n"
     ]
    }
   ],
   "source": [
    "learns = {}\n",
    "for i in abuss_types:\n",
    "    learns[i] = train_df(all_df, i)"
   ]
  },
  {
   "cell_type": "code",
   "execution_count": null,
   "metadata": {},
   "outputs": [],
   "source": [
    "# F1 and confusion matrix\n",
    "for abuss_type in abuss_types:\n",
    "    tmp = learns[abuss_type].get_preds(DatasetType.Test)\n",
    "    test_df['pred'] = tmp[0].numpy()[:, 1]\n",
    "    test_df.pred = test_df.pred.apply(round)\n",
    "    print(f\"{abuss_type}: f1 = {f1_score(test_df[abuss_type], test_df.pred)}\")\n",
    "    print(pd.crosstab(test_df[abuss_type], test_df.pred, rownames=['Actual'], colnames=['Predicted'], margins=True))"
   ]
  },
  {
   "cell_type": "code",
   "execution_count": 41,
   "metadata": {},
   "outputs": [],
   "source": [
    "learn_tmp = learns['rude']"
   ]
  },
  {
   "cell_type": "code",
   "execution_count": 287,
   "metadata": {},
   "outputs": [],
   "source": [
    "test_lm = TextList.from_df(test_df, model_path, cols='comment_text', processor=processor)"
   ]
  },
  {
   "cell_type": "code",
   "execution_count": 337,
   "metadata": {},
   "outputs": [],
   "source": [
    "a = learn_tmp.model[0](learn_tmp.data.one_item(\"ไอหน้าโง่\")[0])[0][-1][:, -1]\n",
    "\n",
    "a.cpu().detach().numpy()"
   ]
  },
  {
   "cell_type": "code",
   "execution_count": 374,
   "metadata": {},
   "outputs": [],
   "source": [
    "def embedding_df(df, abuss_type):\n",
    "    a = np.zeros((len(df),400))\n",
    "    for i, v in enumerate(df.comment_text):\n",
    "        a[i] = embedding(v, abuss_type)\n",
    "    df.iloc[:,df.columns.get_loc('sent_emb_0'):] = a\n",
    "def embedding(s, abuss_type):\n",
    "    sentence = learns[abuss_type].model[0](learns[abuss_type].data.one_item(s)[0])[0][-1][:, -1]\n",
    "    return sentence.cpu().detach().numpy()\n",
    "\n"
   ]
  },
  {
   "cell_type": "code",
   "execution_count": 513,
   "metadata": {},
   "outputs": [],
   "source": [
    "df_1 = test_df.copy()"
   ]
  },
  {
   "cell_type": "code",
   "execution_count": 514,
   "metadata": {},
   "outputs": [],
   "source": [
    "for i in range(400):\n",
    "    df_1['sent_emb_' + str(i)] = None"
   ]
  },
  {
   "cell_type": "code",
   "execution_count": 515,
   "metadata": {},
   "outputs": [],
   "source": [
    "df_2 = df_1.iloc[:1000]"
   ]
  },
  {
   "cell_type": "code",
   "execution_count": 516,
   "metadata": {},
   "outputs": [
    {
     "name": "stderr",
     "output_type": "stream",
     "text": [
      "/home/posoma/miniconda3/envs/posoma/lib/python3.7/site-packages/pandas/core/indexing.py:494: SettingWithCopyWarning: \n",
      "A value is trying to be set on a copy of a slice from a DataFrame.\n",
      "Try using .loc[row_indexer,col_indexer] = value instead\n",
      "\n",
      "See the caveats in the documentation: http://pandas.pydata.org/pandas-docs/stable/user_guide/indexing.html#returning-a-view-versus-a-copy\n",
      "  self.obj[item] = s\n"
     ]
    }
   ],
   "source": [
    "start = time.time_ns()\n",
    "a = np.zeros((len(df_2),400))\n",
    "for i, v in enumerate(df_2.comment_text):\n",
    "    a[i] = embedding(v, 'rude')\n",
    "df_2.iloc[:,df_2.columns.get_loc('sent_emb_0'):] = a\n",
    "t = time.time_ns() - start"
   ]
  },
  {
   "cell_type": "code",
   "execution_count": 517,
   "metadata": {},
   "outputs": [
    {
     "data": {
      "text/plain": [
       "6192723440"
      ]
     },
     "execution_count": 517,
     "metadata": {},
     "output_type": "execute_result"
    }
   ],
   "source": [
    "t"
   ]
  },
  {
   "cell_type": "code",
   "execution_count": 518,
   "metadata": {},
   "outputs": [
    {
     "data": {
      "text/html": [
       "<div>\n",
       "<style scoped>\n",
       "    .dataframe tbody tr th:only-of-type {\n",
       "        vertical-align: middle;\n",
       "    }\n",
       "\n",
       "    .dataframe tbody tr th {\n",
       "        vertical-align: top;\n",
       "    }\n",
       "\n",
       "    .dataframe thead th {\n",
       "        text-align: right;\n",
       "    }\n",
       "</style>\n",
       "<table border=\"1\" class=\"dataframe\">\n",
       "  <thead>\n",
       "    <tr style=\"text-align: right;\">\n",
       "      <th></th>\n",
       "      <th>comment_text</th>\n",
       "      <th>rude</th>\n",
       "      <th>offensive</th>\n",
       "      <th>figurative</th>\n",
       "      <th>dirty</th>\n",
       "      <th>sent_emb_0</th>\n",
       "      <th>sent_emb_1</th>\n",
       "      <th>sent_emb_2</th>\n",
       "      <th>sent_emb_3</th>\n",
       "      <th>sent_emb_4</th>\n",
       "      <th>...</th>\n",
       "      <th>sent_emb_390</th>\n",
       "      <th>sent_emb_391</th>\n",
       "      <th>sent_emb_392</th>\n",
       "      <th>sent_emb_393</th>\n",
       "      <th>sent_emb_394</th>\n",
       "      <th>sent_emb_395</th>\n",
       "      <th>sent_emb_396</th>\n",
       "      <th>sent_emb_397</th>\n",
       "      <th>sent_emb_398</th>\n",
       "      <th>sent_emb_399</th>\n",
       "    </tr>\n",
       "  </thead>\n",
       "  <tbody>\n",
       "    <tr>\n",
       "      <th>4657</th>\n",
       "      <td>ไม่เรียกการ์เด็นยาร์ทไปเลยละสัสทไอ้ควาย</td>\n",
       "      <td>1</td>\n",
       "      <td>0</td>\n",
       "      <td>1</td>\n",
       "      <td>0</td>\n",
       "      <td>0.008896</td>\n",
       "      <td>0.034835</td>\n",
       "      <td>0.091158</td>\n",
       "      <td>-0.001808</td>\n",
       "      <td>-0.002071</td>\n",
       "      <td>...</td>\n",
       "      <td>-0.023483</td>\n",
       "      <td>0.003060</td>\n",
       "      <td>0.011713</td>\n",
       "      <td>-0.012353</td>\n",
       "      <td>-0.016319</td>\n",
       "      <td>0.033031</td>\n",
       "      <td>-0.001937</td>\n",
       "      <td>0.087386</td>\n",
       "      <td>0.031454</td>\n",
       "      <td>0.009348</td>\n",
       "    </tr>\n",
       "    <tr>\n",
       "      <th>3989</th>\n",
       "      <td>อยากลองโดนหมาเย็ดบ้างจัง</td>\n",
       "      <td>0</td>\n",
       "      <td>0</td>\n",
       "      <td>0</td>\n",
       "      <td>0</td>\n",
       "      <td>-0.002927</td>\n",
       "      <td>-0.008596</td>\n",
       "      <td>-0.024920</td>\n",
       "      <td>0.014813</td>\n",
       "      <td>-0.009668</td>\n",
       "      <td>...</td>\n",
       "      <td>-0.009464</td>\n",
       "      <td>0.054030</td>\n",
       "      <td>-0.001190</td>\n",
       "      <td>0.006093</td>\n",
       "      <td>0.000166</td>\n",
       "      <td>-0.016309</td>\n",
       "      <td>-0.005888</td>\n",
       "      <td>0.022392</td>\n",
       "      <td>0.008179</td>\n",
       "      <td>0.007481</td>\n",
       "    </tr>\n",
       "    <tr>\n",
       "      <th>2061</th>\n",
       "      <td>ช่วยเเปลไทยเป็นไทยที มันหมายความว่าไง</td>\n",
       "      <td>0</td>\n",
       "      <td>0</td>\n",
       "      <td>0</td>\n",
       "      <td>0</td>\n",
       "      <td>-0.016566</td>\n",
       "      <td>-0.023509</td>\n",
       "      <td>0.011421</td>\n",
       "      <td>0.029301</td>\n",
       "      <td>-0.022250</td>\n",
       "      <td>...</td>\n",
       "      <td>0.028772</td>\n",
       "      <td>0.066345</td>\n",
       "      <td>-0.016508</td>\n",
       "      <td>0.004403</td>\n",
       "      <td>-0.007536</td>\n",
       "      <td>-0.039450</td>\n",
       "      <td>-0.021828</td>\n",
       "      <td>0.003672</td>\n",
       "      <td>0.021948</td>\n",
       "      <td>0.004249</td>\n",
       "    </tr>\n",
       "    <tr>\n",
       "      <th>14789</th>\n",
       "      <td>Nattii Memory</td>\n",
       "      <td>0</td>\n",
       "      <td>0</td>\n",
       "      <td>0</td>\n",
       "      <td>0</td>\n",
       "      <td>-0.015504</td>\n",
       "      <td>-0.009954</td>\n",
       "      <td>-0.008057</td>\n",
       "      <td>0.005284</td>\n",
       "      <td>-0.016166</td>\n",
       "      <td>...</td>\n",
       "      <td>0.022626</td>\n",
       "      <td>-0.013803</td>\n",
       "      <td>0.002958</td>\n",
       "      <td>-0.011930</td>\n",
       "      <td>-0.011034</td>\n",
       "      <td>0.000881</td>\n",
       "      <td>0.003108</td>\n",
       "      <td>-0.009486</td>\n",
       "      <td>0.009031</td>\n",
       "      <td>0.010626</td>\n",
       "    </tr>\n",
       "    <tr>\n",
       "      <th>30359</th>\n",
       "      <td>อีดอกหมั่นไส้แอดมิน</td>\n",
       "      <td>1</td>\n",
       "      <td>0</td>\n",
       "      <td>0</td>\n",
       "      <td>0</td>\n",
       "      <td>-0.002542</td>\n",
       "      <td>-0.024288</td>\n",
       "      <td>0.010666</td>\n",
       "      <td>-0.041654</td>\n",
       "      <td>-0.052078</td>\n",
       "      <td>...</td>\n",
       "      <td>0.021117</td>\n",
       "      <td>0.013166</td>\n",
       "      <td>0.007771</td>\n",
       "      <td>-0.014121</td>\n",
       "      <td>0.034591</td>\n",
       "      <td>0.001021</td>\n",
       "      <td>-0.022170</td>\n",
       "      <td>0.025837</td>\n",
       "      <td>0.036038</td>\n",
       "      <td>0.007216</td>\n",
       "    </tr>\n",
       "    <tr>\n",
       "      <th>...</th>\n",
       "      <td>...</td>\n",
       "      <td>...</td>\n",
       "      <td>...</td>\n",
       "      <td>...</td>\n",
       "      <td>...</td>\n",
       "      <td>...</td>\n",
       "      <td>...</td>\n",
       "      <td>...</td>\n",
       "      <td>...</td>\n",
       "      <td>...</td>\n",
       "      <td>...</td>\n",
       "      <td>...</td>\n",
       "      <td>...</td>\n",
       "      <td>...</td>\n",
       "      <td>...</td>\n",
       "      <td>...</td>\n",
       "      <td>...</td>\n",
       "      <td>...</td>\n",
       "      <td>...</td>\n",
       "      <td>...</td>\n",
       "      <td>...</td>\n",
       "    </tr>\n",
       "    <tr>\n",
       "      <th>1549</th>\n",
       "      <td>โจรที่ถูกต้องตามกฎหมาย....</td>\n",
       "      <td>0</td>\n",
       "      <td>0</td>\n",
       "      <td>0</td>\n",
       "      <td>0</td>\n",
       "      <td>-0.004151</td>\n",
       "      <td>-0.000587</td>\n",
       "      <td>0.016885</td>\n",
       "      <td>0.018948</td>\n",
       "      <td>-0.012675</td>\n",
       "      <td>...</td>\n",
       "      <td>0.046218</td>\n",
       "      <td>-0.010283</td>\n",
       "      <td>-0.018737</td>\n",
       "      <td>-0.003777</td>\n",
       "      <td>-0.017242</td>\n",
       "      <td>-0.024416</td>\n",
       "      <td>-0.024064</td>\n",
       "      <td>0.021981</td>\n",
       "      <td>-0.008406</td>\n",
       "      <td>0.020191</td>\n",
       "    </tr>\n",
       "    <tr>\n",
       "      <th>13648</th>\n",
       "      <td>เฮ้ออออ</td>\n",
       "      <td>0</td>\n",
       "      <td>0</td>\n",
       "      <td>0</td>\n",
       "      <td>0</td>\n",
       "      <td>-0.003531</td>\n",
       "      <td>-0.000743</td>\n",
       "      <td>0.011149</td>\n",
       "      <td>0.018602</td>\n",
       "      <td>-0.006672</td>\n",
       "      <td>...</td>\n",
       "      <td>0.014051</td>\n",
       "      <td>-0.004096</td>\n",
       "      <td>-0.000855</td>\n",
       "      <td>-0.009593</td>\n",
       "      <td>-0.001904</td>\n",
       "      <td>-0.003632</td>\n",
       "      <td>0.001257</td>\n",
       "      <td>-0.002902</td>\n",
       "      <td>-0.038019</td>\n",
       "      <td>0.010529</td>\n",
       "    </tr>\n",
       "    <tr>\n",
       "      <th>26632</th>\n",
       "      <td>จุ๊บจิ๊บของนัทNutthaphol Thanakijsoonthorn</td>\n",
       "      <td>0</td>\n",
       "      <td>0</td>\n",
       "      <td>0</td>\n",
       "      <td>0</td>\n",
       "      <td>-0.007395</td>\n",
       "      <td>-0.016608</td>\n",
       "      <td>-0.016472</td>\n",
       "      <td>-0.001412</td>\n",
       "      <td>-0.021891</td>\n",
       "      <td>...</td>\n",
       "      <td>0.019551</td>\n",
       "      <td>-0.013215</td>\n",
       "      <td>0.011810</td>\n",
       "      <td>-0.010079</td>\n",
       "      <td>-0.014069</td>\n",
       "      <td>0.005176</td>\n",
       "      <td>-0.004763</td>\n",
       "      <td>-0.001546</td>\n",
       "      <td>-0.001750</td>\n",
       "      <td>0.011939</td>\n",
       "    </tr>\n",
       "    <tr>\n",
       "      <th>15313</th>\n",
       "      <td>อีกะเทย</td>\n",
       "      <td>1</td>\n",
       "      <td>1</td>\n",
       "      <td>0</td>\n",
       "      <td>0</td>\n",
       "      <td>0.030308</td>\n",
       "      <td>0.128397</td>\n",
       "      <td>0.298503</td>\n",
       "      <td>0.037120</td>\n",
       "      <td>0.031057</td>\n",
       "      <td>...</td>\n",
       "      <td>-0.013818</td>\n",
       "      <td>0.001193</td>\n",
       "      <td>0.023193</td>\n",
       "      <td>0.000860</td>\n",
       "      <td>-0.042324</td>\n",
       "      <td>0.098481</td>\n",
       "      <td>0.010621</td>\n",
       "      <td>0.132203</td>\n",
       "      <td>-0.036891</td>\n",
       "      <td>-0.010427</td>\n",
       "    </tr>\n",
       "    <tr>\n",
       "      <th>6105</th>\n",
       "      <td>ข</td>\n",
       "      <td>0</td>\n",
       "      <td>0</td>\n",
       "      <td>0</td>\n",
       "      <td>0</td>\n",
       "      <td>-0.007771</td>\n",
       "      <td>-0.007516</td>\n",
       "      <td>0.000075</td>\n",
       "      <td>0.000259</td>\n",
       "      <td>-0.017441</td>\n",
       "      <td>...</td>\n",
       "      <td>0.012722</td>\n",
       "      <td>-0.005791</td>\n",
       "      <td>0.040349</td>\n",
       "      <td>0.008409</td>\n",
       "      <td>-0.015928</td>\n",
       "      <td>0.012999</td>\n",
       "      <td>0.029223</td>\n",
       "      <td>-0.024562</td>\n",
       "      <td>-0.052829</td>\n",
       "      <td>0.008272</td>\n",
       "    </tr>\n",
       "  </tbody>\n",
       "</table>\n",
       "<p>1000 rows × 405 columns</p>\n",
       "</div>"
      ],
      "text/plain": [
       "                                     comment_text  rude  offensive  \\\n",
       "4657      ไม่เรียกการ์เด็นยาร์ทไปเลยละสัสทไอ้ควาย     1          0   \n",
       "3989                     อยากลองโดนหมาเย็ดบ้างจัง     0          0   \n",
       "2061        ช่วยเเปลไทยเป็นไทยที มันหมายความว่าไง     0          0   \n",
       "14789                               Nattii Memory     0          0   \n",
       "30359                         อีดอกหมั่นไส้แอดมิน     1          0   \n",
       "...                                           ...   ...        ...   \n",
       "1549                   โจรที่ถูกต้องตามกฎหมาย....     0          0   \n",
       "13648                                     เฮ้ออออ     0          0   \n",
       "26632  จุ๊บจิ๊บของนัทNutthaphol Thanakijsoonthorn     0          0   \n",
       "15313                                     อีกะเทย     1          1   \n",
       "6105                                            ข     0          0   \n",
       "\n",
       "       figurative  dirty  sent_emb_0  sent_emb_1  sent_emb_2  sent_emb_3  \\\n",
       "4657            1      0    0.008896    0.034835    0.091158   -0.001808   \n",
       "3989            0      0   -0.002927   -0.008596   -0.024920    0.014813   \n",
       "2061            0      0   -0.016566   -0.023509    0.011421    0.029301   \n",
       "14789           0      0   -0.015504   -0.009954   -0.008057    0.005284   \n",
       "30359           0      0   -0.002542   -0.024288    0.010666   -0.041654   \n",
       "...           ...    ...         ...         ...         ...         ...   \n",
       "1549            0      0   -0.004151   -0.000587    0.016885    0.018948   \n",
       "13648           0      0   -0.003531   -0.000743    0.011149    0.018602   \n",
       "26632           0      0   -0.007395   -0.016608   -0.016472   -0.001412   \n",
       "15313           0      0    0.030308    0.128397    0.298503    0.037120   \n",
       "6105            0      0   -0.007771   -0.007516    0.000075    0.000259   \n",
       "\n",
       "       sent_emb_4  ...  sent_emb_390  sent_emb_391  sent_emb_392  \\\n",
       "4657    -0.002071  ...     -0.023483      0.003060      0.011713   \n",
       "3989    -0.009668  ...     -0.009464      0.054030     -0.001190   \n",
       "2061    -0.022250  ...      0.028772      0.066345     -0.016508   \n",
       "14789   -0.016166  ...      0.022626     -0.013803      0.002958   \n",
       "30359   -0.052078  ...      0.021117      0.013166      0.007771   \n",
       "...           ...  ...           ...           ...           ...   \n",
       "1549    -0.012675  ...      0.046218     -0.010283     -0.018737   \n",
       "13648   -0.006672  ...      0.014051     -0.004096     -0.000855   \n",
       "26632   -0.021891  ...      0.019551     -0.013215      0.011810   \n",
       "15313    0.031057  ...     -0.013818      0.001193      0.023193   \n",
       "6105    -0.017441  ...      0.012722     -0.005791      0.040349   \n",
       "\n",
       "       sent_emb_393  sent_emb_394  sent_emb_395  sent_emb_396  sent_emb_397  \\\n",
       "4657      -0.012353     -0.016319      0.033031     -0.001937      0.087386   \n",
       "3989       0.006093      0.000166     -0.016309     -0.005888      0.022392   \n",
       "2061       0.004403     -0.007536     -0.039450     -0.021828      0.003672   \n",
       "14789     -0.011930     -0.011034      0.000881      0.003108     -0.009486   \n",
       "30359     -0.014121      0.034591      0.001021     -0.022170      0.025837   \n",
       "...             ...           ...           ...           ...           ...   \n",
       "1549      -0.003777     -0.017242     -0.024416     -0.024064      0.021981   \n",
       "13648     -0.009593     -0.001904     -0.003632      0.001257     -0.002902   \n",
       "26632     -0.010079     -0.014069      0.005176     -0.004763     -0.001546   \n",
       "15313      0.000860     -0.042324      0.098481      0.010621      0.132203   \n",
       "6105       0.008409     -0.015928      0.012999      0.029223     -0.024562   \n",
       "\n",
       "       sent_emb_398  sent_emb_399  \n",
       "4657       0.031454      0.009348  \n",
       "3989       0.008179      0.007481  \n",
       "2061       0.021948      0.004249  \n",
       "14789      0.009031      0.010626  \n",
       "30359      0.036038      0.007216  \n",
       "...             ...           ...  \n",
       "1549      -0.008406      0.020191  \n",
       "13648     -0.038019      0.010529  \n",
       "26632     -0.001750      0.011939  \n",
       "15313     -0.036891     -0.010427  \n",
       "6105      -0.052829      0.008272  \n",
       "\n",
       "[1000 rows x 405 columns]"
      ]
     },
     "execution_count": 518,
     "metadata": {},
     "output_type": "execute_result"
    }
   ],
   "source": [
    "df_2"
   ]
  },
  {
   "cell_type": "code",
   "execution_count": 519,
   "metadata": {
    "scrolled": true
   },
   "outputs": [
    {
     "data": {
      "text/plain": [
       "'for 1000000 rec = 103.21205733333333 mins'"
      ]
     },
     "execution_count": 519,
     "metadata": {},
     "output_type": "execute_result"
    }
   ],
   "source": [
    "f\"for 1000000 rec = {((t/1e9) * 1e3)/ 60} mins\""
   ]
  },
  {
   "cell_type": "code",
   "execution_count": 490,
   "metadata": {},
   "outputs": [],
   "source": [
    "a = np.zeros((1000,400))"
   ]
  },
  {
   "cell_type": "code",
   "execution_count": 493,
   "metadata": {},
   "outputs": [
    {
     "data": {
      "text/plain": [
       "array([[ 0.008896,  0.034835,  0.091158, -0.001808, ..., -0.001937,  0.087386,  0.031454,  0.009348]], dtype=float32)"
      ]
     },
     "execution_count": 493,
     "metadata": {},
     "output_type": "execute_result"
    }
   ],
   "source": [
    "df_2.iat[0, 5]"
   ]
  },
  {
   "cell_type": "code",
   "execution_count": 494,
   "metadata": {},
   "outputs": [],
   "source": [
    "a[0] = df_2.iat[0, 5]"
   ]
  },
  {
   "cell_type": "code",
   "execution_count": 496,
   "metadata": {},
   "outputs": [
    {
     "data": {
      "text/plain": [
       "array([[ 0.008896,  0.034835,  0.091158, -0.001808, ..., -0.001937,  0.087386,  0.031454,  0.009348],\n",
       "       [ 0.      ,  0.      ,  0.      ,  0.      , ...,  0.      ,  0.      ,  0.      ,  0.      ],\n",
       "       [ 0.      ,  0.      ,  0.      ,  0.      , ...,  0.      ,  0.      ,  0.      ,  0.      ],\n",
       "       [ 0.      ,  0.      ,  0.      ,  0.      , ...,  0.      ,  0.      ,  0.      ,  0.      ],\n",
       "       ...,\n",
       "       [ 0.      ,  0.      ,  0.      ,  0.      , ...,  0.      ,  0.      ,  0.      ,  0.      ],\n",
       "       [ 0.      ,  0.      ,  0.      ,  0.      , ...,  0.      ,  0.      ,  0.      ,  0.      ],\n",
       "       [ 0.      ,  0.      ,  0.      ,  0.      , ...,  0.      ,  0.      ,  0.      ,  0.      ],\n",
       "       [ 0.      ,  0.      ,  0.      ,  0.      , ...,  0.      ,  0.      ,  0.      ,  0.      ]])"
      ]
     },
     "execution_count": 496,
     "metadata": {},
     "output_type": "execute_result"
    }
   ],
   "source": [
    "a"
   ]
  },
  {
   "cell_type": "code",
   "execution_count": 489,
   "metadata": {},
   "outputs": [
    {
     "data": {
      "text/plain": [
       "array([4.643993e-310, 4.643991e-310, 4.643993e-310, 4.643991e-310, ..., 0.000000e+000, 0.000000e+000, 0.000000e+000,\n",
       "       0.000000e+000])"
      ]
     },
     "execution_count": 489,
     "metadata": {},
     "output_type": "execute_result"
    }
   ],
   "source": [
    "a"
   ]
  },
  {
   "cell_type": "code",
   "execution_count": 482,
   "metadata": {
    "scrolled": true
   },
   "outputs": [
    {
     "name": "stderr",
     "output_type": "stream",
     "text": [
      "/home/posoma/miniconda3/envs/posoma/lib/python3.7/site-packages/pandas/core/indexing.py:494: SettingWithCopyWarning: \n",
      "A value is trying to be set on a copy of a slice from a DataFrame.\n",
      "Try using .loc[row_indexer,col_indexer] = value instead\n",
      "\n",
      "See the caveats in the documentation: http://pandas.pydata.org/pandas-docs/stable/user_guide/indexing.html#returning-a-view-versus-a-copy\n",
      "  self.obj[item] = s\n"
     ]
    }
   ],
   "source": [
    "df_2.iloc[:,6:] = a"
   ]
  },
  {
   "cell_type": "code",
   "execution_count": 483,
   "metadata": {},
   "outputs": [
    {
     "data": {
      "text/html": [
       "<div>\n",
       "<style scoped>\n",
       "    .dataframe tbody tr th:only-of-type {\n",
       "        vertical-align: middle;\n",
       "    }\n",
       "\n",
       "    .dataframe tbody tr th {\n",
       "        vertical-align: top;\n",
       "    }\n",
       "\n",
       "    .dataframe thead th {\n",
       "        text-align: right;\n",
       "    }\n",
       "</style>\n",
       "<table border=\"1\" class=\"dataframe\">\n",
       "  <thead>\n",
       "    <tr style=\"text-align: right;\">\n",
       "      <th></th>\n",
       "      <th>comment_text</th>\n",
       "      <th>rude</th>\n",
       "      <th>offensive</th>\n",
       "      <th>figurative</th>\n",
       "      <th>dirty</th>\n",
       "      <th>sent_emb_all</th>\n",
       "      <th>sent_emb_0</th>\n",
       "      <th>sent_emb_1</th>\n",
       "      <th>sent_emb_2</th>\n",
       "      <th>sent_emb_3</th>\n",
       "      <th>...</th>\n",
       "      <th>sent_emb_390</th>\n",
       "      <th>sent_emb_391</th>\n",
       "      <th>sent_emb_392</th>\n",
       "      <th>sent_emb_393</th>\n",
       "      <th>sent_emb_394</th>\n",
       "      <th>sent_emb_395</th>\n",
       "      <th>sent_emb_396</th>\n",
       "      <th>sent_emb_397</th>\n",
       "      <th>sent_emb_398</th>\n",
       "      <th>sent_emb_399</th>\n",
       "    </tr>\n",
       "  </thead>\n",
       "  <tbody>\n",
       "    <tr>\n",
       "      <th>4657</th>\n",
       "      <td>ไม่เรียกการ์เด็นยาร์ทไปเลยละสัสทไอ้ควาย</td>\n",
       "      <td>1</td>\n",
       "      <td>0</td>\n",
       "      <td>1</td>\n",
       "      <td>0</td>\n",
       "      <td>[[0.008896432, 0.034834858, 0.091157936, -0.00...</td>\n",
       "      <td>0.0</td>\n",
       "      <td>0.0</td>\n",
       "      <td>0.0</td>\n",
       "      <td>0.0</td>\n",
       "      <td>...</td>\n",
       "      <td>0.0</td>\n",
       "      <td>0.0</td>\n",
       "      <td>0.0</td>\n",
       "      <td>0.0</td>\n",
       "      <td>0.0</td>\n",
       "      <td>0.0</td>\n",
       "      <td>0.0</td>\n",
       "      <td>0.0</td>\n",
       "      <td>0.0</td>\n",
       "      <td>0.0</td>\n",
       "    </tr>\n",
       "    <tr>\n",
       "      <th>3989</th>\n",
       "      <td>อยากลองโดนหมาเย็ดบ้างจัง</td>\n",
       "      <td>0</td>\n",
       "      <td>0</td>\n",
       "      <td>0</td>\n",
       "      <td>0</td>\n",
       "      <td>[[-0.002927174, -0.008595865, -0.024919897, 0....</td>\n",
       "      <td>0.0</td>\n",
       "      <td>0.0</td>\n",
       "      <td>0.0</td>\n",
       "      <td>0.0</td>\n",
       "      <td>...</td>\n",
       "      <td>0.0</td>\n",
       "      <td>0.0</td>\n",
       "      <td>0.0</td>\n",
       "      <td>0.0</td>\n",
       "      <td>0.0</td>\n",
       "      <td>0.0</td>\n",
       "      <td>0.0</td>\n",
       "      <td>0.0</td>\n",
       "      <td>0.0</td>\n",
       "      <td>0.0</td>\n",
       "    </tr>\n",
       "    <tr>\n",
       "      <th>2061</th>\n",
       "      <td>ช่วยเเปลไทยเป็นไทยที มันหมายความว่าไง</td>\n",
       "      <td>0</td>\n",
       "      <td>0</td>\n",
       "      <td>0</td>\n",
       "      <td>0</td>\n",
       "      <td>[[-0.016566131, -0.023509227, 0.011420618, 0.0...</td>\n",
       "      <td>0.0</td>\n",
       "      <td>0.0</td>\n",
       "      <td>0.0</td>\n",
       "      <td>0.0</td>\n",
       "      <td>...</td>\n",
       "      <td>0.0</td>\n",
       "      <td>0.0</td>\n",
       "      <td>0.0</td>\n",
       "      <td>0.0</td>\n",
       "      <td>0.0</td>\n",
       "      <td>0.0</td>\n",
       "      <td>0.0</td>\n",
       "      <td>0.0</td>\n",
       "      <td>0.0</td>\n",
       "      <td>0.0</td>\n",
       "    </tr>\n",
       "    <tr>\n",
       "      <th>14789</th>\n",
       "      <td>Nattii Memory</td>\n",
       "      <td>0</td>\n",
       "      <td>0</td>\n",
       "      <td>0</td>\n",
       "      <td>0</td>\n",
       "      <td>[[-0.015504351, -0.009953583, -0.008057029, 0....</td>\n",
       "      <td>0.0</td>\n",
       "      <td>0.0</td>\n",
       "      <td>0.0</td>\n",
       "      <td>0.0</td>\n",
       "      <td>...</td>\n",
       "      <td>0.0</td>\n",
       "      <td>0.0</td>\n",
       "      <td>0.0</td>\n",
       "      <td>0.0</td>\n",
       "      <td>0.0</td>\n",
       "      <td>0.0</td>\n",
       "      <td>0.0</td>\n",
       "      <td>0.0</td>\n",
       "      <td>0.0</td>\n",
       "      <td>0.0</td>\n",
       "    </tr>\n",
       "    <tr>\n",
       "      <th>30359</th>\n",
       "      <td>อีดอกหมั่นไส้แอดมิน</td>\n",
       "      <td>1</td>\n",
       "      <td>0</td>\n",
       "      <td>0</td>\n",
       "      <td>0</td>\n",
       "      <td>[[-0.0025417486, -0.024287757, 0.010665811, -0...</td>\n",
       "      <td>0.0</td>\n",
       "      <td>0.0</td>\n",
       "      <td>0.0</td>\n",
       "      <td>0.0</td>\n",
       "      <td>...</td>\n",
       "      <td>0.0</td>\n",
       "      <td>0.0</td>\n",
       "      <td>0.0</td>\n",
       "      <td>0.0</td>\n",
       "      <td>0.0</td>\n",
       "      <td>0.0</td>\n",
       "      <td>0.0</td>\n",
       "      <td>0.0</td>\n",
       "      <td>0.0</td>\n",
       "      <td>0.0</td>\n",
       "    </tr>\n",
       "    <tr>\n",
       "      <th>...</th>\n",
       "      <td>...</td>\n",
       "      <td>...</td>\n",
       "      <td>...</td>\n",
       "      <td>...</td>\n",
       "      <td>...</td>\n",
       "      <td>...</td>\n",
       "      <td>...</td>\n",
       "      <td>...</td>\n",
       "      <td>...</td>\n",
       "      <td>...</td>\n",
       "      <td>...</td>\n",
       "      <td>...</td>\n",
       "      <td>...</td>\n",
       "      <td>...</td>\n",
       "      <td>...</td>\n",
       "      <td>...</td>\n",
       "      <td>...</td>\n",
       "      <td>...</td>\n",
       "      <td>...</td>\n",
       "      <td>...</td>\n",
       "      <td>...</td>\n",
       "    </tr>\n",
       "    <tr>\n",
       "      <th>1549</th>\n",
       "      <td>โจรที่ถูกต้องตามกฎหมาย....</td>\n",
       "      <td>0</td>\n",
       "      <td>0</td>\n",
       "      <td>0</td>\n",
       "      <td>0</td>\n",
       "      <td>[[-0.004151395, -0.0005865164, 0.016884968, 0....</td>\n",
       "      <td>0.0</td>\n",
       "      <td>0.0</td>\n",
       "      <td>0.0</td>\n",
       "      <td>0.0</td>\n",
       "      <td>...</td>\n",
       "      <td>0.0</td>\n",
       "      <td>0.0</td>\n",
       "      <td>0.0</td>\n",
       "      <td>0.0</td>\n",
       "      <td>0.0</td>\n",
       "      <td>0.0</td>\n",
       "      <td>0.0</td>\n",
       "      <td>0.0</td>\n",
       "      <td>0.0</td>\n",
       "      <td>0.0</td>\n",
       "    </tr>\n",
       "    <tr>\n",
       "      <th>13648</th>\n",
       "      <td>เฮ้ออออ</td>\n",
       "      <td>0</td>\n",
       "      <td>0</td>\n",
       "      <td>0</td>\n",
       "      <td>0</td>\n",
       "      <td>[[-0.0035308173, -0.0007431547, 0.011149167, 0...</td>\n",
       "      <td>0.0</td>\n",
       "      <td>0.0</td>\n",
       "      <td>0.0</td>\n",
       "      <td>0.0</td>\n",
       "      <td>...</td>\n",
       "      <td>0.0</td>\n",
       "      <td>0.0</td>\n",
       "      <td>0.0</td>\n",
       "      <td>0.0</td>\n",
       "      <td>0.0</td>\n",
       "      <td>0.0</td>\n",
       "      <td>0.0</td>\n",
       "      <td>0.0</td>\n",
       "      <td>0.0</td>\n",
       "      <td>0.0</td>\n",
       "    </tr>\n",
       "    <tr>\n",
       "      <th>26632</th>\n",
       "      <td>จุ๊บจิ๊บของนัทNutthaphol Thanakijsoonthorn</td>\n",
       "      <td>0</td>\n",
       "      <td>0</td>\n",
       "      <td>0</td>\n",
       "      <td>0</td>\n",
       "      <td>[[-0.0073947655, -0.01660846, -0.01647233, -0....</td>\n",
       "      <td>0.0</td>\n",
       "      <td>0.0</td>\n",
       "      <td>0.0</td>\n",
       "      <td>0.0</td>\n",
       "      <td>...</td>\n",
       "      <td>0.0</td>\n",
       "      <td>0.0</td>\n",
       "      <td>0.0</td>\n",
       "      <td>0.0</td>\n",
       "      <td>0.0</td>\n",
       "      <td>0.0</td>\n",
       "      <td>0.0</td>\n",
       "      <td>0.0</td>\n",
       "      <td>0.0</td>\n",
       "      <td>0.0</td>\n",
       "    </tr>\n",
       "    <tr>\n",
       "      <th>15313</th>\n",
       "      <td>อีกะเทย</td>\n",
       "      <td>1</td>\n",
       "      <td>1</td>\n",
       "      <td>0</td>\n",
       "      <td>0</td>\n",
       "      <td>[[0.030308114, 0.12839684, 0.29850256, 0.03712...</td>\n",
       "      <td>0.0</td>\n",
       "      <td>0.0</td>\n",
       "      <td>0.0</td>\n",
       "      <td>0.0</td>\n",
       "      <td>...</td>\n",
       "      <td>0.0</td>\n",
       "      <td>0.0</td>\n",
       "      <td>0.0</td>\n",
       "      <td>0.0</td>\n",
       "      <td>0.0</td>\n",
       "      <td>0.0</td>\n",
       "      <td>0.0</td>\n",
       "      <td>0.0</td>\n",
       "      <td>0.0</td>\n",
       "      <td>0.0</td>\n",
       "    </tr>\n",
       "    <tr>\n",
       "      <th>6105</th>\n",
       "      <td>ข</td>\n",
       "      <td>0</td>\n",
       "      <td>0</td>\n",
       "      <td>0</td>\n",
       "      <td>0</td>\n",
       "      <td>[[-0.0077711786, -0.0075155394, 7.5274125e-05,...</td>\n",
       "      <td>0.0</td>\n",
       "      <td>0.0</td>\n",
       "      <td>0.0</td>\n",
       "      <td>0.0</td>\n",
       "      <td>...</td>\n",
       "      <td>0.0</td>\n",
       "      <td>0.0</td>\n",
       "      <td>0.0</td>\n",
       "      <td>0.0</td>\n",
       "      <td>0.0</td>\n",
       "      <td>0.0</td>\n",
       "      <td>0.0</td>\n",
       "      <td>0.0</td>\n",
       "      <td>0.0</td>\n",
       "      <td>0.0</td>\n",
       "    </tr>\n",
       "  </tbody>\n",
       "</table>\n",
       "<p>1000 rows × 406 columns</p>\n",
       "</div>"
      ],
      "text/plain": [
       "                                     comment_text  rude  offensive  \\\n",
       "4657      ไม่เรียกการ์เด็นยาร์ทไปเลยละสัสทไอ้ควาย     1          0   \n",
       "3989                     อยากลองโดนหมาเย็ดบ้างจัง     0          0   \n",
       "2061        ช่วยเเปลไทยเป็นไทยที มันหมายความว่าไง     0          0   \n",
       "14789                               Nattii Memory     0          0   \n",
       "30359                         อีดอกหมั่นไส้แอดมิน     1          0   \n",
       "...                                           ...   ...        ...   \n",
       "1549                   โจรที่ถูกต้องตามกฎหมาย....     0          0   \n",
       "13648                                     เฮ้ออออ     0          0   \n",
       "26632  จุ๊บจิ๊บของนัทNutthaphol Thanakijsoonthorn     0          0   \n",
       "15313                                     อีกะเทย     1          1   \n",
       "6105                                            ข     0          0   \n",
       "\n",
       "       figurative  dirty                                       sent_emb_all  \\\n",
       "4657            1      0  [[0.008896432, 0.034834858, 0.091157936, -0.00...   \n",
       "3989            0      0  [[-0.002927174, -0.008595865, -0.024919897, 0....   \n",
       "2061            0      0  [[-0.016566131, -0.023509227, 0.011420618, 0.0...   \n",
       "14789           0      0  [[-0.015504351, -0.009953583, -0.008057029, 0....   \n",
       "30359           0      0  [[-0.0025417486, -0.024287757, 0.010665811, -0...   \n",
       "...           ...    ...                                                ...   \n",
       "1549            0      0  [[-0.004151395, -0.0005865164, 0.016884968, 0....   \n",
       "13648           0      0  [[-0.0035308173, -0.0007431547, 0.011149167, 0...   \n",
       "26632           0      0  [[-0.0073947655, -0.01660846, -0.01647233, -0....   \n",
       "15313           0      0  [[0.030308114, 0.12839684, 0.29850256, 0.03712...   \n",
       "6105            0      0  [[-0.0077711786, -0.0075155394, 7.5274125e-05,...   \n",
       "\n",
       "       sent_emb_0  sent_emb_1  sent_emb_2  sent_emb_3  ...  sent_emb_390  \\\n",
       "4657          0.0         0.0         0.0         0.0  ...           0.0   \n",
       "3989          0.0         0.0         0.0         0.0  ...           0.0   \n",
       "2061          0.0         0.0         0.0         0.0  ...           0.0   \n",
       "14789         0.0         0.0         0.0         0.0  ...           0.0   \n",
       "30359         0.0         0.0         0.0         0.0  ...           0.0   \n",
       "...           ...         ...         ...         ...  ...           ...   \n",
       "1549          0.0         0.0         0.0         0.0  ...           0.0   \n",
       "13648         0.0         0.0         0.0         0.0  ...           0.0   \n",
       "26632         0.0         0.0         0.0         0.0  ...           0.0   \n",
       "15313         0.0         0.0         0.0         0.0  ...           0.0   \n",
       "6105          0.0         0.0         0.0         0.0  ...           0.0   \n",
       "\n",
       "       sent_emb_391  sent_emb_392  sent_emb_393  sent_emb_394  sent_emb_395  \\\n",
       "4657            0.0           0.0           0.0           0.0           0.0   \n",
       "3989            0.0           0.0           0.0           0.0           0.0   \n",
       "2061            0.0           0.0           0.0           0.0           0.0   \n",
       "14789           0.0           0.0           0.0           0.0           0.0   \n",
       "30359           0.0           0.0           0.0           0.0           0.0   \n",
       "...             ...           ...           ...           ...           ...   \n",
       "1549            0.0           0.0           0.0           0.0           0.0   \n",
       "13648           0.0           0.0           0.0           0.0           0.0   \n",
       "26632           0.0           0.0           0.0           0.0           0.0   \n",
       "15313           0.0           0.0           0.0           0.0           0.0   \n",
       "6105            0.0           0.0           0.0           0.0           0.0   \n",
       "\n",
       "       sent_emb_396  sent_emb_397  sent_emb_398  sent_emb_399  \n",
       "4657            0.0           0.0           0.0           0.0  \n",
       "3989            0.0           0.0           0.0           0.0  \n",
       "2061            0.0           0.0           0.0           0.0  \n",
       "14789           0.0           0.0           0.0           0.0  \n",
       "30359           0.0           0.0           0.0           0.0  \n",
       "...             ...           ...           ...           ...  \n",
       "1549            0.0           0.0           0.0           0.0  \n",
       "13648           0.0           0.0           0.0           0.0  \n",
       "26632           0.0           0.0           0.0           0.0  \n",
       "15313           0.0           0.0           0.0           0.0  \n",
       "6105            0.0           0.0           0.0           0.0  \n",
       "\n",
       "[1000 rows x 406 columns]"
      ]
     },
     "execution_count": 483,
     "metadata": {},
     "output_type": "execute_result"
    }
   ],
   "source": [
    "df_2"
   ]
  },
  {
   "cell_type": "code",
   "execution_count": 461,
   "metadata": {
    "scrolled": true
   },
   "outputs": [
    {
     "data": {
      "text/plain": [
       "112.772541"
      ]
     },
     "execution_count": 461,
     "metadata": {},
     "output_type": "execute_result"
    }
   ],
   "source": [
    "t / 1e9"
   ]
  },
  {
   "cell_type": "code",
   "execution_count": 438,
   "metadata": {},
   "outputs": [
    {
     "data": {
      "text/plain": [
       "array([[ 0.008896,  0.034835,  0.091158, -0.001808, ..., -0.001937,  0.087386,  0.031454,  0.009348]], dtype=float32)"
      ]
     },
     "execution_count": 438,
     "metadata": {},
     "output_type": "execute_result"
    }
   ],
   "source": [
    "df_2.at[df_2.index[0], 'sent_emb_all']"
   ]
  },
  {
   "cell_type": "code",
   "execution_count": 449,
   "metadata": {},
   "outputs": [
    {
     "data": {
      "text/plain": [
       "5"
      ]
     },
     "execution_count": 449,
     "metadata": {},
     "output_type": "execute_result"
    }
   ],
   "source": [
    "df_2.columns.get_loc('sent_emb_all')"
   ]
  },
  {
   "cell_type": "code",
   "execution_count": 451,
   "metadata": {},
   "outputs": [
    {
     "data": {
      "text/plain": [
       "array([[ 0.008896,  0.034835,  0.091158, -0.001808, ..., -0.001937,  0.087386,  0.031454,  0.009348]], dtype=float32)"
      ]
     },
     "execution_count": 451,
     "metadata": {},
     "output_type": "execute_result"
    }
   ],
   "source": [
    "df_2.iat[0, 5]"
   ]
  },
  {
   "cell_type": "code",
   "execution_count": 452,
   "metadata": {},
   "outputs": [],
   "source": [
    "for i in range(len(df_2)):\n",
    "    df_2.iloc[i,6:] = df_2.iat[i, 5]"
   ]
  },
  {
   "cell_type": "code",
   "execution_count": 453,
   "metadata": {},
   "outputs": [
    {
     "data": {
      "text/html": [
       "<div>\n",
       "<style scoped>\n",
       "    .dataframe tbody tr th:only-of-type {\n",
       "        vertical-align: middle;\n",
       "    }\n",
       "\n",
       "    .dataframe tbody tr th {\n",
       "        vertical-align: top;\n",
       "    }\n",
       "\n",
       "    .dataframe thead th {\n",
       "        text-align: right;\n",
       "    }\n",
       "</style>\n",
       "<table border=\"1\" class=\"dataframe\">\n",
       "  <thead>\n",
       "    <tr style=\"text-align: right;\">\n",
       "      <th></th>\n",
       "      <th>comment_text</th>\n",
       "      <th>rude</th>\n",
       "      <th>offensive</th>\n",
       "      <th>figurative</th>\n",
       "      <th>dirty</th>\n",
       "      <th>sent_emb_all</th>\n",
       "      <th>sent_emb_0</th>\n",
       "      <th>sent_emb_1</th>\n",
       "      <th>sent_emb_2</th>\n",
       "      <th>sent_emb_3</th>\n",
       "      <th>...</th>\n",
       "      <th>sent_emb_390</th>\n",
       "      <th>sent_emb_391</th>\n",
       "      <th>sent_emb_392</th>\n",
       "      <th>sent_emb_393</th>\n",
       "      <th>sent_emb_394</th>\n",
       "      <th>sent_emb_395</th>\n",
       "      <th>sent_emb_396</th>\n",
       "      <th>sent_emb_397</th>\n",
       "      <th>sent_emb_398</th>\n",
       "      <th>sent_emb_399</th>\n",
       "    </tr>\n",
       "  </thead>\n",
       "  <tbody>\n",
       "    <tr>\n",
       "      <th>4657</th>\n",
       "      <td>ไม่เรียกการ์เด็นยาร์ทไปเลยละสัสทไอ้ควาย</td>\n",
       "      <td>1</td>\n",
       "      <td>0</td>\n",
       "      <td>1</td>\n",
       "      <td>0</td>\n",
       "      <td>[[0.008896432, 0.034834858, 0.091157936, -0.00...</td>\n",
       "      <td>[0.008896431885659695]</td>\n",
       "      <td>[0.034834858030080795]</td>\n",
       "      <td>[0.0911579355597496]</td>\n",
       "      <td>[-0.0018082483438774943]</td>\n",
       "      <td>...</td>\n",
       "      <td>[-0.023482704535126686]</td>\n",
       "      <td>[0.00305978674441576]</td>\n",
       "      <td>[0.0117125753313303]</td>\n",
       "      <td>[-0.012352812103927135]</td>\n",
       "      <td>[-0.01631900854408741]</td>\n",
       "      <td>[0.03303085267543793]</td>\n",
       "      <td>[-0.0019370714435353875]</td>\n",
       "      <td>[0.08738567680120468]</td>\n",
       "      <td>[0.03145422413945198]</td>\n",
       "      <td>[0.00934758223593235]</td>\n",
       "    </tr>\n",
       "    <tr>\n",
       "      <th>3989</th>\n",
       "      <td>อยากลองโดนหมาเย็ดบ้างจัง</td>\n",
       "      <td>0</td>\n",
       "      <td>0</td>\n",
       "      <td>0</td>\n",
       "      <td>0</td>\n",
       "      <td>[[-0.002927174, -0.008595865, -0.024919897, 0....</td>\n",
       "      <td>[-0.0029271740932017565]</td>\n",
       "      <td>[-0.008595865219831467]</td>\n",
       "      <td>[-0.024919897317886353]</td>\n",
       "      <td>[0.014813334681093693]</td>\n",
       "      <td>...</td>\n",
       "      <td>[-0.009463699534535408]</td>\n",
       "      <td>[0.054029546678066254]</td>\n",
       "      <td>[-0.0011904219863936305]</td>\n",
       "      <td>[0.006092878058552742]</td>\n",
       "      <td>[0.00016551690350752324]</td>\n",
       "      <td>[-0.016308855265378952]</td>\n",
       "      <td>[-0.0058881076984107494]</td>\n",
       "      <td>[0.02239229716360569]</td>\n",
       "      <td>[0.008179351687431335]</td>\n",
       "      <td>[0.0074812620878219604]</td>\n",
       "    </tr>\n",
       "    <tr>\n",
       "      <th>2061</th>\n",
       "      <td>ช่วยเเปลไทยเป็นไทยที มันหมายความว่าไง</td>\n",
       "      <td>0</td>\n",
       "      <td>0</td>\n",
       "      <td>0</td>\n",
       "      <td>0</td>\n",
       "      <td>[[-0.016566131, -0.023509227, 0.011420618, 0.0...</td>\n",
       "      <td>[-0.01656613126397133]</td>\n",
       "      <td>[-0.023509226739406586]</td>\n",
       "      <td>[0.011420617811381817]</td>\n",
       "      <td>[0.02930143103003502]</td>\n",
       "      <td>...</td>\n",
       "      <td>[0.02877231501042843]</td>\n",
       "      <td>[0.06634528189897537]</td>\n",
       "      <td>[-0.016507582738995552]</td>\n",
       "      <td>[0.00440271245315671]</td>\n",
       "      <td>[-0.007535697892308235]</td>\n",
       "      <td>[-0.039450112730264664]</td>\n",
       "      <td>[-0.021828308701515198]</td>\n",
       "      <td>[0.0036722985096275806]</td>\n",
       "      <td>[0.021948155015707016]</td>\n",
       "      <td>[0.004249427001923323]</td>\n",
       "    </tr>\n",
       "    <tr>\n",
       "      <th>14789</th>\n",
       "      <td>Nattii Memory</td>\n",
       "      <td>0</td>\n",
       "      <td>0</td>\n",
       "      <td>0</td>\n",
       "      <td>0</td>\n",
       "      <td>[[-0.015504351, -0.009953583, -0.008057029, 0....</td>\n",
       "      <td>[-0.015504350885748863]</td>\n",
       "      <td>[-0.009953582659363747]</td>\n",
       "      <td>[-0.008057028986513615]</td>\n",
       "      <td>[0.00528378551825881]</td>\n",
       "      <td>...</td>\n",
       "      <td>[0.022625554352998734]</td>\n",
       "      <td>[-0.013803248293697834]</td>\n",
       "      <td>[0.002957971068099141]</td>\n",
       "      <td>[-0.01193039771169424]</td>\n",
       "      <td>[-0.011033503338694572]</td>\n",
       "      <td>[0.0008806283003650606]</td>\n",
       "      <td>[0.0031080686021596193]</td>\n",
       "      <td>[-0.009485781192779541]</td>\n",
       "      <td>[0.009031379595398903]</td>\n",
       "      <td>[0.010626038536429405]</td>\n",
       "    </tr>\n",
       "    <tr>\n",
       "      <th>30359</th>\n",
       "      <td>อีดอกหมั่นไส้แอดมิน</td>\n",
       "      <td>1</td>\n",
       "      <td>0</td>\n",
       "      <td>0</td>\n",
       "      <td>0</td>\n",
       "      <td>[[-0.0025417486, -0.024287757, 0.010665811, -0...</td>\n",
       "      <td>[-0.0025417485740035772]</td>\n",
       "      <td>[-0.02428775653243065]</td>\n",
       "      <td>[0.01066581066697836]</td>\n",
       "      <td>[-0.041654329746961594]</td>\n",
       "      <td>...</td>\n",
       "      <td>[0.021116936579346657]</td>\n",
       "      <td>[0.013166447170078754]</td>\n",
       "      <td>[0.007770536933094263]</td>\n",
       "      <td>[-0.014120913110673428]</td>\n",
       "      <td>[0.034590739756822586]</td>\n",
       "      <td>[0.0010206043953076005]</td>\n",
       "      <td>[-0.022170258685946465]</td>\n",
       "      <td>[0.025836827233433723]</td>\n",
       "      <td>[0.036037661135196686]</td>\n",
       "      <td>[0.007216327358037233]</td>\n",
       "    </tr>\n",
       "    <tr>\n",
       "      <th>...</th>\n",
       "      <td>...</td>\n",
       "      <td>...</td>\n",
       "      <td>...</td>\n",
       "      <td>...</td>\n",
       "      <td>...</td>\n",
       "      <td>...</td>\n",
       "      <td>...</td>\n",
       "      <td>...</td>\n",
       "      <td>...</td>\n",
       "      <td>...</td>\n",
       "      <td>...</td>\n",
       "      <td>...</td>\n",
       "      <td>...</td>\n",
       "      <td>...</td>\n",
       "      <td>...</td>\n",
       "      <td>...</td>\n",
       "      <td>...</td>\n",
       "      <td>...</td>\n",
       "      <td>...</td>\n",
       "      <td>...</td>\n",
       "      <td>...</td>\n",
       "    </tr>\n",
       "    <tr>\n",
       "      <th>1549</th>\n",
       "      <td>โจรที่ถูกต้องตามกฎหมาย....</td>\n",
       "      <td>0</td>\n",
       "      <td>0</td>\n",
       "      <td>0</td>\n",
       "      <td>0</td>\n",
       "      <td>[[-0.004151395, -0.0005865164, 0.016884968, 0....</td>\n",
       "      <td>[-0.004151395056396723]</td>\n",
       "      <td>[-0.0005865163984708488]</td>\n",
       "      <td>[0.01688496768474579]</td>\n",
       "      <td>[0.018948189914226532]</td>\n",
       "      <td>...</td>\n",
       "      <td>[0.046218011528253555]</td>\n",
       "      <td>[-0.010283076204359531]</td>\n",
       "      <td>[-0.018736736848950386]</td>\n",
       "      <td>[-0.003777463687583804]</td>\n",
       "      <td>[-0.017242029309272766]</td>\n",
       "      <td>[-0.024415727704763412]</td>\n",
       "      <td>[-0.024063866585493088]</td>\n",
       "      <td>[0.02198072150349617]</td>\n",
       "      <td>[-0.008406125009059906]</td>\n",
       "      <td>[0.020191393792629242]</td>\n",
       "    </tr>\n",
       "    <tr>\n",
       "      <th>13648</th>\n",
       "      <td>เฮ้ออออ</td>\n",
       "      <td>0</td>\n",
       "      <td>0</td>\n",
       "      <td>0</td>\n",
       "      <td>0</td>\n",
       "      <td>[[-0.0035308173, -0.0007431547, 0.011149167, 0...</td>\n",
       "      <td>[-0.003530817339196801]</td>\n",
       "      <td>[-0.0007431547273881733]</td>\n",
       "      <td>[0.011149167083203793]</td>\n",
       "      <td>[0.018602274358272552]</td>\n",
       "      <td>...</td>\n",
       "      <td>[0.014050746336579323]</td>\n",
       "      <td>[-0.0040964060463011265]</td>\n",
       "      <td>[-0.0008547122706659138]</td>\n",
       "      <td>[-0.009592968970537186]</td>\n",
       "      <td>[-0.0019040307961404324]</td>\n",
       "      <td>[-0.0036317293997853994]</td>\n",
       "      <td>[0.001257276046089828]</td>\n",
       "      <td>[-0.0029015913605690002]</td>\n",
       "      <td>[-0.03801877424120903]</td>\n",
       "      <td>[0.010529018938541412]</td>\n",
       "    </tr>\n",
       "    <tr>\n",
       "      <th>26632</th>\n",
       "      <td>จุ๊บจิ๊บของนัทNutthaphol Thanakijsoonthorn</td>\n",
       "      <td>0</td>\n",
       "      <td>0</td>\n",
       "      <td>0</td>\n",
       "      <td>0</td>\n",
       "      <td>[[-0.0073947655, -0.01660846, -0.01647233, -0....</td>\n",
       "      <td>[-0.007394765503704548]</td>\n",
       "      <td>[-0.016608459874987602]</td>\n",
       "      <td>[-0.016472330316901207]</td>\n",
       "      <td>[-0.0014124728040769696]</td>\n",
       "      <td>...</td>\n",
       "      <td>[0.019550777971744537]</td>\n",
       "      <td>[-0.013215483166277409]</td>\n",
       "      <td>[0.011809746734797955]</td>\n",
       "      <td>[-0.010079422034323215]</td>\n",
       "      <td>[-0.014069108292460442]</td>\n",
       "      <td>[0.005176058504730463]</td>\n",
       "      <td>[-0.004762914497405291]</td>\n",
       "      <td>[-0.0015457301633432508]</td>\n",
       "      <td>[-0.0017501935362815857]</td>\n",
       "      <td>[0.011939071118831635]</td>\n",
       "    </tr>\n",
       "    <tr>\n",
       "      <th>15313</th>\n",
       "      <td>อีกะเทย</td>\n",
       "      <td>1</td>\n",
       "      <td>1</td>\n",
       "      <td>0</td>\n",
       "      <td>0</td>\n",
       "      <td>[[0.030308114, 0.12839684, 0.29850256, 0.03712...</td>\n",
       "      <td>[0.030308114364743233]</td>\n",
       "      <td>[0.12839683890342712]</td>\n",
       "      <td>[0.2985025644302368]</td>\n",
       "      <td>[0.03712006285786629]</td>\n",
       "      <td>...</td>\n",
       "      <td>[-0.01381818950176239]</td>\n",
       "      <td>[0.0011926997685804963]</td>\n",
       "      <td>[0.023192621767520905]</td>\n",
       "      <td>[0.0008601141162216663]</td>\n",
       "      <td>[-0.04232392832636833]</td>\n",
       "      <td>[0.0984814390540123]</td>\n",
       "      <td>[0.01062057726085186]</td>\n",
       "      <td>[0.13220319151878357]</td>\n",
       "      <td>[-0.03689086064696312]</td>\n",
       "      <td>[-0.010427355766296387]</td>\n",
       "    </tr>\n",
       "    <tr>\n",
       "      <th>6105</th>\n",
       "      <td>ข</td>\n",
       "      <td>0</td>\n",
       "      <td>0</td>\n",
       "      <td>0</td>\n",
       "      <td>0</td>\n",
       "      <td>[[-0.0077711786, -0.0075155394, 7.5274125e-05,...</td>\n",
       "      <td>[-0.007771178614348173]</td>\n",
       "      <td>[-0.007515539415180683]</td>\n",
       "      <td>[7.527412526542321e-05]</td>\n",
       "      <td>[0.0002589303476270288]</td>\n",
       "      <td>...</td>\n",
       "      <td>[0.012722212821245193]</td>\n",
       "      <td>[-0.00579107366502285]</td>\n",
       "      <td>[0.04034914821386337]</td>\n",
       "      <td>[0.008408894762396812]</td>\n",
       "      <td>[-0.015927575528621674]</td>\n",
       "      <td>[0.012998879887163639]</td>\n",
       "      <td>[0.02922329306602478]</td>\n",
       "      <td>[-0.02456236258149147]</td>\n",
       "      <td>[-0.05282893031835556]</td>\n",
       "      <td>[0.008272426202893257]</td>\n",
       "    </tr>\n",
       "  </tbody>\n",
       "</table>\n",
       "<p>1000 rows × 406 columns</p>\n",
       "</div>"
      ],
      "text/plain": [
       "                                     comment_text  rude  offensive  \\\n",
       "4657      ไม่เรียกการ์เด็นยาร์ทไปเลยละสัสทไอ้ควาย     1          0   \n",
       "3989                     อยากลองโดนหมาเย็ดบ้างจัง     0          0   \n",
       "2061        ช่วยเเปลไทยเป็นไทยที มันหมายความว่าไง     0          0   \n",
       "14789                               Nattii Memory     0          0   \n",
       "30359                         อีดอกหมั่นไส้แอดมิน     1          0   \n",
       "...                                           ...   ...        ...   \n",
       "1549                   โจรที่ถูกต้องตามกฎหมาย....     0          0   \n",
       "13648                                     เฮ้ออออ     0          0   \n",
       "26632  จุ๊บจิ๊บของนัทNutthaphol Thanakijsoonthorn     0          0   \n",
       "15313                                     อีกะเทย     1          1   \n",
       "6105                                            ข     0          0   \n",
       "\n",
       "       figurative  dirty                                       sent_emb_all  \\\n",
       "4657            1      0  [[0.008896432, 0.034834858, 0.091157936, -0.00...   \n",
       "3989            0      0  [[-0.002927174, -0.008595865, -0.024919897, 0....   \n",
       "2061            0      0  [[-0.016566131, -0.023509227, 0.011420618, 0.0...   \n",
       "14789           0      0  [[-0.015504351, -0.009953583, -0.008057029, 0....   \n",
       "30359           0      0  [[-0.0025417486, -0.024287757, 0.010665811, -0...   \n",
       "...           ...    ...                                                ...   \n",
       "1549            0      0  [[-0.004151395, -0.0005865164, 0.016884968, 0....   \n",
       "13648           0      0  [[-0.0035308173, -0.0007431547, 0.011149167, 0...   \n",
       "26632           0      0  [[-0.0073947655, -0.01660846, -0.01647233, -0....   \n",
       "15313           0      0  [[0.030308114, 0.12839684, 0.29850256, 0.03712...   \n",
       "6105            0      0  [[-0.0077711786, -0.0075155394, 7.5274125e-05,...   \n",
       "\n",
       "                     sent_emb_0                sent_emb_1  \\\n",
       "4657     [0.008896431885659695]    [0.034834858030080795]   \n",
       "3989   [-0.0029271740932017565]   [-0.008595865219831467]   \n",
       "2061     [-0.01656613126397133]   [-0.023509226739406586]   \n",
       "14789   [-0.015504350885748863]   [-0.009953582659363747]   \n",
       "30359  [-0.0025417485740035772]    [-0.02428775653243065]   \n",
       "...                         ...                       ...   \n",
       "1549    [-0.004151395056396723]  [-0.0005865163984708488]   \n",
       "13648   [-0.003530817339196801]  [-0.0007431547273881733]   \n",
       "26632   [-0.007394765503704548]   [-0.016608459874987602]   \n",
       "15313    [0.030308114364743233]     [0.12839683890342712]   \n",
       "6105    [-0.007771178614348173]   [-0.007515539415180683]   \n",
       "\n",
       "                    sent_emb_2                sent_emb_3  ...  \\\n",
       "4657      [0.0911579355597496]  [-0.0018082483438774943]  ...   \n",
       "3989   [-0.024919897317886353]    [0.014813334681093693]  ...   \n",
       "2061    [0.011420617811381817]     [0.02930143103003502]  ...   \n",
       "14789  [-0.008057028986513615]     [0.00528378551825881]  ...   \n",
       "30359    [0.01066581066697836]   [-0.041654329746961594]  ...   \n",
       "...                        ...                       ...  ...   \n",
       "1549     [0.01688496768474579]    [0.018948189914226532]  ...   \n",
       "13648   [0.011149167083203793]    [0.018602274358272552]  ...   \n",
       "26632  [-0.016472330316901207]  [-0.0014124728040769696]  ...   \n",
       "15313     [0.2985025644302368]     [0.03712006285786629]  ...   \n",
       "6105   [7.527412526542321e-05]   [0.0002589303476270288]  ...   \n",
       "\n",
       "                  sent_emb_390              sent_emb_391  \\\n",
       "4657   [-0.023482704535126686]     [0.00305978674441576]   \n",
       "3989   [-0.009463699534535408]    [0.054029546678066254]   \n",
       "2061     [0.02877231501042843]     [0.06634528189897537]   \n",
       "14789   [0.022625554352998734]   [-0.013803248293697834]   \n",
       "30359   [0.021116936579346657]    [0.013166447170078754]   \n",
       "...                        ...                       ...   \n",
       "1549    [0.046218011528253555]   [-0.010283076204359531]   \n",
       "13648   [0.014050746336579323]  [-0.0040964060463011265]   \n",
       "26632   [0.019550777971744537]   [-0.013215483166277409]   \n",
       "15313   [-0.01381818950176239]   [0.0011926997685804963]   \n",
       "6105    [0.012722212821245193]    [-0.00579107366502285]   \n",
       "\n",
       "                   sent_emb_392             sent_emb_393  \\\n",
       "4657       [0.0117125753313303]  [-0.012352812103927135]   \n",
       "3989   [-0.0011904219863936305]   [0.006092878058552742]   \n",
       "2061    [-0.016507582738995552]    [0.00440271245315671]   \n",
       "14789    [0.002957971068099141]   [-0.01193039771169424]   \n",
       "30359    [0.007770536933094263]  [-0.014120913110673428]   \n",
       "...                         ...                      ...   \n",
       "1549    [-0.018736736848950386]  [-0.003777463687583804]   \n",
       "13648  [-0.0008547122706659138]  [-0.009592968970537186]   \n",
       "26632    [0.011809746734797955]  [-0.010079422034323215]   \n",
       "15313    [0.023192621767520905]  [0.0008601141162216663]   \n",
       "6105      [0.04034914821386337]   [0.008408894762396812]   \n",
       "\n",
       "                   sent_emb_394              sent_emb_395  \\\n",
       "4657     [-0.01631900854408741]     [0.03303085267543793]   \n",
       "3989   [0.00016551690350752324]   [-0.016308855265378952]   \n",
       "2061    [-0.007535697892308235]   [-0.039450112730264664]   \n",
       "14789   [-0.011033503338694572]   [0.0008806283003650606]   \n",
       "30359    [0.034590739756822586]   [0.0010206043953076005]   \n",
       "...                         ...                       ...   \n",
       "1549    [-0.017242029309272766]   [-0.024415727704763412]   \n",
       "13648  [-0.0019040307961404324]  [-0.0036317293997853994]   \n",
       "26632   [-0.014069108292460442]    [0.005176058504730463]   \n",
       "15313    [-0.04232392832636833]      [0.0984814390540123]   \n",
       "6105    [-0.015927575528621674]    [0.012998879887163639]   \n",
       "\n",
       "                   sent_emb_396              sent_emb_397  \\\n",
       "4657   [-0.0019370714435353875]     [0.08738567680120468]   \n",
       "3989   [-0.0058881076984107494]     [0.02239229716360569]   \n",
       "2061    [-0.021828308701515198]   [0.0036722985096275806]   \n",
       "14789   [0.0031080686021596193]   [-0.009485781192779541]   \n",
       "30359   [-0.022170258685946465]    [0.025836827233433723]   \n",
       "...                         ...                       ...   \n",
       "1549    [-0.024063866585493088]     [0.02198072150349617]   \n",
       "13648    [0.001257276046089828]  [-0.0029015913605690002]   \n",
       "26632   [-0.004762914497405291]  [-0.0015457301633432508]   \n",
       "15313     [0.01062057726085186]     [0.13220319151878357]   \n",
       "6105      [0.02922329306602478]    [-0.02456236258149147]   \n",
       "\n",
       "                   sent_emb_398             sent_emb_399  \n",
       "4657      [0.03145422413945198]    [0.00934758223593235]  \n",
       "3989     [0.008179351687431335]  [0.0074812620878219604]  \n",
       "2061     [0.021948155015707016]   [0.004249427001923323]  \n",
       "14789    [0.009031379595398903]   [0.010626038536429405]  \n",
       "30359    [0.036037661135196686]   [0.007216327358037233]  \n",
       "...                         ...                      ...  \n",
       "1549    [-0.008406125009059906]   [0.020191393792629242]  \n",
       "13648    [-0.03801877424120903]   [0.010529018938541412]  \n",
       "26632  [-0.0017501935362815857]   [0.011939071118831635]  \n",
       "15313    [-0.03689086064696312]  [-0.010427355766296387]  \n",
       "6105     [-0.05282893031835556]   [0.008272426202893257]  \n",
       "\n",
       "[1000 rows x 406 columns]"
      ]
     },
     "execution_count": 453,
     "metadata": {},
     "output_type": "execute_result"
    }
   ],
   "source": [
    "df_2"
   ]
  },
  {
   "cell_type": "code",
   "execution_count": 412,
   "metadata": {},
   "outputs": [
    {
     "ename": "ValueError",
     "evalue": "Must have equal len keys and value when setting with an iterable",
     "output_type": "error",
     "traceback": [
      "\u001b[0;31m---------------------------------------------------------------------------\u001b[0m",
      "\u001b[0;31mValueError\u001b[0m                                Traceback (most recent call last)",
      "\u001b[0;32m<ipython-input-412-bcbfc7249a00>\u001b[0m in \u001b[0;36m<module>\u001b[0;34m\u001b[0m\n\u001b[0;32m----> 1\u001b[0;31m \u001b[0mdf_1\u001b[0m\u001b[0;34m.\u001b[0m\u001b[0miloc\u001b[0m\u001b[0;34m[\u001b[0m\u001b[0;34m:\u001b[0m\u001b[0;34m,\u001b[0m \u001b[0;36m6\u001b[0m\u001b[0;34m:\u001b[0m\u001b[0;34m]\u001b[0m \u001b[0;34m=\u001b[0m \u001b[0mdf_1\u001b[0m\u001b[0;34m.\u001b[0m\u001b[0mcomment_text\u001b[0m\u001b[0;34m.\u001b[0m\u001b[0mapply\u001b[0m\u001b[0;34m(\u001b[0m\u001b[0;32mlambda\u001b[0m \u001b[0ms\u001b[0m\u001b[0;34m:\u001b[0m \u001b[0membedding\u001b[0m\u001b[0;34m(\u001b[0m\u001b[0ms\u001b[0m\u001b[0;34m,\u001b[0m \u001b[0;34m'rude'\u001b[0m\u001b[0;34m)\u001b[0m\u001b[0;34m)\u001b[0m\u001b[0;34m\u001b[0m\u001b[0;34m\u001b[0m\u001b[0m\n\u001b[0m",
      "\u001b[0;32m~/miniconda3/envs/posoma/lib/python3.7/site-packages/pandas/core/indexing.py\u001b[0m in \u001b[0;36m__setitem__\u001b[0;34m(self, key, value)\u001b[0m\n\u001b[1;32m    203\u001b[0m             \u001b[0mkey\u001b[0m \u001b[0;34m=\u001b[0m \u001b[0mcom\u001b[0m\u001b[0;34m.\u001b[0m\u001b[0mapply_if_callable\u001b[0m\u001b[0;34m(\u001b[0m\u001b[0mkey\u001b[0m\u001b[0;34m,\u001b[0m \u001b[0mself\u001b[0m\u001b[0;34m.\u001b[0m\u001b[0mobj\u001b[0m\u001b[0;34m)\u001b[0m\u001b[0;34m\u001b[0m\u001b[0;34m\u001b[0m\u001b[0m\n\u001b[1;32m    204\u001b[0m         \u001b[0mindexer\u001b[0m \u001b[0;34m=\u001b[0m \u001b[0mself\u001b[0m\u001b[0;34m.\u001b[0m\u001b[0m_get_setitem_indexer\u001b[0m\u001b[0;34m(\u001b[0m\u001b[0mkey\u001b[0m\u001b[0;34m)\u001b[0m\u001b[0;34m\u001b[0m\u001b[0;34m\u001b[0m\u001b[0m\n\u001b[0;32m--> 205\u001b[0;31m         \u001b[0mself\u001b[0m\u001b[0;34m.\u001b[0m\u001b[0m_setitem_with_indexer\u001b[0m\u001b[0;34m(\u001b[0m\u001b[0mindexer\u001b[0m\u001b[0;34m,\u001b[0m \u001b[0mvalue\u001b[0m\u001b[0;34m)\u001b[0m\u001b[0;34m\u001b[0m\u001b[0;34m\u001b[0m\u001b[0m\n\u001b[0m\u001b[1;32m    206\u001b[0m \u001b[0;34m\u001b[0m\u001b[0m\n\u001b[1;32m    207\u001b[0m     \u001b[0;32mdef\u001b[0m \u001b[0m_validate_key\u001b[0m\u001b[0;34m(\u001b[0m\u001b[0mself\u001b[0m\u001b[0;34m,\u001b[0m \u001b[0mkey\u001b[0m\u001b[0;34m,\u001b[0m \u001b[0maxis\u001b[0m\u001b[0;34m:\u001b[0m \u001b[0mint\u001b[0m\u001b[0;34m)\u001b[0m\u001b[0;34m:\u001b[0m\u001b[0;34m\u001b[0m\u001b[0;34m\u001b[0m\u001b[0m\n",
      "\u001b[0;32m~/miniconda3/envs/posoma/lib/python3.7/site-packages/pandas/core/indexing.py\u001b[0m in \u001b[0;36m_setitem_with_indexer\u001b[0;34m(self, indexer, value)\u001b[0m\n\u001b[1;32m    545\u001b[0m                     \u001b[0;32mif\u001b[0m \u001b[0mlen\u001b[0m\u001b[0;34m(\u001b[0m\u001b[0mlabels\u001b[0m\u001b[0;34m)\u001b[0m \u001b[0;34m!=\u001b[0m \u001b[0mlen\u001b[0m\u001b[0;34m(\u001b[0m\u001b[0mvalue\u001b[0m\u001b[0;34m)\u001b[0m\u001b[0;34m:\u001b[0m\u001b[0;34m\u001b[0m\u001b[0;34m\u001b[0m\u001b[0m\n\u001b[1;32m    546\u001b[0m                         raise ValueError(\n\u001b[0;32m--> 547\u001b[0;31m                             \u001b[0;34m\"Must have equal len keys and value \"\u001b[0m\u001b[0;34m\u001b[0m\u001b[0;34m\u001b[0m\u001b[0m\n\u001b[0m\u001b[1;32m    548\u001b[0m                             \u001b[0;34m\"when setting with an iterable\"\u001b[0m\u001b[0;34m\u001b[0m\u001b[0;34m\u001b[0m\u001b[0m\n\u001b[1;32m    549\u001b[0m                         )\n",
      "\u001b[0;31mValueError\u001b[0m: Must have equal len keys and value when setting with an iterable"
     ]
    }
   ],
   "source": [
    "df_1.iloc[:, 6:] = df_1.comment_text.apply(lambda s: embedding(s, 'rude'))"
   ]
  },
  {
   "cell_type": "code",
   "execution_count": 385,
   "metadata": {},
   "outputs": [],
   "source": [
    "df_tmp = df_1.iloc[:5]"
   ]
  },
  {
   "cell_type": "code",
   "execution_count": 390,
   "metadata": {},
   "outputs": [
    {
     "name": "stderr",
     "output_type": "stream",
     "text": [
      "/home/posoma/miniconda3/envs/posoma/lib/python3.7/site-packages/pandas/core/indexing.py:494: SettingWithCopyWarning: \n",
      "A value is trying to be set on a copy of a slice from a DataFrame.\n",
      "Try using .loc[row_indexer,col_indexer] = value instead\n",
      "\n",
      "See the caveats in the documentation: http://pandas.pydata.org/pandas-docs/stable/user_guide/indexing.html#returning-a-view-versus-a-copy\n",
      "  self.obj[item] = s\n"
     ]
    }
   ],
   "source": [
    "df_tmp.iloc[0,6:] = df_tmp.sent_emb_all[0]"
   ]
  },
  {
   "cell_type": "code",
   "execution_count": 396,
   "metadata": {},
   "outputs": [
    {
     "data": {
      "text/plain": [
       "array([[ 0.008896,  0.034835,  0.091158, -0.001808, ..., -0.001937,  0.087386,  0.031454,  0.009348]], dtype=float32)"
      ]
     },
     "execution_count": 396,
     "metadata": {},
     "output_type": "execute_result"
    }
   ],
   "source": [
    "df_tmp.at[df_tmp.index[0], 'sent_emb_all']"
   ]
  },
  {
   "cell_type": "code",
   "execution_count": 397,
   "metadata": {},
   "outputs": [
    {
     "name": "stderr",
     "output_type": "stream",
     "text": [
      "/home/posoma/miniconda3/envs/posoma/lib/python3.7/site-packages/pandas/core/indexing.py:494: SettingWithCopyWarning: \n",
      "A value is trying to be set on a copy of a slice from a DataFrame.\n",
      "Try using .loc[row_indexer,col_indexer] = value instead\n",
      "\n",
      "See the caveats in the documentation: http://pandas.pydata.org/pandas-docs/stable/user_guide/indexing.html#returning-a-view-versus-a-copy\n",
      "  self.obj[item] = s\n"
     ]
    }
   ],
   "source": [
    "df_tmp.iloc[0, 6:] = df_tmp.at[df_tmp.index[0], 'sent_emb_all']"
   ]
  },
  {
   "cell_type": "code",
   "execution_count": 403,
   "metadata": {},
   "outputs": [
    {
     "data": {
      "text/plain": [
       "0.008896431885659695"
      ]
     },
     "execution_count": 403,
     "metadata": {},
     "output_type": "execute_result"
    }
   ],
   "source": [
    "df_tmp.sent_emb_0[4657][0]"
   ]
  },
  {
   "cell_type": "code",
   "execution_count": 351,
   "metadata": {},
   "outputs": [],
   "source": [
    "b = embedding(\"หน้าหมา\")"
   ]
  },
  {
   "cell_type": "code",
   "execution_count": 353,
   "metadata": {},
   "outputs": [
    {
     "name": "stdout",
     "output_type": "stream",
     "text": [
      "[[-0.001561 -0.006691 -0.038699  0.022102 ... -0.00047   0.011359  0.087136 -0.003541]]\n",
      "[[-0.002986  0.05515  -0.001198 -0.0009   ...  0.001058  0.003904  0.002604  0.002235]]\n"
     ]
    }
   ],
   "source": [
    "print(a)\n",
    "print(b)"
   ]
  },
  {
   "cell_type": "code",
   "execution_count": 289,
   "metadata": {
    "scrolled": true
   },
   "outputs": [
    {
     "data": {
      "text/plain": [
       "(tensor([[   2,    9,   15,  313,  184,    0,  453, 5202,   11,   12,   83,    0,\n",
       "            59,   76]], device='cuda:0'), tensor([0], device='cuda:0'))"
      ]
     },
     "execution_count": 289,
     "metadata": {},
     "output_type": "execute_result"
    }
   ],
   "source": [
    "learn_tmp.data.one_item(test_lm[0])"
   ]
  },
  {
   "cell_type": "code",
   "execution_count": 245,
   "metadata": {},
   "outputs": [
    {
     "data": {
      "text/plain": [
       "str"
      ]
     },
     "execution_count": 245,
     "metadata": {},
     "output_type": "execute_result"
    }
   ],
   "source": [
    "type(data_lm[0])"
   ]
  },
  {
   "cell_type": "code",
   "execution_count": 187,
   "metadata": {},
   "outputs": [],
   "source": [
    "awd_lstm = learn_tmp.model[0] # เลือก layer แรก ที่ทำการ encoder"
   ]
  },
  {
   "cell_type": "code",
   "execution_count": 246,
   "metadata": {},
   "outputs": [
    {
     "data": {
      "text/plain": [
       "'ไม่เรียกการ์เด็นยาร์ทไปเลยละสัสทไอ้ควาย'"
      ]
     },
     "execution_count": 246,
     "metadata": {},
     "output_type": "execute_result"
    }
   ],
   "source": [
    "data_lm[0]"
   ]
  },
  {
   "cell_type": "code",
   "execution_count": 247,
   "metadata": {},
   "outputs": [],
   "source": [
    "xb, yb = learn_tmp.data.one_item(data_lm[0])"
   ]
  },
  {
   "cell_type": "code",
   "execution_count": 250,
   "metadata": {},
   "outputs": [
    {
     "data": {
      "text/plain": [
       "tensor([[   2,    9,   15,  313,  184,    0,  453, 5202,   11,   12,   83,    0,\n",
       "           59,   76]], device='cuda:0')"
      ]
     },
     "execution_count": 250,
     "metadata": {},
     "output_type": "execute_result"
    }
   ],
   "source": [
    "xb"
   ]
  },
  {
   "cell_type": "code",
   "execution_count": 251,
   "metadata": {},
   "outputs": [],
   "source": [
    "xb, yb = learn_tmp.data.one_item(data_lm[0]) # เอา data_lm ตัวแรกออกมา"
   ]
  },
  {
   "cell_type": "code",
   "execution_count": 222,
   "metadata": {},
   "outputs": [
    {
     "data": {
      "text/plain": [
       "torch.Size([1, 17])"
      ]
     },
     "execution_count": 222,
     "metadata": {},
     "output_type": "execute_result"
    }
   ],
   "source": [
    "xb.shape"
   ]
  },
  {
   "cell_type": "code",
   "execution_count": 265,
   "metadata": {},
   "outputs": [],
   "source": []
  },
  {
   "cell_type": "code",
   "execution_count": 284,
   "metadata": {},
   "outputs": [
    {
     "name": "stdout",
     "output_type": "stream",
     "text": [
      "0.007349208\n"
     ]
    }
   ],
   "source": [
    "start = time.time_ns()\n",
    "awd_lstm.reset()\n",
    "awd_lstm.eval()\n",
    "with torch.no_grad():\n",
    "    out = awd_lstm.eval()(xb)\n",
    "    encoded_rep = out[0][-1]  # last layer?\n",
    "    sentence_rep = encoded_rep[:, -1, :]  # last token?\n",
    "end = time.time_ns()\n",
    "print((end - start) / 1e9)"
   ]
  },
  {
   "cell_type": "code",
   "execution_count": 275,
   "metadata": {},
   "outputs": [
    {
     "data": {
      "text/plain": [
       "1000000000.0"
      ]
     },
     "execution_count": 275,
     "metadata": {},
     "output_type": "execute_result"
    }
   ],
   "source": []
  },
  {
   "cell_type": "code",
   "execution_count": 268,
   "metadata": {},
   "outputs": [
    {
     "data": {
      "text/plain": [
       "<function time.time_ns>"
      ]
     },
     "execution_count": 268,
     "metadata": {},
     "output_type": "execute_result"
    }
   ],
   "source": [
    "start"
   ]
  },
  {
   "cell_type": "code",
   "execution_count": 211,
   "metadata": {},
   "outputs": [
    {
     "data": {
      "text/plain": [
       "array([[-0.001266, -0.013044, -0.005869,  0.016881, ..., -0.021768, -0.039975,  0.003019,  0.027363]], dtype=float32)"
      ]
     },
     "execution_count": 211,
     "metadata": {},
     "output_type": "execute_result"
    }
   ],
   "source": [
    "sentence_rep"
   ]
  },
  {
   "cell_type": "code",
   "execution_count": 219,
   "metadata": {},
   "outputs": [
    {
     "data": {
      "text/plain": [
       "MultiBatchEncoder(\n",
       "  (module): AWD_LSTM(\n",
       "    (encoder): Embedding(10736, 400, padding_idx=1)\n",
       "    (encoder_dp): EmbeddingDropout(\n",
       "      (emb): Embedding(10736, 400, padding_idx=1)\n",
       "    )\n",
       "    (rnns): ModuleList(\n",
       "      (0): WeightDropout(\n",
       "        (module): LSTM(400, 1550, batch_first=True)\n",
       "      )\n",
       "      (1): WeightDropout(\n",
       "        (module): LSTM(1550, 1550, batch_first=True)\n",
       "      )\n",
       "      (2): WeightDropout(\n",
       "        (module): LSTM(1550, 1550, batch_first=True)\n",
       "      )\n",
       "      (3): WeightDropout(\n",
       "        (module): LSTM(1550, 400, batch_first=True)\n",
       "      )\n",
       "    )\n",
       "    (input_dp): RNNDropout()\n",
       "    (hidden_dps): ModuleList(\n",
       "      (0): RNNDropout()\n",
       "      (1): RNNDropout()\n",
       "      (2): RNNDropout()\n",
       "      (3): RNNDropout()\n",
       "    )\n",
       "  )\n",
       ")"
      ]
     },
     "execution_count": 219,
     "metadata": {},
     "output_type": "execute_result"
    }
   ],
   "source": [
    "awd_lstm"
   ]
  },
  {
   "cell_type": "code",
   "execution_count": 214,
   "metadata": {},
   "outputs": [
    {
     "data": {
      "text/plain": [
       "torch.Size([1, 17, 400])"
      ]
     },
     "execution_count": 214,
     "metadata": {},
     "output_type": "execute_result"
    }
   ],
   "source": [
    "out[0][-1].shape"
   ]
  },
  {
   "cell_type": "code",
   "execution_count": 202,
   "metadata": {},
   "outputs": [],
   "source": [
    "sentence_rep = sentence_rep.cpu().detach().numpy()"
   ]
  },
  {
   "cell_type": "code",
   "execution_count": 210,
   "metadata": {},
   "outputs": [
    {
     "data": {
      "text/plain": [
       "array([[-0.001266, -0.013044, -0.005869,  0.016881, ..., -0.021768, -0.039975,  0.003019,  0.027363]], dtype=float32)"
      ]
     },
     "execution_count": 210,
     "metadata": {},
     "output_type": "execute_result"
    }
   ],
   "source": [
    "sentence_rep.shape"
   ]
  },
  {
   "cell_type": "code",
   "execution_count": null,
   "metadata": {},
   "outputs": [],
   "source": []
  }
 ],
 "metadata": {
  "accelerator": "GPU",
  "colab": {
   "authorship_tag": "ABX9TyO4YoSXvGSs8CR2WGoLyJws",
   "name": "Untitled0.ipynb",
   "provenance": []
  },
  "kernelspec": {
   "display_name": "Python 3",
   "language": "python",
   "name": "python3"
  },
  "language_info": {
   "codemirror_mode": {
    "name": "ipython",
    "version": 3
   },
   "file_extension": ".py",
   "mimetype": "text/x-python",
   "name": "python",
   "nbconvert_exporter": "python",
   "pygments_lexer": "ipython3",
   "version": "3.7.5"
  }
 },
 "nbformat": 4,
 "nbformat_minor": 1
}
